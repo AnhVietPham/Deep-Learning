{
  "nbformat": 4,
  "nbformat_minor": 0,
  "metadata": {
    "colab": {
      "name": "CNN-Training-Neural-Network.ipynb",
      "provenance": [],
      "authorship_tag": "ABX9TyOHYParlEbizcpgzCp8AZ15",
      "include_colab_link": true
    },
    "kernelspec": {
      "name": "python3",
      "display_name": "Python 3"
    },
    "language_info": {
      "name": "python"
    }
  },
  "cells": [
    {
      "cell_type": "markdown",
      "metadata": {
        "id": "view-in-github",
        "colab_type": "text"
      },
      "source": [
        "<a href=\"https://colab.research.google.com/github/AnhVietPham/Deep-Learning/blob/main/DL-Pytorch/training-using-a-single-batch/CNN_Training_Neural_Network.ipynb\" target=\"_parent\"><img src=\"https://colab.research.google.com/assets/colab-badge.svg\" alt=\"Open In Colab\"/></a>"
      ]
    },
    {
      "cell_type": "code",
      "metadata": {
        "id": "dNDTAKmTYtfx"
      },
      "source": [
        "import torch\n",
        "import torchvision\n",
        "import torchvision.transforms as transforms\n",
        "import torch.nn.functional as F\n",
        "import torch.nn as nn\n",
        "import torch.optim as optim\n",
        "import matplotlib.pyplot as plt\n",
        "import numpy as np"
      ],
      "execution_count": 33,
      "outputs": []
    },
    {
      "cell_type": "code",
      "metadata": {
        "id": "jzsv4CPLY5Sn"
      },
      "source": [
        "train_set = torchvision.datasets.FashionMNIST(\n",
        "    root='./root',\n",
        "    train = True,\n",
        "    download=True,\n",
        "    transform = transforms.Compose([\n",
        "        transforms.ToTensor()\n",
        "    ])\n",
        ")"
      ],
      "execution_count": 34,
      "outputs": []
    },
    {
      "cell_type": "code",
      "metadata": {
        "id": "6BTjr3hCY58K"
      },
      "source": [
        "train_loader = torch.utils.data.DataLoader(train_set, batch_size=100)\n",
        "batch = next(iter(train_loader))\n",
        "images, labels = batch"
      ],
      "execution_count": 35,
      "outputs": []
    },
    {
      "cell_type": "code",
      "metadata": {
        "id": "We5I1dHIZYF2"
      },
      "source": [
        "class Network(nn.Module):\n",
        "  def __init__(self):\n",
        "    super().__init__()\n",
        "    self.conv1 = nn.Conv2d(in_channels=1, out_channels=6, kernel_size=5)\n",
        "    self.conv2 = nn.Conv2d(in_channels=6, out_channels=12, kernel_size=5)\n",
        "\n",
        "    self.fc1 = nn.Linear(in_features=12*4*4, out_features=120)\n",
        "    self.fc2 = nn.Linear(in_features=120, out_features=60)\n",
        "    self.out = nn.Linear(in_features=60, out_features=10)\n",
        "\n",
        "  def forward(self,t):\n",
        "    t = F.relu(self.conv1(t))\n",
        "    t = F.max_pool2d(t, kernel_size=2, stride=2)\n",
        "        \n",
        "    t = F.relu(self.conv2(t))\n",
        "    t = F.max_pool2d(t, kernel_size=2, stride=2)\n",
        "        \n",
        "    t = F.relu(self.fc1(t.reshape(-1, 12*4*4)))\n",
        "    t = F.relu(self.fc2(t))\n",
        "    t = self.out(t)\n",
        "\n",
        "    return t"
      ],
      "execution_count": 36,
      "outputs": []
    },
    {
      "cell_type": "code",
      "metadata": {
        "id": "lKZtYMyMZjAv"
      },
      "source": [
        "network = Network()"
      ],
      "execution_count": 37,
      "outputs": []
    },
    {
      "cell_type": "code",
      "metadata": {
        "colab": {
          "base_uri": "https://localhost:8080/"
        },
        "id": "OJXjS9omZo7Y",
        "outputId": "92446479-f824-4976-cd54-ce49a1dfee51"
      },
      "source": [
        "preds = network(images)\n",
        "preds.shape"
      ],
      "execution_count": 38,
      "outputs": [
        {
          "output_type": "execute_result",
          "data": {
            "text/plain": [
              "torch.Size([100, 10])"
            ]
          },
          "metadata": {
            "tags": []
          },
          "execution_count": 38
        }
      ]
    },
    {
      "cell_type": "code",
      "metadata": {
        "colab": {
          "base_uri": "https://localhost:8080/"
        },
        "id": "S1FqGT7HZvdZ",
        "outputId": "72d8c2c8-2a8d-4eba-b45f-a6730f259321"
      },
      "source": [
        "loss = F.cross_entropy(preds, labels)\n",
        "loss.item()"
      ],
      "execution_count": 39,
      "outputs": [
        {
          "output_type": "execute_result",
          "data": {
            "text/plain": [
              "2.3157882690429688"
            ]
          },
          "metadata": {
            "tags": []
          },
          "execution_count": 39
        }
      ]
    },
    {
      "cell_type": "code",
      "metadata": {
        "id": "OKc8lgF9aAAX"
      },
      "source": [
        "def get_num_correct(preds, labels):\n",
        "  return preds.argmax(dim = 1).eq(labels).sum().item()"
      ],
      "execution_count": 40,
      "outputs": []
    },
    {
      "cell_type": "code",
      "metadata": {
        "colab": {
          "base_uri": "https://localhost:8080/"
        },
        "id": "FoIxyrNDaA8a",
        "outputId": "29210d7f-9527-4725-eac7-60d63c195049"
      },
      "source": [
        "get_num_correct(preds, labels)"
      ],
      "execution_count": 41,
      "outputs": [
        {
          "output_type": "execute_result",
          "data": {
            "text/plain": [
              "9"
            ]
          },
          "metadata": {
            "tags": []
          },
          "execution_count": 41
        }
      ]
    },
    {
      "cell_type": "code",
      "metadata": {
        "colab": {
          "base_uri": "https://localhost:8080/"
        },
        "id": "4oVL2A2Qac1A",
        "outputId": "47ae3038-a575-4a59-be8e-317c84277e2c"
      },
      "source": [
        "print(network.conv1.weight.grad)"
      ],
      "execution_count": 42,
      "outputs": [
        {
          "output_type": "stream",
          "text": [
            "None\n"
          ],
          "name": "stdout"
        }
      ]
    },
    {
      "cell_type": "code",
      "metadata": {
        "id": "n0xDjod2ahUn"
      },
      "source": [
        "loss.backward()"
      ],
      "execution_count": 43,
      "outputs": []
    },
    {
      "cell_type": "code",
      "metadata": {
        "id": "qQicviUFa5hm"
      },
      "source": [
        "optimizer = optim.Adam(network.parameters(), lr=0.01)\n",
        "optimizer.step()"
      ],
      "execution_count": 44,
      "outputs": []
    },
    {
      "cell_type": "code",
      "metadata": {
        "colab": {
          "base_uri": "https://localhost:8080/"
        },
        "id": "rXDMkBX2bHVw",
        "outputId": "02ddaebe-802c-46ab-a12e-f6ede9d5bc4b"
      },
      "source": [
        "preds = network(images)\n",
        "print(f'loss1:{loss.item()}')"
      ],
      "execution_count": 45,
      "outputs": [
        {
          "output_type": "stream",
          "text": [
            "loss1:2.3157882690429688\n"
          ],
          "name": "stdout"
        }
      ]
    },
    {
      "cell_type": "code",
      "metadata": {
        "colab": {
          "base_uri": "https://localhost:8080/"
        },
        "id": "x_KlMIc3bQKt",
        "outputId": "c23ce6ce-14d4-422e-cee7-a35cc84b273e"
      },
      "source": [
        "loss = F.cross_entropy(preds, labels)\n",
        "print(f'loss2:{loss.item()}')"
      ],
      "execution_count": 46,
      "outputs": [
        {
          "output_type": "stream",
          "text": [
            "loss2:2.2845842838287354\n"
          ],
          "name": "stdout"
        }
      ]
    },
    {
      "cell_type": "code",
      "metadata": {
        "colab": {
          "base_uri": "https://localhost:8080/"
        },
        "id": "Qn3vTU7Nbn4x",
        "outputId": "588303d0-6e4f-4420-8b7d-2cedb0d4ef4a"
      },
      "source": [
        "get_num_correct(preds, labels)"
      ],
      "execution_count": 47,
      "outputs": [
        {
          "output_type": "execute_result",
          "data": {
            "text/plain": [
              "15"
            ]
          },
          "metadata": {
            "tags": []
          },
          "execution_count": 47
        }
      ]
    }
  ]
}