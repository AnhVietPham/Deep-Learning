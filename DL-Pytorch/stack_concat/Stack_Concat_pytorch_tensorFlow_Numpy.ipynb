{
  "nbformat": 4,
  "nbformat_minor": 0,
  "metadata": {
    "colab": {
      "name": "Stack-Concat-pytorch-tensorFlow-Numpy.ipynb",
      "provenance": [],
      "collapsed_sections": [],
      "authorship_tag": "ABX9TyMecRpqhu+y6uCBP6XJfYaJ",
      "include_colab_link": true
    },
    "kernelspec": {
      "name": "python3",
      "display_name": "Python 3"
    },
    "language_info": {
      "name": "python"
    }
  },
  "cells": [
    {
      "cell_type": "markdown",
      "metadata": {
        "id": "view-in-github",
        "colab_type": "text"
      },
      "source": [
        "<a href=\"https://colab.research.google.com/github/AnhVietPham/Deep-Learning/blob/main/DL-Pytorch/stack_concat/Stack_Concat_pytorch_tensorFlow_Numpy.ipynb\" target=\"_parent\"><img src=\"https://colab.research.google.com/assets/colab-badge.svg\" alt=\"Open In Colab\"/></a>"
      ]
    },
    {
      "cell_type": "code",
      "metadata": {
        "id": "NdWzcYUSrl3j"
      },
      "source": [
        "import torch"
      ],
      "execution_count": 2,
      "outputs": []
    },
    {
      "cell_type": "code",
      "metadata": {
        "colab": {
          "base_uri": "https://localhost:8080/"
        },
        "id": "p4Va0XY-rwRK",
        "outputId": "0ce98bd2-145d-4f32-e8c2-3ee5340c3007"
      },
      "source": [
        "t1 = torch.tensor([1,1,1])\n",
        "t1"
      ],
      "execution_count": 3,
      "outputs": [
        {
          "output_type": "execute_result",
          "data": {
            "text/plain": [
              "tensor([1, 1, 1])"
            ]
          },
          "metadata": {
            "tags": []
          },
          "execution_count": 3
        }
      ]
    },
    {
      "cell_type": "code",
      "metadata": {
        "colab": {
          "base_uri": "https://localhost:8080/"
        },
        "id": "1iyegrp8r4f_",
        "outputId": "8d92acba-d6e6-4bf9-d650-3b87ce935100"
      },
      "source": [
        "t1.unsqueeze(dim=0)"
      ],
      "execution_count": 4,
      "outputs": [
        {
          "output_type": "execute_result",
          "data": {
            "text/plain": [
              "tensor([[1, 1, 1]])"
            ]
          },
          "metadata": {
            "tags": []
          },
          "execution_count": 4
        }
      ]
    },
    {
      "cell_type": "code",
      "metadata": {
        "colab": {
          "base_uri": "https://localhost:8080/"
        },
        "id": "VLEmk34Ir7vC",
        "outputId": "0312c6af-3afa-4c51-d67e-9e7aff699fc3"
      },
      "source": [
        "t1.unsqueeze(dim=1)"
      ],
      "execution_count": 5,
      "outputs": [
        {
          "output_type": "execute_result",
          "data": {
            "text/plain": [
              "tensor([[1],\n",
              "        [1],\n",
              "        [1]])"
            ]
          },
          "metadata": {
            "tags": []
          },
          "execution_count": 5
        }
      ]
    },
    {
      "cell_type": "code",
      "metadata": {
        "colab": {
          "base_uri": "https://localhost:8080/"
        },
        "id": "OnVKKitKsNle",
        "outputId": "e1ddde02-0eda-41f7-afd6-253d1aaba96e"
      },
      "source": [
        "print(t1.shape)\n",
        "print(t1.unsqueeze(dim=0).shape)\n",
        "print(t1.unsqueeze(dim=1).shape)"
      ],
      "execution_count": 6,
      "outputs": [
        {
          "output_type": "stream",
          "text": [
            "torch.Size([3])\n",
            "torch.Size([1, 3])\n",
            "torch.Size([3, 1])\n"
          ],
          "name": "stdout"
        }
      ]
    },
    {
      "cell_type": "markdown",
      "metadata": {
        "id": "vFQczH0rsjxo"
      },
      "source": [
        "# **Stack Vs Cat In PyTorch**"
      ]
    },
    {
      "cell_type": "code",
      "metadata": {
        "id": "bJtXEHocsh73"
      },
      "source": [
        "t1 = torch.tensor([1,1,1])\n",
        "t2 = torch.tensor([2,2,2])\n",
        "t3 = torch.tensor([3,3,3])"
      ],
      "execution_count": 7,
      "outputs": []
    },
    {
      "cell_type": "code",
      "metadata": {
        "colab": {
          "base_uri": "https://localhost:8080/"
        },
        "id": "Sa10AW7IvGWG",
        "outputId": "3196dfc0-31d9-4a8f-f3f4-716430a42b45"
      },
      "source": [
        "print(t1.unsqueeze(dim=0))\n",
        "print(t1.unsqueeze(dim=1))"
      ],
      "execution_count": 8,
      "outputs": [
        {
          "output_type": "stream",
          "text": [
            "tensor([[1, 1, 1]])\n",
            "tensor([[1],\n",
            "        [1],\n",
            "        [1]])\n"
          ],
          "name": "stdout"
        }
      ]
    },
    {
      "cell_type": "code",
      "metadata": {
        "colab": {
          "base_uri": "https://localhost:8080/"
        },
        "id": "hpJoaKyDsulK",
        "outputId": "fce45679-e543-44b0-c14a-cc9c83b58fd7"
      },
      "source": [
        "torch.cat((t1,t2,t3), dim = 0)"
      ],
      "execution_count": 9,
      "outputs": [
        {
          "output_type": "execute_result",
          "data": {
            "text/plain": [
              "tensor([1, 1, 1, 2, 2, 2, 3, 3, 3])"
            ]
          },
          "metadata": {
            "tags": []
          },
          "execution_count": 9
        }
      ]
    },
    {
      "cell_type": "code",
      "metadata": {
        "colab": {
          "base_uri": "https://localhost:8080/"
        },
        "id": "V4fUyq-Ys6Dk",
        "outputId": "ae0f949d-2243-4231-cefd-ce4958e81c5a"
      },
      "source": [
        "torch.stack((t1,t2,t3), dim = 0)"
      ],
      "execution_count": 10,
      "outputs": [
        {
          "output_type": "execute_result",
          "data": {
            "text/plain": [
              "tensor([[1, 1, 1],\n",
              "        [2, 2, 2],\n",
              "        [3, 3, 3]])"
            ]
          },
          "metadata": {
            "tags": []
          },
          "execution_count": 10
        }
      ]
    },
    {
      "cell_type": "code",
      "metadata": {
        "colab": {
          "base_uri": "https://localhost:8080/"
        },
        "id": "BpbuihPntb8P",
        "outputId": "9c30204c-02b4-48b8-9251-aeb2b240346c"
      },
      "source": [
        "torch.cat((\n",
        "    t1.unsqueeze(0),\n",
        "    t2.unsqueeze(0),\n",
        "    t3.unsqueeze(0)\n",
        "), dim = 0)"
      ],
      "execution_count": 11,
      "outputs": [
        {
          "output_type": "execute_result",
          "data": {
            "text/plain": [
              "tensor([[1, 1, 1],\n",
              "        [2, 2, 2],\n",
              "        [3, 3, 3]])"
            ]
          },
          "metadata": {
            "tags": []
          },
          "execution_count": 11
        }
      ]
    },
    {
      "cell_type": "code",
      "metadata": {
        "colab": {
          "base_uri": "https://localhost:8080/"
        },
        "id": "BwdKNDRJtobt",
        "outputId": "02b7a08f-ff48-4574-b4be-c7977ef4b718"
      },
      "source": [
        "torch.stack((t1,t2,t3), dim = 1)"
      ],
      "execution_count": 12,
      "outputs": [
        {
          "output_type": "execute_result",
          "data": {
            "text/plain": [
              "tensor([[1, 2, 3],\n",
              "        [1, 2, 3],\n",
              "        [1, 2, 3]])"
            ]
          },
          "metadata": {
            "tags": []
          },
          "execution_count": 12
        }
      ]
    },
    {
      "cell_type": "code",
      "metadata": {
        "colab": {
          "base_uri": "https://localhost:8080/"
        },
        "id": "3TDuuX1tuyYs",
        "outputId": "1e9a796b-a0b9-408d-d85b-e3015a0b7a97"
      },
      "source": [
        "torch.cat((\n",
        "    t1.unsqueeze(1),\n",
        "    t2.unsqueeze(1),\n",
        "    t3.unsqueeze(1)\n",
        "), dim = 1)"
      ],
      "execution_count": 13,
      "outputs": [
        {
          "output_type": "execute_result",
          "data": {
            "text/plain": [
              "tensor([[1, 2, 3],\n",
              "        [1, 2, 3],\n",
              "        [1, 2, 3]])"
            ]
          },
          "metadata": {
            "tags": []
          },
          "execution_count": 13
        }
      ]
    },
    {
      "cell_type": "markdown",
      "metadata": {
        "id": "6wxpVdrbvS_G"
      },
      "source": [
        "# **Stack Vs Concat In TensorFlow**"
      ]
    },
    {
      "cell_type": "code",
      "metadata": {
        "id": "flAQ2WSrvTp9"
      },
      "source": [
        "import tensorflow as tf"
      ],
      "execution_count": 14,
      "outputs": []
    },
    {
      "cell_type": "code",
      "metadata": {
        "id": "f7mnhJ_nvWwe"
      },
      "source": [
        "t1 = tf.constant([1,1,1])\n",
        "t2 = tf.constant([2,2,2])\n",
        "t3 = tf.constant([3,3,3])"
      ],
      "execution_count": 15,
      "outputs": []
    },
    {
      "cell_type": "code",
      "metadata": {
        "colab": {
          "base_uri": "https://localhost:8080/"
        },
        "id": "ROtXJBtZwiU-",
        "outputId": "b5dcbc1a-fdda-427b-fe2c-bebdb0d2cce6"
      },
      "source": [
        "tf.concat((t1,t2,t3), axis = 0)"
      ],
      "execution_count": 16,
      "outputs": [
        {
          "output_type": "execute_result",
          "data": {
            "text/plain": [
              "<tf.Tensor: shape=(9,), dtype=int32, numpy=array([1, 1, 1, 2, 2, 2, 3, 3, 3], dtype=int32)>"
            ]
          },
          "metadata": {
            "tags": []
          },
          "execution_count": 16
        }
      ]
    },
    {
      "cell_type": "code",
      "metadata": {
        "colab": {
          "base_uri": "https://localhost:8080/"
        },
        "id": "DuV6FgxOwtZO",
        "outputId": "99c2ad3a-c597-44b9-9394-8c1f9d29674e"
      },
      "source": [
        "tf.stack((t1,t2,t3), axis = 0)"
      ],
      "execution_count": 17,
      "outputs": [
        {
          "output_type": "execute_result",
          "data": {
            "text/plain": [
              "<tf.Tensor: shape=(3, 3), dtype=int32, numpy=\n",
              "array([[1, 1, 1],\n",
              "       [2, 2, 2],\n",
              "       [3, 3, 3]], dtype=int32)>"
            ]
          },
          "metadata": {
            "tags": []
          },
          "execution_count": 17
        }
      ]
    },
    {
      "cell_type": "code",
      "metadata": {
        "colab": {
          "base_uri": "https://localhost:8080/"
        },
        "id": "T80OCjctwygf",
        "outputId": "2ec0c718-2613-4c60-c1ad-255b038de320"
      },
      "source": [
        "tf.concat((\n",
        "    tf.expand_dims(t1,0),\n",
        "    tf.expand_dims(t2,0),\n",
        "    tf.expand_dims(t3,0)\n",
        "), axis=0)"
      ],
      "execution_count": 18,
      "outputs": [
        {
          "output_type": "execute_result",
          "data": {
            "text/plain": [
              "<tf.Tensor: shape=(3, 3), dtype=int32, numpy=\n",
              "array([[1, 1, 1],\n",
              "       [2, 2, 2],\n",
              "       [3, 3, 3]], dtype=int32)>"
            ]
          },
          "metadata": {
            "tags": []
          },
          "execution_count": 18
        }
      ]
    },
    {
      "cell_type": "code",
      "metadata": {
        "colab": {
          "base_uri": "https://localhost:8080/"
        },
        "id": "6nw19joWxGlV",
        "outputId": "871f3978-ed2a-4119-8028-980746e5fc36"
      },
      "source": [
        "tf.stack(\n",
        "    (t1,t2,t3),\n",
        "    axis = 1\n",
        ")"
      ],
      "execution_count": 19,
      "outputs": [
        {
          "output_type": "execute_result",
          "data": {
            "text/plain": [
              "<tf.Tensor: shape=(3, 3), dtype=int32, numpy=\n",
              "array([[1, 2, 3],\n",
              "       [1, 2, 3],\n",
              "       [1, 2, 3]], dtype=int32)>"
            ]
          },
          "metadata": {
            "tags": []
          },
          "execution_count": 19
        }
      ]
    },
    {
      "cell_type": "code",
      "metadata": {
        "colab": {
          "base_uri": "https://localhost:8080/"
        },
        "id": "KYsFgXfoxLrD",
        "outputId": "49f07805-7a61-4341-c8b6-26b12a75e20d"
      },
      "source": [
        "tf.concat((\n",
        "    tf.expand_dims(t1,1),\n",
        "    tf.expand_dims(t2,1),\n",
        "    tf.expand_dims(t3,1)\n",
        "), axis = 1)"
      ],
      "execution_count": 20,
      "outputs": [
        {
          "output_type": "execute_result",
          "data": {
            "text/plain": [
              "<tf.Tensor: shape=(3, 3), dtype=int32, numpy=\n",
              "array([[1, 2, 3],\n",
              "       [1, 2, 3],\n",
              "       [1, 2, 3]], dtype=int32)>"
            ]
          },
          "metadata": {
            "tags": []
          },
          "execution_count": 20
        }
      ]
    },
    {
      "cell_type": "markdown",
      "metadata": {
        "id": "2BAXNmsvxZU3"
      },
      "source": [
        "# **Stack Vs Concatenate In NumPy**"
      ]
    },
    {
      "cell_type": "code",
      "metadata": {
        "id": "iXGKqOmLxaFu"
      },
      "source": [
        "import numpy as np\n"
      ],
      "execution_count": 21,
      "outputs": []
    },
    {
      "cell_type": "code",
      "metadata": {
        "id": "4fKTEe6oxcFM"
      },
      "source": [
        "t1 = np.array([1,1,1])\n",
        "t2 = np.array([2,2,2])\n",
        "t3 = np.array([3,3,3])"
      ],
      "execution_count": 22,
      "outputs": []
    },
    {
      "cell_type": "code",
      "metadata": {
        "colab": {
          "base_uri": "https://localhost:8080/"
        },
        "id": "_TpVswbUxjwY",
        "outputId": "99a44d8a-8ac6-4eb8-a608-326abb5140ba"
      },
      "source": [
        "np.concatenate((t1,t2,t3), axis = 0)"
      ],
      "execution_count": 23,
      "outputs": [
        {
          "output_type": "execute_result",
          "data": {
            "text/plain": [
              "array([1, 1, 1, 2, 2, 2, 3, 3, 3])"
            ]
          },
          "metadata": {
            "tags": []
          },
          "execution_count": 23
        }
      ]
    },
    {
      "cell_type": "code",
      "metadata": {
        "colab": {
          "base_uri": "https://localhost:8080/"
        },
        "id": "dhd18BBhxtSJ",
        "outputId": "ae89a1e4-c47a-4743-824c-5650243fbbce"
      },
      "source": [
        "np.stack(\n",
        "    (t1,t2,t3),\n",
        "    axis = 0\n",
        ")"
      ],
      "execution_count": 24,
      "outputs": [
        {
          "output_type": "execute_result",
          "data": {
            "text/plain": [
              "array([[1, 1, 1],\n",
              "       [2, 2, 2],\n",
              "       [3, 3, 3]])"
            ]
          },
          "metadata": {
            "tags": []
          },
          "execution_count": 24
        }
      ]
    },
    {
      "cell_type": "code",
      "metadata": {
        "colab": {
          "base_uri": "https://localhost:8080/"
        },
        "id": "h3r52iRxxzla",
        "outputId": "fbad206e-6723-4c8c-c69b-de980c8eb9dc"
      },
      "source": [
        "np.concatenate(\n",
        "    (\n",
        "        np.expand_dims(t1, 0),\n",
        "        np.expand_dims(t2, 0),\n",
        "        np.expand_dims(t3, 0)\n",
        "    ),\n",
        "    axis = 0\n",
        ")"
      ],
      "execution_count": 25,
      "outputs": [
        {
          "output_type": "execute_result",
          "data": {
            "text/plain": [
              "array([[1, 1, 1],\n",
              "       [2, 2, 2],\n",
              "       [3, 3, 3]])"
            ]
          },
          "metadata": {
            "tags": []
          },
          "execution_count": 25
        }
      ]
    },
    {
      "cell_type": "markdown",
      "metadata": {
        "id": "uDf-Hr9zrjU7"
      },
      "source": [
        "# **Joining Images Into A Single Batch**"
      ]
    },
    {
      "cell_type": "code",
      "metadata": {
        "id": "egZCytiHrSNZ"
      },
      "source": [
        "t1 = torch.zeros(3,28,28)\n",
        "t2 = torch.zeros(3,28,28)\n",
        "t3 = torch.zeros(3,28,28)"
      ],
      "execution_count": 26,
      "outputs": []
    },
    {
      "cell_type": "code",
      "metadata": {
        "colab": {
          "base_uri": "https://localhost:8080/"
        },
        "id": "AcMV2MZnr6DL",
        "outputId": "2bc0ff51-ee14-4551-b4ff-eb99f4b8914b"
      },
      "source": [
        "torch.stack(\n",
        "    (t1,t2,t3),\n",
        "    dim = 0\n",
        ").shape"
      ],
      "execution_count": 28,
      "outputs": [
        {
          "output_type": "execute_result",
          "data": {
            "text/plain": [
              "torch.Size([3, 3, 28, 28])"
            ]
          },
          "metadata": {
            "tags": []
          },
          "execution_count": 28
        }
      ]
    },
    {
      "cell_type": "markdown",
      "metadata": {
        "id": "9_cJEX8SsEiI"
      },
      "source": [
        "# **Joining Batches Into A Single Batch**"
      ]
    },
    {
      "cell_type": "code",
      "metadata": {
        "id": "c2waXJLFsFP2"
      },
      "source": [
        "t1 = torch.zeros(1,3,28,28)\n",
        "t2 = torch.zeros(1,3,28,28)\n",
        "t3 = torch.zeros(1,3,28,28)"
      ],
      "execution_count": 31,
      "outputs": []
    },
    {
      "cell_type": "code",
      "metadata": {
        "colab": {
          "base_uri": "https://localhost:8080/"
        },
        "id": "PeFc-XEosjpQ",
        "outputId": "330222cd-7f61-4389-fcfb-fdf00cd41b0a"
      },
      "source": [
        "torch.cat(\n",
        "    (t1,t2,t3),\n",
        "    dim = 0\n",
        ").shape"
      ],
      "execution_count": 32,
      "outputs": [
        {
          "output_type": "execute_result",
          "data": {
            "text/plain": [
              "torch.Size([3, 3, 28, 28])"
            ]
          },
          "metadata": {
            "tags": []
          },
          "execution_count": 32
        }
      ]
    },
    {
      "cell_type": "markdown",
      "metadata": {
        "id": "sthsyi8as4FG"
      },
      "source": [
        "# **Joining Images With An Existing Batch**"
      ]
    },
    {
      "cell_type": "code",
      "metadata": {
        "id": "W5drjq0Js4x-"
      },
      "source": [
        "batch = torch.zeros(3,3,28,28)\n",
        "t1 = torch.zeros(3,28,28)\n",
        "t2 = torch.zeros(3,28,28)\n",
        "t3 = torch.zeros(3,28,28)"
      ],
      "execution_count": 33,
      "outputs": []
    },
    {
      "cell_type": "code",
      "metadata": {
        "colab": {
          "base_uri": "https://localhost:8080/"
        },
        "id": "186iNvBUtVMx",
        "outputId": "cb609d9b-27cf-417b-e0d6-4eb05b0ae9e4"
      },
      "source": [
        "images_batch = torch.stack(\n",
        "    (t1,t2,t3),\n",
        "    dim = 0\n",
        ")\n",
        "images_batch.shape"
      ],
      "execution_count": 35,
      "outputs": [
        {
          "output_type": "execute_result",
          "data": {
            "text/plain": [
              "torch.Size([3, 3, 28, 28])"
            ]
          },
          "metadata": {
            "tags": []
          },
          "execution_count": 35
        }
      ]
    },
    {
      "cell_type": "code",
      "metadata": {
        "colab": {
          "base_uri": "https://localhost:8080/"
        },
        "id": "URw5caoMtg_S",
        "outputId": "55a1a09e-3098-4f03-bb9a-5eeeac053348"
      },
      "source": [
        "torch.cat(\n",
        "    (batch, images_batch),\n",
        "    dim = 0\n",
        ").shape"
      ],
      "execution_count": 38,
      "outputs": [
        {
          "output_type": "execute_result",
          "data": {
            "text/plain": [
              "torch.Size([6, 3, 28, 28])"
            ]
          },
          "metadata": {
            "tags": []
          },
          "execution_count": 38
        }
      ]
    },
    {
      "cell_type": "code",
      "metadata": {
        "colab": {
          "base_uri": "https://localhost:8080/"
        },
        "id": "Nj-1kMNxttUj",
        "outputId": "adfd3e08-7c62-42b6-c903-9ecc12a27767"
      },
      "source": [
        "torch.cat(\n",
        "    (\n",
        "        batch,\n",
        "        t1.unsqueeze(0),\n",
        "        t2.unsqueeze(0),\n",
        "        t3.unsqueeze(0)\n",
        "    ), dim = 0\n",
        ").shape"
      ],
      "execution_count": 42,
      "outputs": [
        {
          "output_type": "execute_result",
          "data": {
            "text/plain": [
              "torch.Size([6, 3, 28, 28])"
            ]
          },
          "metadata": {
            "tags": []
          },
          "execution_count": 42
        }
      ]
    }
  ]
}