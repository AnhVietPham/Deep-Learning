{
  "nbformat": 4,
  "nbformat_minor": 0,
  "metadata": {
    "colab": {
      "name": "Broadcasting-element-wise-operation.ipynb",
      "provenance": [],
      "authorship_tag": "ABX9TyNFTH+M0EMjxrUwY5MsFo/D",
      "include_colab_link": true
    },
    "kernelspec": {
      "name": "python3",
      "display_name": "Python 3"
    },
    "language_info": {
      "name": "python"
    }
  },
  "cells": [
    {
      "cell_type": "markdown",
      "metadata": {
        "id": "view-in-github",
        "colab_type": "text"
      },
      "source": [
        "<a href=\"https://colab.research.google.com/github/AnhVietPham/Deep-Learning/blob/main/DL-Pytorch/element-wise-operation/Broadcasting_element_wise_operation.ipynb\" target=\"_parent\"><img src=\"https://colab.research.google.com/assets/colab-badge.svg\" alt=\"Open In Colab\"/></a>"
      ]
    },
    {
      "cell_type": "code",
      "metadata": {
        "id": "rIpgyF2GE_Xe"
      },
      "source": [
        "import torch\n",
        "import numpy as np"
      ],
      "execution_count": 13,
      "outputs": []
    },
    {
      "cell_type": "code",
      "metadata": {
        "id": "Jr98Enm5FYRx"
      },
      "source": [
        "t1 = torch.tensor([\n",
        "    [1,2],\n",
        "    [3,4]\n",
        "], dtype = torch.float32)\n",
        "\n",
        "t2 = torch.tensor([\n",
        "    [9,8],\n",
        "    [7,6]\n",
        "], dtype = torch.float32)"
      ],
      "execution_count": 2,
      "outputs": []
    },
    {
      "cell_type": "markdown",
      "metadata": {
        "id": "bCihhHeGFxwi"
      },
      "source": [
        "# **Addition Is An Element-Wise Operation**"
      ]
    },
    {
      "cell_type": "code",
      "metadata": {
        "colab": {
          "base_uri": "https://localhost:8080/"
        },
        "id": "tiEZnzh2FqDy",
        "outputId": "400d4b84-bd01-48da-bd9d-cf44ff23a535"
      },
      "source": [
        "t1 + t2"
      ],
      "execution_count": 3,
      "outputs": [
        {
          "output_type": "execute_result",
          "data": {
            "text/plain": [
              "tensor([[10., 10.],\n",
              "        [10., 10.]])"
            ]
          },
          "metadata": {
            "tags": []
          },
          "execution_count": 3
        }
      ]
    },
    {
      "cell_type": "code",
      "metadata": {
        "colab": {
          "base_uri": "https://localhost:8080/"
        },
        "id": "fHnn3XU-F977",
        "outputId": "6231574c-9e87-4667-8a6b-0c5181bc05fd"
      },
      "source": [
        "t1 + 2"
      ],
      "execution_count": 4,
      "outputs": [
        {
          "output_type": "execute_result",
          "data": {
            "text/plain": [
              "tensor([[3., 4.],\n",
              "        [5., 6.]])"
            ]
          },
          "metadata": {
            "tags": []
          },
          "execution_count": 4
        }
      ]
    },
    {
      "cell_type": "code",
      "metadata": {
        "colab": {
          "base_uri": "https://localhost:8080/"
        },
        "id": "WNIwa-9FGBgb",
        "outputId": "1e696c6c-f681-4748-989a-0d44cd1b9386"
      },
      "source": [
        "t1 - 2"
      ],
      "execution_count": 5,
      "outputs": [
        {
          "output_type": "execute_result",
          "data": {
            "text/plain": [
              "tensor([[-1.,  0.],\n",
              "        [ 1.,  2.]])"
            ]
          },
          "metadata": {
            "tags": []
          },
          "execution_count": 5
        }
      ]
    },
    {
      "cell_type": "code",
      "metadata": {
        "colab": {
          "base_uri": "https://localhost:8080/"
        },
        "id": "oei2b9gEGDsA",
        "outputId": "c7350131-0204-4ff3-d11b-697260b97200"
      },
      "source": [
        "t1 * 2"
      ],
      "execution_count": 6,
      "outputs": [
        {
          "output_type": "execute_result",
          "data": {
            "text/plain": [
              "tensor([[2., 4.],\n",
              "        [6., 8.]])"
            ]
          },
          "metadata": {
            "tags": []
          },
          "execution_count": 6
        }
      ]
    },
    {
      "cell_type": "code",
      "metadata": {
        "colab": {
          "base_uri": "https://localhost:8080/"
        },
        "id": "F8QisYEjGFbc",
        "outputId": "a8b6424e-d55f-4eb3-afd7-a2d9b9e96378"
      },
      "source": [
        "t1 / 2"
      ],
      "execution_count": 7,
      "outputs": [
        {
          "output_type": "execute_result",
          "data": {
            "text/plain": [
              "tensor([[0.5000, 1.0000],\n",
              "        [1.5000, 2.0000]])"
            ]
          },
          "metadata": {
            "tags": []
          },
          "execution_count": 7
        }
      ]
    },
    {
      "cell_type": "code",
      "metadata": {
        "colab": {
          "base_uri": "https://localhost:8080/"
        },
        "id": "ygZV8m9kGIBa",
        "outputId": "bb1f2016-930f-48a0-85b2-ef6ea698fc53"
      },
      "source": [
        "t1.add(2)"
      ],
      "execution_count": 8,
      "outputs": [
        {
          "output_type": "execute_result",
          "data": {
            "text/plain": [
              "tensor([[3., 4.],\n",
              "        [5., 6.]])"
            ]
          },
          "metadata": {
            "tags": []
          },
          "execution_count": 8
        }
      ]
    },
    {
      "cell_type": "code",
      "metadata": {
        "colab": {
          "base_uri": "https://localhost:8080/"
        },
        "id": "GjZule5vGKbM",
        "outputId": "785c9689-3b4b-45a0-bd11-cea0ee36c8b8"
      },
      "source": [
        "t1.sub(2)"
      ],
      "execution_count": 9,
      "outputs": [
        {
          "output_type": "execute_result",
          "data": {
            "text/plain": [
              "tensor([[-1.,  0.],\n",
              "        [ 1.,  2.]])"
            ]
          },
          "metadata": {
            "tags": []
          },
          "execution_count": 9
        }
      ]
    },
    {
      "cell_type": "code",
      "metadata": {
        "colab": {
          "base_uri": "https://localhost:8080/"
        },
        "id": "b6T1WaEsGM1i",
        "outputId": "b32fab20-e676-401a-e935-da9025aae2c6"
      },
      "source": [
        "t1.mul(2)"
      ],
      "execution_count": 10,
      "outputs": [
        {
          "output_type": "execute_result",
          "data": {
            "text/plain": [
              "tensor([[2., 4.],\n",
              "        [6., 8.]])"
            ]
          },
          "metadata": {
            "tags": []
          },
          "execution_count": 10
        }
      ]
    },
    {
      "cell_type": "code",
      "metadata": {
        "colab": {
          "base_uri": "https://localhost:8080/"
        },
        "id": "7c7h5N2uGOii",
        "outputId": "e7be1e79-cfa5-4029-8c3d-a0eb74fd54a9"
      },
      "source": [
        "t1.div(2)"
      ],
      "execution_count": 11,
      "outputs": [
        {
          "output_type": "execute_result",
          "data": {
            "text/plain": [
              "tensor([[0.5000, 1.0000],\n",
              "        [1.5000, 2.0000]])"
            ]
          },
          "metadata": {
            "tags": []
          },
          "execution_count": 11
        }
      ]
    },
    {
      "cell_type": "markdown",
      "metadata": {
        "id": "T5KvxB8wGnis"
      },
      "source": [
        "# **Broadcasting Tensors**"
      ]
    },
    {
      "cell_type": "code",
      "metadata": {
        "colab": {
          "base_uri": "https://localhost:8080/"
        },
        "id": "M7JG9xk6GoNm",
        "outputId": "03f08764-0dff-4a50-a149-b3658c58098e"
      },
      "source": [
        "t3 = torch.tensor([\n",
        "   [1,2,3],\n",
        "   [4,5,6],\n",
        "   [7,8,9],\n",
        "   [5,7,9]\n",
        "], dtype = torch.float32)\n",
        "np.broadcast_to(6, t3.shape)"
      ],
      "execution_count": 20,
      "outputs": [
        {
          "output_type": "execute_result",
          "data": {
            "text/plain": [
              "array([[6, 6, 6],\n",
              "       [6, 6, 6],\n",
              "       [6, 6, 6],\n",
              "       [6, 6, 6]])"
            ]
          },
          "metadata": {
            "tags": []
          },
          "execution_count": 20
        }
      ]
    },
    {
      "cell_type": "code",
      "metadata": {
        "id": "zCxpEpVKI__j"
      },
      "source": [
        "t4 = torch.tensor([\n",
        "  [1,2],[4,6],[8,9]\n",
        "])\n",
        "\n",
        "t5 = torch.tensor(\n",
        "  [1,2])"
      ],
      "execution_count": 41,
      "outputs": []
    },
    {
      "cell_type": "code",
      "metadata": {
        "colab": {
          "base_uri": "https://localhost:8080/"
        },
        "id": "gNMTJ9cwJNYS",
        "outputId": "4c206f12-42a8-4915-a71c-5fd84f85b269"
      },
      "source": [
        "t4.shape"
      ],
      "execution_count": 42,
      "outputs": [
        {
          "output_type": "execute_result",
          "data": {
            "text/plain": [
              "torch.Size([3, 2])"
            ]
          },
          "metadata": {
            "tags": []
          },
          "execution_count": 42
        }
      ]
    },
    {
      "cell_type": "code",
      "metadata": {
        "colab": {
          "base_uri": "https://localhost:8080/"
        },
        "id": "ByN3Lq-4JPPp",
        "outputId": "257bc0ff-7a92-4bf0-df9f-78939fc5fd83"
      },
      "source": [
        "t5.shape"
      ],
      "execution_count": 43,
      "outputs": [
        {
          "output_type": "execute_result",
          "data": {
            "text/plain": [
              "torch.Size([2])"
            ]
          },
          "metadata": {
            "tags": []
          },
          "execution_count": 43
        }
      ]
    },
    {
      "cell_type": "code",
      "metadata": {
        "colab": {
          "base_uri": "https://localhost:8080/"
        },
        "id": "9mQn27TIJUVj",
        "outputId": "19e9ce19-8965-4667-f9b6-327f20b2caef"
      },
      "source": [
        "np.broadcast_to(t5.numpy(), t4.shape)"
      ],
      "execution_count": 44,
      "outputs": [
        {
          "output_type": "execute_result",
          "data": {
            "text/plain": [
              "array([[1, 2],\n",
              "       [1, 2],\n",
              "       [1, 2]])"
            ]
          },
          "metadata": {
            "tags": []
          },
          "execution_count": 44
        }
      ]
    },
    {
      "cell_type": "markdown",
      "metadata": {
        "id": "dBX6yOe8Iw-j"
      },
      "source": [
        "# **Element-Wise Comparison Operation Examples**"
      ]
    },
    {
      "cell_type": "code",
      "metadata": {
        "colab": {
          "base_uri": "https://localhost:8080/"
        },
        "id": "5YawvEnMKxFX",
        "outputId": "25445b67-bf4e-42fb-d969-b36397cb2c24"
      },
      "source": [
        "torch.tensor([1,2,3]) < torch.tensor([3,1,2])"
      ],
      "execution_count": 45,
      "outputs": [
        {
          "output_type": "execute_result",
          "data": {
            "text/plain": [
              "tensor([ True, False, False])"
            ]
          },
          "metadata": {
            "tags": []
          },
          "execution_count": 45
        }
      ]
    },
    {
      "cell_type": "code",
      "metadata": {
        "id": "0rJy9oAhK3wT"
      },
      "source": [
        "t = torch.tensor([\n",
        "  [0,5,5],\n",
        "  [6,0,7],\n",
        "  [0,8,0]\n",
        "],dtype = torch.float32)"
      ],
      "execution_count": 46,
      "outputs": []
    },
    {
      "cell_type": "code",
      "metadata": {
        "colab": {
          "base_uri": "https://localhost:8080/"
        },
        "id": "TmNba7F2LCDL",
        "outputId": "adf8856d-f280-4388-d8c5-41e5f4ac0595"
      },
      "source": [
        "t.eq(0)"
      ],
      "execution_count": 47,
      "outputs": [
        {
          "output_type": "execute_result",
          "data": {
            "text/plain": [
              "tensor([[ True, False, False],\n",
              "        [False,  True, False],\n",
              "        [ True, False,  True]])"
            ]
          },
          "metadata": {
            "tags": []
          },
          "execution_count": 47
        }
      ]
    },
    {
      "cell_type": "code",
      "metadata": {
        "colab": {
          "base_uri": "https://localhost:8080/"
        },
        "id": "sS-5RWP2LEUC",
        "outputId": "0c9056f9-f7ef-4222-d0ee-2a56fb4462e5"
      },
      "source": [
        "t.ge(0)"
      ],
      "execution_count": 48,
      "outputs": [
        {
          "output_type": "execute_result",
          "data": {
            "text/plain": [
              "tensor([[True, True, True],\n",
              "        [True, True, True],\n",
              "        [True, True, True]])"
            ]
          },
          "metadata": {
            "tags": []
          },
          "execution_count": 48
        }
      ]
    },
    {
      "cell_type": "code",
      "metadata": {
        "colab": {
          "base_uri": "https://localhost:8080/"
        },
        "id": "OarbSIIdLgEl",
        "outputId": "d3046995-9eb1-4c8e-c928-fd8c90c8dc8e"
      },
      "source": [
        "t.gt(0)"
      ],
      "execution_count": 49,
      "outputs": [
        {
          "output_type": "execute_result",
          "data": {
            "text/plain": [
              "tensor([[False,  True,  True],\n",
              "        [ True, False,  True],\n",
              "        [False,  True, False]])"
            ]
          },
          "metadata": {
            "tags": []
          },
          "execution_count": 49
        }
      ]
    },
    {
      "cell_type": "code",
      "metadata": {
        "colab": {
          "base_uri": "https://localhost:8080/"
        },
        "id": "dYqfsDShLou-",
        "outputId": "cda525f1-fb9a-4838-8e48-c5de05f180ba"
      },
      "source": [
        "t.lt(0)"
      ],
      "execution_count": 50,
      "outputs": [
        {
          "output_type": "execute_result",
          "data": {
            "text/plain": [
              "tensor([[False, False, False],\n",
              "        [False, False, False],\n",
              "        [False, False, False]])"
            ]
          },
          "metadata": {
            "tags": []
          },
          "execution_count": 50
        }
      ]
    },
    {
      "cell_type": "code",
      "metadata": {
        "colab": {
          "base_uri": "https://localhost:8080/"
        },
        "id": "AFPzbvV0Lr0X",
        "outputId": "c10e6142-7cc6-4e42-a53d-7e936b92c8d7"
      },
      "source": [
        "t.le(7)"
      ],
      "execution_count": 51,
      "outputs": [
        {
          "output_type": "execute_result",
          "data": {
            "text/plain": [
              "tensor([[ True,  True,  True],\n",
              "        [ True,  True,  True],\n",
              "        [ True, False,  True]])"
            ]
          },
          "metadata": {
            "tags": []
          },
          "execution_count": 51
        }
      ]
    },
    {
      "cell_type": "markdown",
      "metadata": {
        "id": "4iudbtduLzJM"
      },
      "source": [
        "# **Element-Wise Operations Using Functions**"
      ]
    },
    {
      "cell_type": "code",
      "metadata": {
        "colab": {
          "base_uri": "https://localhost:8080/"
        },
        "id": "vGxF7tYJL1qu",
        "outputId": "3908da21-bdd4-45cc-aaaa-533e881e1e2c"
      },
      "source": [
        "t.abs()"
      ],
      "execution_count": 52,
      "outputs": [
        {
          "output_type": "execute_result",
          "data": {
            "text/plain": [
              "tensor([[0., 5., 5.],\n",
              "        [6., 0., 7.],\n",
              "        [0., 8., 0.]])"
            ]
          },
          "metadata": {
            "tags": []
          },
          "execution_count": 52
        }
      ]
    },
    {
      "cell_type": "code",
      "metadata": {
        "colab": {
          "base_uri": "https://localhost:8080/"
        },
        "id": "BpsyaM1AL4fc",
        "outputId": "c35bf54d-57bb-4177-d1a5-7e3b5756d83e"
      },
      "source": [
        "t.sqrt()"
      ],
      "execution_count": 53,
      "outputs": [
        {
          "output_type": "execute_result",
          "data": {
            "text/plain": [
              "tensor([[0.0000, 2.2361, 2.2361],\n",
              "        [2.4495, 0.0000, 2.6458],\n",
              "        [0.0000, 2.8284, 0.0000]])"
            ]
          },
          "metadata": {
            "tags": []
          },
          "execution_count": 53
        }
      ]
    },
    {
      "cell_type": "code",
      "metadata": {
        "colab": {
          "base_uri": "https://localhost:8080/"
        },
        "id": "qNDalnIuL7Kh",
        "outputId": "ea27a8c4-e517-4313-ad00-6a2ae98187a1"
      },
      "source": [
        "t.neg()"
      ],
      "execution_count": 54,
      "outputs": [
        {
          "output_type": "execute_result",
          "data": {
            "text/plain": [
              "tensor([[-0., -5., -5.],\n",
              "        [-6., -0., -7.],\n",
              "        [-0., -8., -0.]])"
            ]
          },
          "metadata": {
            "tags": []
          },
          "execution_count": 54
        }
      ]
    },
    {
      "cell_type": "code",
      "metadata": {
        "colab": {
          "base_uri": "https://localhost:8080/"
        },
        "id": "QP3Rn09CL8-2",
        "outputId": "6828405a-afcd-438a-f4af-22ef246dd61b"
      },
      "source": [
        "t.neg().abs()"
      ],
      "execution_count": 55,
      "outputs": [
        {
          "output_type": "execute_result",
          "data": {
            "text/plain": [
              "tensor([[0., 5., 5.],\n",
              "        [6., 0., 7.],\n",
              "        [0., 8., 0.]])"
            ]
          },
          "metadata": {
            "tags": []
          },
          "execution_count": 55
        }
      ]
    }
  ]
}