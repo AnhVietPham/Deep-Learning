{
  "nbformat": 4,
  "nbformat_minor": 0,
  "metadata": {
    "colab": {
      "name": "ArgMax-Reduction-Tensor.ipynb",
      "provenance": [],
      "authorship_tag": "ABX9TyMAj7UasvPDmJg/s9z59Tpu",
      "include_colab_link": true
    },
    "kernelspec": {
      "name": "python3",
      "display_name": "Python 3"
    },
    "language_info": {
      "name": "python"
    }
  },
  "cells": [
    {
      "cell_type": "markdown",
      "metadata": {
        "id": "view-in-github",
        "colab_type": "text"
      },
      "source": [
        "<a href=\"https://colab.research.google.com/github/AnhVietPham/Deep-Learning/blob/main/DL-Pytorch/argmax_reduction_tensor/ArgMax_Reduction_Tensor.ipynb\" target=\"_parent\"><img src=\"https://colab.research.google.com/assets/colab-badge.svg\" alt=\"Open In Colab\"/></a>"
      ]
    },
    {
      "cell_type": "code",
      "metadata": {
        "id": "Po7Hc_kJMUfm"
      },
      "source": [
        "import torch"
      ],
      "execution_count": 1,
      "outputs": []
    },
    {
      "cell_type": "code",
      "metadata": {
        "id": "eM_l689WM6dz"
      },
      "source": [
        "t = torch.tensor([\n",
        "   [0,1,0],\n",
        "   [2,0,2],\n",
        "   [0,3,0]\n",
        "], dtype = torch.float32)"
      ],
      "execution_count": 2,
      "outputs": []
    },
    {
      "cell_type": "code",
      "metadata": {
        "colab": {
          "base_uri": "https://localhost:8080/"
        },
        "id": "ajOU1CIcNFxU",
        "outputId": "c0464287-37c3-43ea-abbd-7562928dd2f8"
      },
      "source": [
        "t.sum()"
      ],
      "execution_count": 3,
      "outputs": [
        {
          "output_type": "execute_result",
          "data": {
            "text/plain": [
              "tensor(8.)"
            ]
          },
          "metadata": {
            "tags": []
          },
          "execution_count": 3
        }
      ]
    },
    {
      "cell_type": "code",
      "metadata": {
        "colab": {
          "base_uri": "https://localhost:8080/"
        },
        "id": "IOp-J6pNNHml",
        "outputId": "1e5ae41b-8132-4ed2-86e5-2ccd9df2db32"
      },
      "source": [
        "t.numel()"
      ],
      "execution_count": 4,
      "outputs": [
        {
          "output_type": "execute_result",
          "data": {
            "text/plain": [
              "9"
            ]
          },
          "metadata": {
            "tags": []
          },
          "execution_count": 4
        }
      ]
    },
    {
      "cell_type": "code",
      "metadata": {
        "colab": {
          "base_uri": "https://localhost:8080/"
        },
        "id": "gKVEx1PvQziz",
        "outputId": "666eaafe-ca44-47b6-bdcf-7ee7e6d8bfe0"
      },
      "source": [
        "t.std()"
      ],
      "execution_count": 22,
      "outputs": [
        {
          "output_type": "execute_result",
          "data": {
            "text/plain": [
              "tensor(1.1667)"
            ]
          },
          "metadata": {
            "tags": []
          },
          "execution_count": 22
        }
      ]
    },
    {
      "cell_type": "code",
      "metadata": {
        "colab": {
          "base_uri": "https://localhost:8080/"
        },
        "id": "mDs1pM7uNN8d",
        "outputId": "ed480fe3-7365-4ffa-f091-2e00d5c26151"
      },
      "source": [
        "t.sum().numel() < t.numel()"
      ],
      "execution_count": 5,
      "outputs": [
        {
          "output_type": "execute_result",
          "data": {
            "text/plain": [
              "True"
            ]
          },
          "metadata": {
            "tags": []
          },
          "execution_count": 5
        }
      ]
    },
    {
      "cell_type": "code",
      "metadata": {
        "id": "Bh9akBdtOuye"
      },
      "source": [
        "size_t = t.shape\n",
        "number_of_element = size_t[0] * size_t[1]"
      ],
      "execution_count": 14,
      "outputs": []
    },
    {
      "cell_type": "code",
      "metadata": {
        "colab": {
          "base_uri": "https://localhost:8080/"
        },
        "id": "_P7PjYGNNs3R",
        "outputId": "dbede020-55dd-43f5-fe74-68f4437c9490"
      },
      "source": [
        "sum_t = sum([sum(i) for i in t])\n",
        "sum_t"
      ],
      "execution_count": 15,
      "outputs": [
        {
          "output_type": "execute_result",
          "data": {
            "text/plain": [
              "tensor(8.)"
            ]
          },
          "metadata": {
            "tags": []
          },
          "execution_count": 15
        }
      ]
    },
    {
      "cell_type": "code",
      "metadata": {
        "colab": {
          "base_uri": "https://localhost:8080/"
        },
        "id": "dqL9IyViPrPC",
        "outputId": "31e1b2ef-d653-46e6-dfc6-464a24fdbb61"
      },
      "source": [
        "mean_t = sum_t / number_of_element\n",
        "mean_t"
      ],
      "execution_count": 17,
      "outputs": [
        {
          "output_type": "execute_result",
          "data": {
            "text/plain": [
              "tensor(0.8889)"
            ]
          },
          "metadata": {
            "tags": []
          },
          "execution_count": 17
        }
      ]
    },
    {
      "cell_type": "code",
      "metadata": {
        "colab": {
          "base_uri": "https://localhost:8080/"
        },
        "id": "nVeQPP9_P1WS",
        "outputId": "5d2e3d69-8ba1-4134-dd37-0a2de005fb4e"
      },
      "source": [
        "sum_of_squared_error = sum([sum((i - mean_t).pow(2)) for i in t])\n",
        "sum_of_squared_error"
      ],
      "execution_count": 24,
      "outputs": [
        {
          "output_type": "execute_result",
          "data": {
            "text/plain": [
              "tensor(10.8889)"
            ]
          },
          "metadata": {
            "tags": []
          },
          "execution_count": 24
        }
      ]
    },
    {
      "cell_type": "code",
      "metadata": {
        "colab": {
          "base_uri": "https://localhost:8080/"
        },
        "id": "s1HBeGiJQouN",
        "outputId": "2c7addac-9594-4a3c-a3c6-1d15d4e22f10"
      },
      "source": [
        "std = torch.sqrt(sum_of_squared_error / (number_of_element - 1))\n",
        "std"
      ],
      "execution_count": 26,
      "outputs": [
        {
          "output_type": "execute_result",
          "data": {
            "text/plain": [
              "tensor(1.1667)"
            ]
          },
          "metadata": {
            "tags": []
          },
          "execution_count": 26
        }
      ]
    },
    {
      "cell_type": "markdown",
      "metadata": {
        "id": "mglJ4gS1UbjZ"
      },
      "source": [
        "# **Reducing Tensors By Axes**"
      ]
    },
    {
      "cell_type": "code",
      "metadata": {
        "id": "lC04p0c4Ucc7"
      },
      "source": [
        "t = torch.tensor([\n",
        "    [1,1,1,1],\n",
        "    [2,2,2,2],\n",
        "    [3,3,3,3]\n",
        "], dtype = torch.float32)"
      ],
      "execution_count": 27,
      "outputs": []
    },
    {
      "cell_type": "code",
      "metadata": {
        "colab": {
          "base_uri": "https://localhost:8080/"
        },
        "id": "7Z1P7ivIUrHl",
        "outputId": "12d2110a-84a6-4689-dda9-0b34ac8d3b92"
      },
      "source": [
        "t.sum(dim = 0)"
      ],
      "execution_count": 28,
      "outputs": [
        {
          "output_type": "execute_result",
          "data": {
            "text/plain": [
              "tensor([6., 6., 6., 6.])"
            ]
          },
          "metadata": {
            "tags": []
          },
          "execution_count": 28
        }
      ]
    },
    {
      "cell_type": "code",
      "metadata": {
        "colab": {
          "base_uri": "https://localhost:8080/"
        },
        "id": "Ghf_AQwnUthD",
        "outputId": "9731409d-9811-4fb3-e8ab-068f7184073a"
      },
      "source": [
        "t.sum(dim = 1)"
      ],
      "execution_count": 29,
      "outputs": [
        {
          "output_type": "execute_result",
          "data": {
            "text/plain": [
              "tensor([ 4.,  8., 12.])"
            ]
          },
          "metadata": {
            "tags": []
          },
          "execution_count": 29
        }
      ]
    },
    {
      "cell_type": "code",
      "metadata": {
        "colab": {
          "base_uri": "https://localhost:8080/"
        },
        "id": "LWS4zHfqVEyI",
        "outputId": "0d1b9075-bbee-40c9-dbfc-e917ed8c9588"
      },
      "source": [
        "t[0] + t[1] + t[2]"
      ],
      "execution_count": 30,
      "outputs": [
        {
          "output_type": "execute_result",
          "data": {
            "text/plain": [
              "tensor([6., 6., 6., 6.])"
            ]
          },
          "metadata": {
            "tags": []
          },
          "execution_count": 30
        }
      ]
    },
    {
      "cell_type": "markdown",
      "metadata": {
        "id": "yr1IvW0uVNA1"
      },
      "source": [
        "# **Argmax Tensor Reduction Operation**"
      ]
    },
    {
      "cell_type": "code",
      "metadata": {
        "id": "7FwhwN6wVIoO"
      },
      "source": [
        "t = torch.tensor([\n",
        "    [1,0,0,2],\n",
        "    [0,3,3,0],\n",
        "    [4,0,0,5]    \n",
        "], dtype = torch.float32)"
      ],
      "execution_count": 31,
      "outputs": []
    },
    {
      "cell_type": "code",
      "metadata": {
        "colab": {
          "base_uri": "https://localhost:8080/"
        },
        "id": "8ifX_cS6WSF0",
        "outputId": "3b5f2685-b7ab-48a5-9f0f-a54bce9b7304"
      },
      "source": [
        "t.max()"
      ],
      "execution_count": 32,
      "outputs": [
        {
          "output_type": "execute_result",
          "data": {
            "text/plain": [
              "tensor(5.)"
            ]
          },
          "metadata": {
            "tags": []
          },
          "execution_count": 32
        }
      ]
    },
    {
      "cell_type": "code",
      "metadata": {
        "colab": {
          "base_uri": "https://localhost:8080/"
        },
        "id": "ptAeWyY-WYAT",
        "outputId": "86491d2b-a8b4-4311-af8c-41aaf4fcb77d"
      },
      "source": [
        "t.argmax()"
      ],
      "execution_count": 33,
      "outputs": [
        {
          "output_type": "execute_result",
          "data": {
            "text/plain": [
              "tensor(11)"
            ]
          },
          "metadata": {
            "tags": []
          },
          "execution_count": 33
        }
      ]
    },
    {
      "cell_type": "code",
      "metadata": {
        "colab": {
          "base_uri": "https://localhost:8080/"
        },
        "id": "bChvcExyWbGw",
        "outputId": "02eead81-e8a5-42c1-d9b4-8e57cc000835"
      },
      "source": [
        "t.flatten()"
      ],
      "execution_count": 34,
      "outputs": [
        {
          "output_type": "execute_result",
          "data": {
            "text/plain": [
              "tensor([1., 0., 0., 2., 0., 3., 3., 0., 4., 0., 0., 5.])"
            ]
          },
          "metadata": {
            "tags": []
          },
          "execution_count": 34
        }
      ]
    },
    {
      "cell_type": "code",
      "metadata": {
        "colab": {
          "base_uri": "https://localhost:8080/"
        },
        "id": "wQ40KzXnKpqH",
        "outputId": "d646d2c6-c848-405c-dd37-55f6ef82ec9a"
      },
      "source": [
        "t.max(dim = 0)"
      ],
      "execution_count": 35,
      "outputs": [
        {
          "output_type": "execute_result",
          "data": {
            "text/plain": [
              "torch.return_types.max(values=tensor([4., 3., 3., 5.]), indices=tensor([2, 1, 1, 2]))"
            ]
          },
          "metadata": {
            "tags": []
          },
          "execution_count": 35
        }
      ]
    },
    {
      "cell_type": "code",
      "metadata": {
        "colab": {
          "base_uri": "https://localhost:8080/"
        },
        "id": "13a3RaH4K4k8",
        "outputId": "076fc55c-ba4c-4091-bec6-279ebd10c88b"
      },
      "source": [
        "t.argmax(dim = 0)"
      ],
      "execution_count": 36,
      "outputs": [
        {
          "output_type": "execute_result",
          "data": {
            "text/plain": [
              "tensor([2, 1, 1, 2])"
            ]
          },
          "metadata": {
            "tags": []
          },
          "execution_count": 36
        }
      ]
    },
    {
      "cell_type": "code",
      "metadata": {
        "colab": {
          "base_uri": "https://localhost:8080/"
        },
        "id": "6zAleQdkK8OD",
        "outputId": "c6a64eb5-fab8-4c0b-f1fc-87de199d2ac4"
      },
      "source": [
        "t.max(dim = 1)"
      ],
      "execution_count": 37,
      "outputs": [
        {
          "output_type": "execute_result",
          "data": {
            "text/plain": [
              "torch.return_types.max(values=tensor([2., 3., 5.]), indices=tensor([3, 1, 3]))"
            ]
          },
          "metadata": {
            "tags": []
          },
          "execution_count": 37
        }
      ]
    },
    {
      "cell_type": "code",
      "metadata": {
        "colab": {
          "base_uri": "https://localhost:8080/"
        },
        "id": "2pRvSQkBLGH6",
        "outputId": "969b1b06-b00d-41cc-8dee-89cde6c066d6"
      },
      "source": [
        "t.argmax(dim = 1)"
      ],
      "execution_count": 38,
      "outputs": [
        {
          "output_type": "execute_result",
          "data": {
            "text/plain": [
              "tensor([3, 1, 3])"
            ]
          },
          "metadata": {
            "tags": []
          },
          "execution_count": 38
        }
      ]
    },
    {
      "cell_type": "markdown",
      "metadata": {
        "id": "HxMtcGWVLoZv"
      },
      "source": [
        "# **Understanding dimensions in PyTorch**\n",
        "https://towardsdatascience.com/understanding-dimensions-in-pytorch-6edf9972d3be"
      ]
    },
    {
      "cell_type": "code",
      "metadata": {
        "id": "C8A99RHLLtGI"
      },
      "source": [
        "y = torch.tensor([\n",
        "    [\n",
        "     [1,2,3],\n",
        "     [4,5,6]\n",
        "    ],\n",
        "    [\n",
        "     [1,2,3],\n",
        "     [4,5,6]\n",
        "    ],\n",
        "    [\n",
        "     [1,2,3],\n",
        "     [4,5,6]\n",
        "    ]\n",
        "])"
      ],
      "execution_count": 39,
      "outputs": []
    },
    {
      "cell_type": "code",
      "metadata": {
        "colab": {
          "base_uri": "https://localhost:8080/"
        },
        "id": "s47SU3M4L_QQ",
        "outputId": "c92c6d9d-2edb-43d8-eaf8-31d59a211b13"
      },
      "source": [
        "y.shape"
      ],
      "execution_count": 40,
      "outputs": [
        {
          "output_type": "execute_result",
          "data": {
            "text/plain": [
              "torch.Size([3, 2, 3])"
            ]
          },
          "metadata": {
            "tags": []
          },
          "execution_count": 40
        }
      ]
    },
    {
      "cell_type": "markdown",
      "metadata": {
        "id": "0V15BkxgNQeY"
      },
      "source": [
        "# **Dim = 0**"
      ]
    },
    {
      "cell_type": "code",
      "metadata": {
        "colab": {
          "base_uri": "https://localhost:8080/"
        },
        "id": "1zNQderFMM6m",
        "outputId": "2e547b75-1e56-48ab-9937-0100770a7575"
      },
      "source": [
        "torch.sum(y, dim = 0)"
      ],
      "execution_count": 41,
      "outputs": [
        {
          "output_type": "execute_result",
          "data": {
            "text/plain": [
              "tensor([[ 3,  6,  9],\n",
              "        [12, 15, 18]])"
            ]
          },
          "metadata": {
            "tags": []
          },
          "execution_count": 41
        }
      ]
    },
    {
      "cell_type": "code",
      "metadata": {
        "colab": {
          "base_uri": "https://localhost:8080/"
        },
        "id": "Wkn8GFR5MRb-",
        "outputId": "7eb304e5-ab3e-4248-cbb0-b1fba73e0816"
      },
      "source": [
        "y[0]"
      ],
      "execution_count": 42,
      "outputs": [
        {
          "output_type": "execute_result",
          "data": {
            "text/plain": [
              "tensor([[1, 2, 3],\n",
              "        [4, 5, 6]])"
            ]
          },
          "metadata": {
            "tags": []
          },
          "execution_count": 42
        }
      ]
    },
    {
      "cell_type": "code",
      "metadata": {
        "colab": {
          "base_uri": "https://localhost:8080/"
        },
        "id": "U6tyLWvcM8Zt",
        "outputId": "e9ba0785-eb7b-4cf5-ba07-c9b79fb89758"
      },
      "source": [
        "y[1]"
      ],
      "execution_count": 43,
      "outputs": [
        {
          "output_type": "execute_result",
          "data": {
            "text/plain": [
              "tensor([[1, 2, 3],\n",
              "        [4, 5, 6]])"
            ]
          },
          "metadata": {
            "tags": []
          },
          "execution_count": 43
        }
      ]
    },
    {
      "cell_type": "code",
      "metadata": {
        "colab": {
          "base_uri": "https://localhost:8080/"
        },
        "id": "nNLcKSfwM-Sd",
        "outputId": "568ebf8d-65d4-467d-e56d-5a960a667a56"
      },
      "source": [
        "y[2]"
      ],
      "execution_count": 45,
      "outputs": [
        {
          "output_type": "execute_result",
          "data": {
            "text/plain": [
              "tensor([[1, 2, 3],\n",
              "        [4, 5, 6]])"
            ]
          },
          "metadata": {
            "tags": []
          },
          "execution_count": 45
        }
      ]
    },
    {
      "cell_type": "code",
      "metadata": {
        "colab": {
          "base_uri": "https://localhost:8080/"
        },
        "id": "UeNrre4VNBK0",
        "outputId": "2b8fdfd1-6a6f-4e38-98f0-99d9e299decb"
      },
      "source": [
        "y[0] + y[1] + y[2]"
      ],
      "execution_count": 46,
      "outputs": [
        {
          "output_type": "execute_result",
          "data": {
            "text/plain": [
              "tensor([[ 3,  6,  9],\n",
              "        [12, 15, 18]])"
            ]
          },
          "metadata": {
            "tags": []
          },
          "execution_count": 46
        }
      ]
    },
    {
      "cell_type": "markdown",
      "metadata": {
        "id": "82x5QkAwNTUn"
      },
      "source": [
        "# **Dim = 1**"
      ]
    },
    {
      "cell_type": "code",
      "metadata": {
        "colab": {
          "base_uri": "https://localhost:8080/"
        },
        "id": "mKP2EHIxNEjZ",
        "outputId": "7b4334e0-dbc1-4c75-f0b7-05a19269ebd1"
      },
      "source": [
        "torch.sum(y, dim = 1)"
      ],
      "execution_count": 47,
      "outputs": [
        {
          "output_type": "execute_result",
          "data": {
            "text/plain": [
              "tensor([[5, 7, 9],\n",
              "        [5, 7, 9],\n",
              "        [5, 7, 9]])"
            ]
          },
          "metadata": {
            "tags": []
          },
          "execution_count": 47
        }
      ]
    },
    {
      "cell_type": "code",
      "metadata": {
        "colab": {
          "base_uri": "https://localhost:8080/"
        },
        "id": "6Oz44errNJUB",
        "outputId": "ec053adf-695a-4f1b-ea51-0a70dbf1a11d"
      },
      "source": [
        "y[0][0]"
      ],
      "execution_count": 48,
      "outputs": [
        {
          "output_type": "execute_result",
          "data": {
            "text/plain": [
              "tensor([1, 2, 3])"
            ]
          },
          "metadata": {
            "tags": []
          },
          "execution_count": 48
        }
      ]
    },
    {
      "cell_type": "code",
      "metadata": {
        "colab": {
          "base_uri": "https://localhost:8080/"
        },
        "id": "vCLtdl5nNWZ4",
        "outputId": "8eed5b07-8d4b-46b9-a0bc-23149c4b922b"
      },
      "source": [
        "y[0][1]"
      ],
      "execution_count": 51,
      "outputs": [
        {
          "output_type": "execute_result",
          "data": {
            "text/plain": [
              "tensor([4, 5, 6])"
            ]
          },
          "metadata": {
            "tags": []
          },
          "execution_count": 51
        }
      ]
    },
    {
      "cell_type": "code",
      "metadata": {
        "colab": {
          "base_uri": "https://localhost:8080/"
        },
        "id": "HvwYw-sPNbiM",
        "outputId": "0eb149d7-e2cf-4717-aa72-418818869a32"
      },
      "source": [
        "a = y[0][0] + y[0][1]\n",
        "a"
      ],
      "execution_count": 56,
      "outputs": [
        {
          "output_type": "execute_result",
          "data": {
            "text/plain": [
              "tensor([5, 7, 9])"
            ]
          },
          "metadata": {
            "tags": []
          },
          "execution_count": 56
        }
      ]
    },
    {
      "cell_type": "code",
      "metadata": {
        "colab": {
          "base_uri": "https://localhost:8080/"
        },
        "id": "XqkJK-L3NfyU",
        "outputId": "c4f845db-2583-4065-a51c-0d2d55bf5450"
      },
      "source": [
        "y[1][0]"
      ],
      "execution_count": 53,
      "outputs": [
        {
          "output_type": "execute_result",
          "data": {
            "text/plain": [
              "tensor([1, 2, 3])"
            ]
          },
          "metadata": {
            "tags": []
          },
          "execution_count": 53
        }
      ]
    },
    {
      "cell_type": "code",
      "metadata": {
        "colab": {
          "base_uri": "https://localhost:8080/"
        },
        "id": "L-6LBYk4Nhhk",
        "outputId": "a3ec1b97-17be-4aaf-a533-c3a34a59fd61"
      },
      "source": [
        "y[1][0]"
      ],
      "execution_count": 54,
      "outputs": [
        {
          "output_type": "execute_result",
          "data": {
            "text/plain": [
              "tensor([1, 2, 3])"
            ]
          },
          "metadata": {
            "tags": []
          },
          "execution_count": 54
        }
      ]
    },
    {
      "cell_type": "code",
      "metadata": {
        "colab": {
          "base_uri": "https://localhost:8080/"
        },
        "id": "oqEYUSdBNi-k",
        "outputId": "a0fde5d1-8a44-494f-a82e-1830c8000995"
      },
      "source": [
        "b = y[1][0] + y[1][1]\n",
        "b"
      ],
      "execution_count": 58,
      "outputs": [
        {
          "output_type": "execute_result",
          "data": {
            "text/plain": [
              "tensor([5, 7, 9])"
            ]
          },
          "metadata": {
            "tags": []
          },
          "execution_count": 58
        }
      ]
    },
    {
      "cell_type": "code",
      "metadata": {
        "colab": {
          "base_uri": "https://localhost:8080/"
        },
        "id": "HTMiRGlnNrh9",
        "outputId": "4ee05e2f-6849-4ac2-849b-8aba5ef6311b"
      },
      "source": [
        "y[2][0]"
      ],
      "execution_count": 59,
      "outputs": [
        {
          "output_type": "execute_result",
          "data": {
            "text/plain": [
              "tensor([1, 2, 3])"
            ]
          },
          "metadata": {
            "tags": []
          },
          "execution_count": 59
        }
      ]
    },
    {
      "cell_type": "code",
      "metadata": {
        "colab": {
          "base_uri": "https://localhost:8080/"
        },
        "id": "bLdrXQoZNuQU",
        "outputId": "8221bb07-e308-48d4-8f60-4c204993be61"
      },
      "source": [
        "y[2][1]"
      ],
      "execution_count": 60,
      "outputs": [
        {
          "output_type": "execute_result",
          "data": {
            "text/plain": [
              "tensor([4, 5, 6])"
            ]
          },
          "metadata": {
            "tags": []
          },
          "execution_count": 60
        }
      ]
    },
    {
      "cell_type": "code",
      "metadata": {
        "colab": {
          "base_uri": "https://localhost:8080/"
        },
        "id": "dbEVt6vwNwOX",
        "outputId": "54260c38-ea11-4974-ee8e-79c422e7a14e"
      },
      "source": [
        "c = y[2][0] + y[2][1]\n",
        "c"
      ],
      "execution_count": 62,
      "outputs": [
        {
          "output_type": "execute_result",
          "data": {
            "text/plain": [
              "tensor([5, 7, 9])"
            ]
          },
          "metadata": {
            "tags": []
          },
          "execution_count": 62
        }
      ]
    },
    {
      "cell_type": "code",
      "metadata": {
        "colab": {
          "base_uri": "https://localhost:8080/"
        },
        "id": "WaEipvJsN5jJ",
        "outputId": "eaa90b90-f120-4edc-8f19-4d38a5688342"
      },
      "source": [
        "torch.stack([a,b,c], dim = 0)"
      ],
      "execution_count": 70,
      "outputs": [
        {
          "output_type": "execute_result",
          "data": {
            "text/plain": [
              "tensor([[5, 7, 9],\n",
              "        [5, 7, 9],\n",
              "        [5, 7, 9]])"
            ]
          },
          "metadata": {
            "tags": []
          },
          "execution_count": 70
        }
      ]
    },
    {
      "cell_type": "markdown",
      "metadata": {
        "id": "QkoirY6qOk96"
      },
      "source": [
        "# **Dim = 2**"
      ]
    },
    {
      "cell_type": "code",
      "metadata": {
        "colab": {
          "base_uri": "https://localhost:8080/"
        },
        "id": "eNnLsshlOmzK",
        "outputId": "aa93ece4-0bf7-4909-9c8c-176907f70529"
      },
      "source": [
        "torch.sum(y, dim = 2)"
      ],
      "execution_count": 71,
      "outputs": [
        {
          "output_type": "execute_result",
          "data": {
            "text/plain": [
              "tensor([[ 6, 15],\n",
              "        [ 6, 15],\n",
              "        [ 6, 15]])"
            ]
          },
          "metadata": {
            "tags": []
          },
          "execution_count": 71
        }
      ]
    },
    {
      "cell_type": "code",
      "metadata": {
        "colab": {
          "base_uri": "https://localhost:8080/"
        },
        "id": "9vcpzDnVQfid",
        "outputId": "06bcc97c-53b1-49e9-c603-2f071a31897c"
      },
      "source": [
        "a = torch.stack((y[0][0][0] + y[0][0][1] + y[0][0][2], y[0][1][0] + y[0][1][1] + y[0][1][2]))\n",
        "a"
      ],
      "execution_count": 83,
      "outputs": [
        {
          "output_type": "execute_result",
          "data": {
            "text/plain": [
              "tensor([ 6, 15])"
            ]
          },
          "metadata": {
            "tags": []
          },
          "execution_count": 83
        }
      ]
    },
    {
      "cell_type": "code",
      "metadata": {
        "colab": {
          "base_uri": "https://localhost:8080/"
        },
        "id": "OCFen1VURJWC",
        "outputId": "c6ec6fe2-ca29-4a4b-edb3-61b455228b3c"
      },
      "source": [
        "b = torch.stack((y[0][0][0] + y[0][0][1] + y[0][0][2], y[0][1][0] + y[0][1][1] + y[0][1][2]))\n",
        "b"
      ],
      "execution_count": 84,
      "outputs": [
        {
          "output_type": "execute_result",
          "data": {
            "text/plain": [
              "tensor([ 6, 15])"
            ]
          },
          "metadata": {
            "tags": []
          },
          "execution_count": 84
        }
      ]
    },
    {
      "cell_type": "code",
      "metadata": {
        "colab": {
          "base_uri": "https://localhost:8080/"
        },
        "id": "fQBApvKQRbZm",
        "outputId": "30711fad-3635-4b98-f33c-d308fe01fe6f"
      },
      "source": [
        "c = torch.stack((y[0][0][0] + y[0][0][1] + y[0][0][2], y[0][1][0] + y[0][1][1] + y[0][1][2]))\n",
        "c"
      ],
      "execution_count": 85,
      "outputs": [
        {
          "output_type": "execute_result",
          "data": {
            "text/plain": [
              "tensor([ 6, 15])"
            ]
          },
          "metadata": {
            "tags": []
          },
          "execution_count": 85
        }
      ]
    },
    {
      "cell_type": "code",
      "metadata": {
        "colab": {
          "base_uri": "https://localhost:8080/"
        },
        "id": "11MwgvOBRdn5",
        "outputId": "82d4c7f2-17de-416b-a268-6cc2b56c136e"
      },
      "source": [
        "torch.stack((a,b,c))"
      ],
      "execution_count": 86,
      "outputs": [
        {
          "output_type": "execute_result",
          "data": {
            "text/plain": [
              "tensor([[ 6, 15],\n",
              "        [ 6, 15],\n",
              "        [ 6, 15]])"
            ]
          },
          "metadata": {
            "tags": []
          },
          "execution_count": 86
        }
      ]
    }
  ]
}