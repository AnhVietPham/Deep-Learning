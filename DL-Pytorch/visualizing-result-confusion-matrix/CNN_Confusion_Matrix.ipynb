{
  "nbformat": 4,
  "nbformat_minor": 0,
  "metadata": {
    "colab": {
      "name": "CNN-Confusion-Matrix.ipynb",
      "provenance": [],
      "collapsed_sections": [],
      "machine_shape": "hm",
      "authorship_tag": "ABX9TyNhV/tu/izHYjBAlQHR92ZR",
      "include_colab_link": true
    },
    "kernelspec": {
      "name": "python3",
      "display_name": "Python 3"
    },
    "language_info": {
      "name": "python"
    },
    "accelerator": "GPU"
  },
  "cells": [
    {
      "cell_type": "markdown",
      "metadata": {
        "id": "view-in-github",
        "colab_type": "text"
      },
      "source": [
        "<a href=\"https://colab.research.google.com/github/AnhVietPham/Deep-Learning/blob/main/DL-Pytorch/visualizing-result-confusion-matrix/CNN_Confusion_Matrix.ipynb\" target=\"_parent\"><img src=\"https://colab.research.google.com/assets/colab-badge.svg\" alt=\"Open In Colab\"/></a>"
      ]
    },
    {
      "cell_type": "code",
      "metadata": {
        "id": "0nQgjuu-Hbyc"
      },
      "source": [
        "import torch\n",
        "import torchvision\n",
        "import torchvision.transforms as transforms\n",
        "import torch.nn.functional as F\n",
        "import torch.nn as nn\n",
        "import torch.optim as optim\n",
        "import matplotlib.pyplot as plt\n",
        "import numpy as np\n",
        "import itertools\n"
      ],
      "execution_count": 76,
      "outputs": []
    },
    {
      "cell_type": "code",
      "metadata": {
        "id": "6D_wfDrmIfBA"
      },
      "source": [
        "train_set = torchvision.datasets.FashionMNIST(\n",
        "    root='./root',\n",
        "    train = True,\n",
        "    download=True,\n",
        "    transform = transforms.Compose([\n",
        "        transforms.ToTensor()\n",
        "    ])\n",
        ")"
      ],
      "execution_count": 77,
      "outputs": []
    },
    {
      "cell_type": "code",
      "metadata": {
        "id": "az3ltuw2Ijgw"
      },
      "source": [
        "class Network(nn.Module):\n",
        "  def __init__(self):\n",
        "    super().__init__()\n",
        "    self.conv1 = nn.Conv2d(in_channels=1, out_channels=6, kernel_size=5)\n",
        "    self.conv2 = nn.Conv2d(in_channels=6, out_channels=12, kernel_size=5)\n",
        "\n",
        "    self.fc1 = nn.Linear(in_features=12*4*4, out_features=120)\n",
        "    self.fc2 = nn.Linear(in_features=120, out_features=60)\n",
        "    self.out = nn.Linear(in_features=60, out_features=10)\n",
        "\n",
        "  def forward(self,t):\n",
        "    t = F.relu(self.conv1(t))\n",
        "    t = F.max_pool2d(t, kernel_size=2, stride=2)\n",
        "        \n",
        "    t = F.relu(self.conv2(t))\n",
        "    t = F.max_pool2d(t, kernel_size=2, stride=2)\n",
        "        \n",
        "    t = F.relu(self.fc1(t.reshape(-1, 12*4*4)))\n",
        "    t = F.relu(self.fc2(t))\n",
        "    t = self.out(t)\n",
        "\n",
        "    return t"
      ],
      "execution_count": 78,
      "outputs": []
    },
    {
      "cell_type": "code",
      "metadata": {
        "id": "t2LaaAihImYF"
      },
      "source": [
        "def get_num_correct(preds, labels):\n",
        "  return preds.argmax(dim = 1).eq(labels).sum().item()"
      ],
      "execution_count": 79,
      "outputs": []
    },
    {
      "cell_type": "code",
      "metadata": {
        "id": "8cM1_Rg2IoYR"
      },
      "source": [
        "network = Network()"
      ],
      "execution_count": 80,
      "outputs": []
    },
    {
      "cell_type": "code",
      "metadata": {
        "id": "ZGdvxh5AIyi0"
      },
      "source": [
        "train_loader = torch.utils.data.DataLoader(train_set, batch_size=100)\n",
        "optimizer = optim.Adam(network.parameters(), lr = 0.01)"
      ],
      "execution_count": 81,
      "outputs": []
    },
    {
      "cell_type": "code",
      "metadata": {
        "colab": {
          "base_uri": "https://localhost:8080/"
        },
        "id": "TtXVX9nwIslu",
        "outputId": "58af8c07-e89a-4584-e3bb-a027d8f33219"
      },
      "source": [
        "for epoch in range(10):\n",
        "  total_loss = 0\n",
        "  total_correct = 0 \n",
        "  count = 0\n",
        "  for batch in train_loader:\n",
        "    count += 1\n",
        "    images, labels = batch\n",
        "\n",
        "    preds = network(images)\n",
        "    loss = F.cross_entropy(preds, labels)\n",
        "\n",
        "    optimizer.zero_grad()\n",
        "    loss.backward()\n",
        "    optimizer.step()\n",
        "\n",
        "    total_loss += loss.item()\n",
        "    total_correct += get_num_correct(preds,labels)\n",
        "\n",
        "  print(\n",
        "    \"count\", count,\n",
        "    \"epoch\", epoch,\n",
        "    \"total_correct\", total_correct,\n",
        "    \"loss\", total_loss\n",
        "  )\n"
      ],
      "execution_count": 82,
      "outputs": [
        {
          "output_type": "stream",
          "text": [
            "count 600 epoch 0 total_correct 46948 loss 346.4995184838772\n",
            "count 600 epoch 1 total_correct 51506 loss 231.9491099268198\n",
            "count 600 epoch 2 total_correct 52341 loss 209.40936601161957\n",
            "count 600 epoch 3 total_correct 52575 loss 200.455738812685\n",
            "count 600 epoch 4 total_correct 52861 loss 192.8133318349719\n",
            "count 600 epoch 5 total_correct 52984 loss 190.57203456014395\n",
            "count 600 epoch 6 total_correct 53123 loss 186.5576617643237\n",
            "count 600 epoch 7 total_correct 53291 loss 183.6342300400138\n",
            "count 600 epoch 8 total_correct 53235 loss 183.528907969594\n",
            "count 600 epoch 9 total_correct 53405 loss 180.29351399838924\n"
          ],
          "name": "stdout"
        }
      ]
    },
    {
      "cell_type": "code",
      "metadata": {
        "id": "yhOE2B4zJmPj"
      },
      "source": [
        "def get_all_preds(model,loader):\n",
        "  all_preds = torch.tensor([])\n",
        "  for batch in loader:\n",
        "    images, labels = batch\n",
        "\n",
        "    preds = model(images)\n",
        "    all_preds = torch.cat((all_preds, preds), dim = 0)\n",
        "  return all_preds"
      ],
      "execution_count": 83,
      "outputs": []
    },
    {
      "cell_type": "code",
      "metadata": {
        "id": "o1VHrTE7KAiA"
      },
      "source": [
        "with torch.no_grad():\n",
        "  prediction_loader = torch.utils.data.DataLoader(train_set, batch_size=10000)\n",
        "  train_preds = get_all_preds(network, prediction_loader)"
      ],
      "execution_count": 84,
      "outputs": []
    },
    {
      "cell_type": "code",
      "metadata": {
        "colab": {
          "base_uri": "https://localhost:8080/"
        },
        "id": "XnTfRnUZKT5c",
        "outputId": "c251f322-ddca-4bc2-cb40-3716c2b847fa"
      },
      "source": [
        "train_preds.shape"
      ],
      "execution_count": 85,
      "outputs": [
        {
          "output_type": "execute_result",
          "data": {
            "text/plain": [
              "torch.Size([60000, 10])"
            ]
          },
          "metadata": {
            "tags": []
          },
          "execution_count": 85
        }
      ]
    },
    {
      "cell_type": "code",
      "metadata": {
        "colab": {
          "base_uri": "https://localhost:8080/"
        },
        "id": "I2Zrg2DFKiKc",
        "outputId": "efce2bf0-b932-4b3a-b86d-45e525245c46"
      },
      "source": [
        "print(len(train_set.targets))\n",
        "print(len(train_set))"
      ],
      "execution_count": 86,
      "outputs": [
        {
          "output_type": "stream",
          "text": [
            "60000\n",
            "60000\n"
          ],
          "name": "stdout"
        }
      ]
    },
    {
      "cell_type": "code",
      "metadata": {
        "colab": {
          "base_uri": "https://localhost:8080/"
        },
        "id": "v2R9bzfWK4f7",
        "outputId": "ecf724da-92a0-469a-958d-1468c9d8cefd"
      },
      "source": [
        "preds_correct = get_num_correct(train_preds, train_set.targets)\n",
        "print(f'Total correct:', preds_correct)\n",
        "print(f'Accuracy:', preds_correct / len(train_set))"
      ],
      "execution_count": 87,
      "outputs": [
        {
          "output_type": "stream",
          "text": [
            "Total correct: 53413\n",
            "Accuracy: 0.8902166666666667\n"
          ],
          "name": "stdout"
        }
      ]
    },
    {
      "cell_type": "code",
      "metadata": {
        "colab": {
          "base_uri": "https://localhost:8080/"
        },
        "id": "oDw8RSHjRjXF",
        "outputId": "3f16f0d5-b627-49a3-b782-0d38e7641965"
      },
      "source": [
        "train_set.targets.shape"
      ],
      "execution_count": 88,
      "outputs": [
        {
          "output_type": "execute_result",
          "data": {
            "text/plain": [
              "torch.Size([60000])"
            ]
          },
          "metadata": {
            "tags": []
          },
          "execution_count": 88
        }
      ]
    },
    {
      "cell_type": "code",
      "metadata": {
        "colab": {
          "base_uri": "https://localhost:8080/"
        },
        "id": "rI2v1SDoRmrz",
        "outputId": "e3172926-ef67-4fb1-d7d8-f1653789d502"
      },
      "source": [
        "train_preds.argmax(dim=1)"
      ],
      "execution_count": 89,
      "outputs": [
        {
          "output_type": "execute_result",
          "data": {
            "text/plain": [
              "tensor([9, 0, 0,  ..., 3, 0, 5])"
            ]
          },
          "metadata": {
            "tags": []
          },
          "execution_count": 89
        }
      ]
    },
    {
      "cell_type": "code",
      "metadata": {
        "colab": {
          "base_uri": "https://localhost:8080/"
        },
        "id": "331s_SZzS_ZN",
        "outputId": "0631d51e-4853-4fe0-9cb0-65dacaea1b47"
      },
      "source": [
        "stacked = torch.stack(\n",
        "    (\n",
        "        train_set.targets,\n",
        "        train_preds.argmax(dim = 1)\n",
        "    ),\n",
        "    dim = 1\n",
        ")\n",
        "stacked.shape"
      ],
      "execution_count": 90,
      "outputs": [
        {
          "output_type": "execute_result",
          "data": {
            "text/plain": [
              "torch.Size([60000, 2])"
            ]
          },
          "metadata": {
            "tags": []
          },
          "execution_count": 90
        }
      ]
    },
    {
      "cell_type": "code",
      "metadata": {
        "colab": {
          "base_uri": "https://localhost:8080/"
        },
        "id": "oeKgu-EXTwtm",
        "outputId": "3fee20e3-98f8-4ae4-c014-cc73a0332a73"
      },
      "source": [
        "stacked"
      ],
      "execution_count": 91,
      "outputs": [
        {
          "output_type": "execute_result",
          "data": {
            "text/plain": [
              "tensor([[9, 9],\n",
              "        [0, 0],\n",
              "        [0, 0],\n",
              "        ...,\n",
              "        [3, 3],\n",
              "        [0, 0],\n",
              "        [5, 5]])"
            ]
          },
          "metadata": {
            "tags": []
          },
          "execution_count": 91
        }
      ]
    },
    {
      "cell_type": "code",
      "metadata": {
        "colab": {
          "base_uri": "https://localhost:8080/"
        },
        "id": "4Q1ZvgoFTzi-",
        "outputId": "4095bd88-2ff7-48c2-fac4-b35b1b19e673"
      },
      "source": [
        "stacked[0].tolist()"
      ],
      "execution_count": 92,
      "outputs": [
        {
          "output_type": "execute_result",
          "data": {
            "text/plain": [
              "[9, 9]"
            ]
          },
          "metadata": {
            "tags": []
          },
          "execution_count": 92
        }
      ]
    },
    {
      "cell_type": "code",
      "metadata": {
        "colab": {
          "base_uri": "https://localhost:8080/"
        },
        "id": "IHd0yqnUVwVg",
        "outputId": "a2bf94da-49dd-425b-c787-cf3756aae4ac"
      },
      "source": [
        "cmt = torch.zeros(10,10, dtype = torch.int64)\n",
        "cmt"
      ],
      "execution_count": 93,
      "outputs": [
        {
          "output_type": "execute_result",
          "data": {
            "text/plain": [
              "tensor([[0, 0, 0, 0, 0, 0, 0, 0, 0, 0],\n",
              "        [0, 0, 0, 0, 0, 0, 0, 0, 0, 0],\n",
              "        [0, 0, 0, 0, 0, 0, 0, 0, 0, 0],\n",
              "        [0, 0, 0, 0, 0, 0, 0, 0, 0, 0],\n",
              "        [0, 0, 0, 0, 0, 0, 0, 0, 0, 0],\n",
              "        [0, 0, 0, 0, 0, 0, 0, 0, 0, 0],\n",
              "        [0, 0, 0, 0, 0, 0, 0, 0, 0, 0],\n",
              "        [0, 0, 0, 0, 0, 0, 0, 0, 0, 0],\n",
              "        [0, 0, 0, 0, 0, 0, 0, 0, 0, 0],\n",
              "        [0, 0, 0, 0, 0, 0, 0, 0, 0, 0]])"
            ]
          },
          "metadata": {
            "tags": []
          },
          "execution_count": 93
        }
      ]
    },
    {
      "cell_type": "code",
      "metadata": {
        "colab": {
          "base_uri": "https://localhost:8080/"
        },
        "id": "6vCyqPGhbZEc",
        "outputId": "baa00d1a-e755-4517-8df3-271aba8ed272"
      },
      "source": [
        "tl, pl = stacked[0]\n",
        "print(f'tl:{tl}')\n",
        "print(f'pl:{pl}')\n",
        "cmt[0,0]"
      ],
      "execution_count": 94,
      "outputs": [
        {
          "output_type": "stream",
          "text": [
            "tl:9\n",
            "pl:9\n"
          ],
          "name": "stdout"
        },
        {
          "output_type": "execute_result",
          "data": {
            "text/plain": [
              "tensor(0)"
            ]
          },
          "metadata": {
            "tags": []
          },
          "execution_count": 94
        }
      ]
    },
    {
      "cell_type": "code",
      "metadata": {
        "colab": {
          "base_uri": "https://localhost:8080/"
        },
        "id": "LQtbq4RVWsyR",
        "outputId": "61c9545d-73e5-4427-ce74-e52c11a2d723"
      },
      "source": [
        "for p in stacked:\n",
        "  tl, pl = p.tolist()\n",
        "  cmt[tl,pl] = cmt[tl,pl] + 1\n",
        "cmt"
      ],
      "execution_count": 95,
      "outputs": [
        {
          "output_type": "execute_result",
          "data": {
            "text/plain": [
              "tensor([[5467,   14,   46,  110,    7,    0,  283,    5,   68,    0],\n",
              "        [   6, 5919,    3,   53,    6,    1,    6,    0,    6,    0],\n",
              "        [  94,    7, 4797,   58,  456,    9,  454,    3,  121,    1],\n",
              "        [ 140,  154,   13, 5423,  143,    4,   74,    0,   49,    0],\n",
              "        [   8,   10,  405,  227, 4703,    0,  543,    1,  100,    3],\n",
              "        [   0,    0,    0,    3,    0, 5796,    0,  122,   31,   48],\n",
              "        [1073,    8,  446,  136,  292,    0, 3818,    2,  224,    1],\n",
              "        [   0,    0,    0,    0,    0,   48,    0, 5872,    1,   79],\n",
              "        [  10,    2,    7,   12,    4,    9,   12,    5, 5938,    1],\n",
              "        [   0,    0,    1,    4,    0,   19,    0,  295,    1, 5680]])"
            ]
          },
          "metadata": {
            "tags": []
          },
          "execution_count": 95
        }
      ]
    },
    {
      "cell_type": "code",
      "metadata": {
        "id": "KDcqOYDTg950"
      },
      "source": [
        ""
      ],
      "execution_count": 95,
      "outputs": []
    },
    {
      "cell_type": "code",
      "metadata": {
        "id": "JNCl9iR7XN1s"
      },
      "source": [
        "from sklearn.metrics import confusion_matrix"
      ],
      "execution_count": 96,
      "outputs": []
    },
    {
      "cell_type": "code",
      "metadata": {
        "colab": {
          "base_uri": "https://localhost:8080/"
        },
        "id": "X5UxaaRrXcMV",
        "outputId": "c75195ac-26c7-43a6-cdc3-f7305eb6d185"
      },
      "source": [
        "cm = confusion_matrix(train_set.targets, train_preds.argmax(dim=1))\n",
        "print(type(cm))\n",
        "print(cm)"
      ],
      "execution_count": 97,
      "outputs": [
        {
          "output_type": "stream",
          "text": [
            "<class 'numpy.ndarray'>\n",
            "[[5467   14   46  110    7    0  283    5   68    0]\n",
            " [   6 5919    3   53    6    1    6    0    6    0]\n",
            " [  94    7 4797   58  456    9  454    3  121    1]\n",
            " [ 140  154   13 5423  143    4   74    0   49    0]\n",
            " [   8   10  405  227 4703    0  543    1  100    3]\n",
            " [   0    0    0    3    0 5796    0  122   31   48]\n",
            " [1073    8  446  136  292    0 3818    2  224    1]\n",
            " [   0    0    0    0    0   48    0 5872    1   79]\n",
            " [  10    2    7   12    4    9   12    5 5938    1]\n",
            " [   0    0    1    4    0   19    0  295    1 5680]]\n"
          ],
          "name": "stdout"
        }
      ]
    },
    {
      "cell_type": "code",
      "metadata": {
        "id": "Brfc04K7X8rp"
      },
      "source": [
        "def plot_confusion_matrix(cm, classes, normalize=False, title='Confusion matrix', cmap=plt.cm.Blues):\n",
        "    if normalize:\n",
        "        cm = cm.astype('float') / cm.sum(axis=1)[:, np.newaxis]\n",
        "        print(\"Normalized confusion matrix\")\n",
        "    else: \n",
        "        print('Confusion matrix, without normalization')\n",
        "\n",
        "    print(cm)\n",
        "    plt.imshow(cm, interpolation='nearest', cmap=cmap)\n",
        "    plt.title(title)\n",
        "    plt.colorbar()\n",
        "    tick_marks = np.arange(len(classes))\n",
        "    plt.xticks(tick_marks, classes, rotation=45)\n",
        "    plt.yticks(tick_marks, classes)\n",
        "\n",
        "    fmt = '.2f' if normalize else 'd'\n",
        "    thresh = cm.max() / 2.\n",
        "    for i, j in itertools.product(range(cm.shape[0]), range(cm.shape[1])):\n",
        "        plt.text(j, i, format(cm[i, j], fmt), horizontalalignment=\"center\", color=\"white\" if cm[i, j] > thresh else \"black\")\n",
        "\n",
        "    plt.tight_layout()\n",
        "    plt.ylabel('True label')\n",
        "    plt.xlabel('Predicted label')"
      ],
      "execution_count": 98,
      "outputs": []
    },
    {
      "cell_type": "code",
      "metadata": {
        "colab": {
          "base_uri": "https://localhost:8080/",
          "height": 916
        },
        "id": "uFsOYjWCX_We",
        "outputId": "42a09e2e-1804-4fe5-9a80-55b692cb45ba"
      },
      "source": [
        "plt.figure(figsize=(10,10))\n",
        "plot_confusion_matrix(cm,train_set.classes)"
      ],
      "execution_count": 99,
      "outputs": [
        {
          "output_type": "stream",
          "text": [
            "Confusion matrix, without normalization\n",
            "[[5467   14   46  110    7    0  283    5   68    0]\n",
            " [   6 5919    3   53    6    1    6    0    6    0]\n",
            " [  94    7 4797   58  456    9  454    3  121    1]\n",
            " [ 140  154   13 5423  143    4   74    0   49    0]\n",
            " [   8   10  405  227 4703    0  543    1  100    3]\n",
            " [   0    0    0    3    0 5796    0  122   31   48]\n",
            " [1073    8  446  136  292    0 3818    2  224    1]\n",
            " [   0    0    0    0    0   48    0 5872    1   79]\n",
            " [  10    2    7   12    4    9   12    5 5938    1]\n",
            " [   0    0    1    4    0   19    0  295    1 5680]]\n"
          ],
          "name": "stdout"
        },
        {
          "output_type": "display_data",
          "data": {
            "image/png": "[encoded data removed]",
            "text/plain": [
              "<Figure size 720x720 with 2 Axes>"
            ]
          },
          "metadata": {
            "tags": [],
            "needs_background": "light"
          }
        }
      ]
    }
  ]
}