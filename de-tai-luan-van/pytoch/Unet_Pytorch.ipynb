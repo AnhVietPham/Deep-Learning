{
  "nbformat": 4,
  "nbformat_minor": 0,
  "metadata": {
    "colab": {
      "name": "Unet-Pytorch.ipynb",
      "provenance": [],
      "authorship_tag": "ABX9TyM1caJ23lE80vqPwqOf6GQr",
      "include_colab_link": true
    },
    "kernelspec": {
      "name": "python3",
      "display_name": "Python 3"
    },
    "language_info": {
      "name": "python"
    },
    "accelerator": "GPU",
    "gpuClass": "standard"
  },
  "cells": [
    {
      "cell_type": "markdown",
      "metadata": {
        "id": "view-in-github",
        "colab_type": "text"
      },
      "source": [
        "<a href=\"https://colab.research.google.com/github/AnhVietPham/Deep-Learning/blob/main/de-tai-luan-van/pytoch/Unet_Pytorch.ipynb\" target=\"_parent\"><img src=\"https://colab.research.google.com/assets/colab-badge.svg\" alt=\"Open In Colab\"/></a>"
      ]
    },
    {
      "cell_type": "code",
      "execution_count": 1,
      "metadata": {
        "id": "P4-iIE8bCIzn"
      },
      "outputs": [],
      "source": [
        "import matplotlib.pyplot as plt\n",
        "import numpy as np\n",
        "import numpy as np\n",
        "import random\n",
        "import torch\n",
        "import torch.nn as nn\n",
        "from functools import reduce\n",
        "import itertools\n",
        "from torch.utils.data import Dataset, DataLoader\n",
        "from torchvision import transforms, datasets, models\n",
        "import torch.nn.functional as F\n",
        "import copy\n",
        "import time\n",
        "from collections import defaultdict\n",
        "from torch import optim\n",
        "from torch.optim import lr_scheduler"
      ]
    },
    {
      "cell_type": "code",
      "source": [
        "def double_conv(in_channels, out_channels):\n",
        "    return nn.Sequential(\n",
        "        nn.Conv2d(in_channels, out_channels, 3, padding=1),\n",
        "        nn.ReLU(inplace=True),\n",
        "        nn.Conv2d(out_channels, out_channels, 3, padding=1),\n",
        "        nn.ReLU(inplace=True)\n",
        "    )\n",
        "\n",
        "\n",
        "class UNet(nn.Module):\n",
        "    def __init__(self, n_class):\n",
        "        super().__init__()\n",
        "        self.dconv_down1 = double_conv(3, 64)\n",
        "        self.dconv_down2 = double_conv(64, 128)\n",
        "        self.dconv_down3 = double_conv(128, 256)\n",
        "        self.dconv_down4 = double_conv(256, 512)\n",
        "\n",
        "        self.maxpool = nn.MaxPool2d(2)\n",
        "        self.upsample = nn.Upsample(scale_factor=2, mode='bilinear', align_corners=True)\n",
        "\n",
        "        self.dconv_up3 = double_conv(256 + 512, 256)\n",
        "        self.dconv_up2 = double_conv(128 + 256, 128)\n",
        "        self.dconv_up1 = double_conv(128 + 64, 64)\n",
        "\n",
        "        self.conv_last = nn.Conv2d(64, n_class, 1)\n",
        "\n",
        "    def forward(self, x):\n",
        "        conv1 = self.dconv_down1(x)\n",
        "        x = self.maxpool(conv1)\n",
        "\n",
        "        conv2 = self.dconv_down2(x)\n",
        "        x = self.maxpool(conv2)\n",
        "\n",
        "        conv3 = self.dconv_down3(x)\n",
        "        x = self.maxpool(conv3)\n",
        "\n",
        "        x = self.dconv_down4(x)\n",
        "\n",
        "        x = self.upsample(x)\n",
        "        x = torch.cat([x, conv3], dim=1)\n",
        "\n",
        "        x = self.dconv_up3(x)\n",
        "        x = self.upsample(x)\n",
        "        x = torch.cat([x, conv2], dim=1)\n",
        "\n",
        "        x = self.dconv_up2(x)\n",
        "        x = self.upsample(x)\n",
        "        x = torch.cat([x, conv1], dim=1)\n",
        "\n",
        "        x = self.dconv_up1(x)\n",
        "\n",
        "        out = self.conv_last(x)\n",
        "\n",
        "        return out"
      ],
      "metadata": {
        "id": "xVcMc9n_fcDl"
      },
      "execution_count": 2,
      "outputs": []
    },
    {
      "cell_type": "code",
      "source": [
        "def plot_img_array(img_array, ncol=3):\n",
        "    nrow = len(img_array) // ncol\n",
        "    f, plots = plt.subplots(nrow, ncol, sharex='all', sharey='all', figsize=(ncol * 4, nrow * 4))\n",
        "    for i in range(len(img_array)):\n",
        "        plots[i // ncol, i % ncol]\n",
        "        plots[i // ncol, i % ncol].imshow(img_array[i])\n",
        "\n",
        "\n",
        "def plot_side_by_side(img_arrays):\n",
        "    flatten_list = reduce(lambda x, y: x + y, zip(*img_arrays))\n",
        "\n",
        "    plot_img_array(np.array(flatten_list), ncol=len(img_arrays))\n",
        "\n",
        "\n",
        "def plot_errors(results_dict, title):\n",
        "    markers = itertools.cycle(('+', 'x', 'o'))\n",
        "\n",
        "    plt.title('{}'.format(title))\n",
        "\n",
        "    for label, result in sorted(results_dict.items()):\n",
        "        plt.plot(result, marker=next(markers), label=label)\n",
        "        plt.ylabel('dice_coef')\n",
        "        plt.xlabel('epoch')\n",
        "        plt.legend(loc=3, bbox_to_anchor=(1, 0))\n",
        "\n",
        "    plt.show()\n",
        "\n",
        "\n",
        "def masks_to_colorimg(masks):\n",
        "    colors = np.asarray([(201, 58, 64), (242, 207, 1), (0, 152, 75), (101, 172, 228), (56, 34, 132), (160, 194, 56)])\n",
        "\n",
        "    colorimg = np.ones((masks.shape[1], masks.shape[2], 3), dtype=np.float32) * 255\n",
        "    channels, height, width = masks.shape\n",
        "\n",
        "    for y in range(height):\n",
        "        for x in range(width):\n",
        "            selected_colors = colors[masks[:, y, x] > 0.5]\n",
        "\n",
        "            if len(selected_colors) > 0:\n",
        "                colorimg[y, x, :] = np.mean(selected_colors, axis=0)\n",
        "\n",
        "    return colorimg.astype(np.uint8)\n"
      ],
      "metadata": {
        "id": "2QL57SO5CX02"
      },
      "execution_count": 3,
      "outputs": []
    },
    {
      "cell_type": "code",
      "source": [
        "def generate_random_data(height, width, count):\n",
        "    x, y = zip(*[generate_img_and_mask(height, width) for i in range(0, count)])\n",
        "\n",
        "    X = np.asarray(x) * 255\n",
        "    X = X.repeat(3, axis=1).transpose([0, 2, 3, 1]).astype(np.uint8)\n",
        "    Y = np.asarray(y)\n",
        "\n",
        "    return X, Y\n",
        "\n",
        "\n",
        "def generate_img_and_mask(height, width):\n",
        "    shape = (height, width)\n",
        "\n",
        "    triangle_location = get_random_location(*shape)\n",
        "    circle_location1 = get_random_location(*shape, zoom=0.7)\n",
        "    circle_location2 = get_random_location(*shape, zoom=0.5)\n",
        "    mesh_location = get_random_location(*shape)\n",
        "    square_location = get_random_location(*shape, zoom=0.8)\n",
        "    plus_location = get_random_location(*shape, zoom=1.2)\n",
        "\n",
        "    # Create input image\n",
        "    arr = np.zeros(shape, dtype=bool)\n",
        "    arr = add_triangle(arr, *triangle_location)\n",
        "    arr = add_circle(arr, *circle_location1)\n",
        "    arr = add_circle(arr, *circle_location2, fill=True)\n",
        "    arr = add_mesh_square(arr, *mesh_location)\n",
        "    arr = add_filled_square(arr, *square_location)\n",
        "    arr = add_plus(arr, *plus_location)\n",
        "    arr = np.reshape(arr, (1, height, width)).astype(np.float32)\n",
        "\n",
        "    # Create target masks\n",
        "    masks = np.asarray([\n",
        "        add_filled_square(np.zeros(shape, dtype=bool), *square_location),\n",
        "        add_circle(np.zeros(shape, dtype=bool), *circle_location2, fill=True),\n",
        "        add_triangle(np.zeros(shape, dtype=bool), *triangle_location),\n",
        "        add_circle(np.zeros(shape, dtype=bool), *circle_location1),\n",
        "        add_filled_square(np.zeros(shape, dtype=bool), *mesh_location),\n",
        "        # add_mesh_square(np.zeros(shape, dtype=bool), *mesh_location),\n",
        "        add_plus(np.zeros(shape, dtype=bool), *plus_location)\n",
        "    ]).astype(np.float32)\n",
        "\n",
        "    return arr, masks\n",
        "\n",
        "\n",
        "def add_square(arr, x, y, size):\n",
        "    s = int(size / 2)\n",
        "    arr[x - s, y - s:y + s] = True\n",
        "    arr[x + s, y - s:y + s] = True\n",
        "    arr[x - s:x + s, y - s] = True\n",
        "    arr[x - s:x + s, y + s] = True\n",
        "\n",
        "    return arr\n",
        "\n",
        "\n",
        "def add_filled_square(arr, x, y, size):\n",
        "    s = int(size / 2)\n",
        "\n",
        "    xx, yy = np.mgrid[:arr.shape[0], :arr.shape[1]]\n",
        "\n",
        "    return np.logical_or(arr, logical_and([xx > x - s, xx < x + s, yy > y - s, yy < y + s]))\n",
        "\n",
        "\n",
        "def logical_and(arrays):\n",
        "    new_array = np.ones(arrays[0].shape, dtype=bool)\n",
        "    for a in arrays:\n",
        "        new_array = np.logical_and(new_array, a)\n",
        "\n",
        "    return new_array\n",
        "\n",
        "\n",
        "def add_mesh_square(arr, x, y, size):\n",
        "    s = int(size / 2)\n",
        "\n",
        "    xx, yy = np.mgrid[:arr.shape[0], :arr.shape[1]]\n",
        "\n",
        "    return np.logical_or(arr, logical_and([xx > x - s, xx < x + s, xx % 2 == 1, yy > y - s, yy < y + s, yy % 2 == 1]))\n",
        "\n",
        "\n",
        "def add_triangle(arr, x, y, size):\n",
        "    s = int(size / 2)\n",
        "\n",
        "    triangle = np.tril(np.ones((size, size), dtype=bool))\n",
        "\n",
        "    arr[x - s:x - s + triangle.shape[0], y - s:y - s + triangle.shape[1]] = triangle\n",
        "\n",
        "    return arr\n",
        "\n",
        "\n",
        "def add_circle(arr, x, y, size, fill=False):\n",
        "    xx, yy = np.mgrid[:arr.shape[0], :arr.shape[1]]\n",
        "    circle = np.sqrt((xx - x) ** 2 + (yy - y) ** 2)\n",
        "    new_arr = np.logical_or(arr, np.logical_and(circle < size, circle >= size * 0.7 if not fill else True))\n",
        "\n",
        "    return new_arr\n",
        "\n",
        "\n",
        "def add_plus(arr, x, y, size):\n",
        "    s = int(size / 2)\n",
        "    arr[x - 1:x + 1, y - s:y + s] = True\n",
        "    arr[x - s:x + s, y - 1:y + 1] = True\n",
        "\n",
        "    return arr\n",
        "\n",
        "\n",
        "def get_random_location(width, height, zoom=1.0):\n",
        "    x = int(width * random.uniform(0.1, 0.9))\n",
        "    y = int(height * random.uniform(0.1, 0.9))\n",
        "\n",
        "    size = int(min(width, height) * random.uniform(0.06, 0.12) * zoom)\n",
        "\n",
        "    return (x, y, size)"
      ],
      "metadata": {
        "id": "OqhwvmO8Cf-T"
      },
      "execution_count": 4,
      "outputs": []
    },
    {
      "cell_type": "code",
      "source": [
        "input_images, target_masks = generate_random_data(192, 192, count=10)\n",
        "for x in [input_images, target_masks]:\n",
        "    print(x.shape)\n",
        "    print(x.min(), x.max())\n",
        "\n",
        "# Change channel-order and make 3 channels for matplot\n",
        "input_images_rgb = [x.astype(np.uint8) for x in input_images]\n",
        "\n",
        "# Map each channel (i.e. class) to each color\n",
        "target_masks_rgb = [masks_to_colorimg(x) for x in target_masks]\n",
        "\n",
        "# Left: Input image, Right: Target mask (Ground-truth)\n",
        "plot_side_by_side([input_images_rgb, target_masks_rgb])"
      ],
      "metadata": {
        "colab": {
          "base_uri": "https://localhost:8080/",
          "height": 1000
        },
        "id": "4yIt8togCkaW",
        "outputId": "ac5ca8f5-d125-4dfa-e6af-b981feafa2d8"
      },
      "execution_count": 5,
      "outputs": [
        {
          "output_type": "stream",
          "name": "stdout",
          "text": [
            "(10, 192, 192, 3)\n",
            "0 255\n",
            "(10, 6, 192, 192)\n",
            "0.0 1.0\n"
          ]
        },
        {
          "output_type": "display_data",
          "data": {
            "text/plain": [
              "<Figure size 576x2880 with 20 Axes>"
            ],
            "image/png": "[encoded data removed]"
          },
          "metadata": {
            "needs_background": "light"
          }
        }
      ]
    },
    {
      "cell_type": "code",
      "source": [
        "class SimpleDataset(Dataset):\n",
        "    def __init__(self, count, transform=None):\n",
        "        self.input_images, self.target_masks = generate_random_data(192, 192, count=count)\n",
        "        self.transform = transform\n",
        "\n",
        "    def __len__(self):\n",
        "        return len(self.input_images)\n",
        "\n",
        "    def __getitem__(self, idx):\n",
        "        image = self.input_images[idx]\n",
        "        mask = self.target_masks[idx]\n",
        "        if self.transform:\n",
        "            image = self.transform(image)\n",
        "\n",
        "        return [image, mask]"
      ],
      "metadata": {
        "id": "xHf41KqWNmPB"
      },
      "execution_count": 6,
      "outputs": []
    },
    {
      "cell_type": "code",
      "source": [
        "trans = transforms.Compose([\n",
        "        transforms.ToTensor()\n",
        "    ])\n",
        "\n",
        "train_set = SimpleDataset(100, transform=trans)\n",
        "val_set = SimpleDataset(50, transform=trans)\n",
        "\n",
        "image_datasets = {\n",
        "    'train': train_set,\n",
        "    'val': val_set\n",
        "}\n",
        "\n",
        "batch_size = 25\n",
        "\n",
        "dataloaders = {\n",
        "    'train': DataLoader(train_set, batch_size=batch_size, shuffle=True, num_workers=0),\n",
        "    'val': DataLoader(val_set, batch_size=batch_size, shuffle=True, num_workers=0)\n",
        "}\n",
        "\n",
        "dataset_sizes = {\n",
        "    x: len(image_datasets[x]) for x in image_datasets.keys()\n",
        "}\n",
        "print(dataset_sizes)"
      ],
      "metadata": {
        "colab": {
          "base_uri": "https://localhost:8080/"
        },
        "id": "UKxmWZYhN1LN",
        "outputId": "fa6b25a5-528e-40b7-d833-db1d8056732e"
      },
      "execution_count": 7,
      "outputs": [
        {
          "output_type": "stream",
          "name": "stdout",
          "text": [
            "{'train': 100, 'val': 50}\n"
          ]
        }
      ]
    },
    {
      "cell_type": "code",
      "source": [
        "# Get a batch of training data\n",
        "inputs, masks = next(iter(dataloaders['train']))\n",
        "\n",
        "print(inputs.shape, masks.shape)\n",
        "for x in [inputs.numpy(), masks.numpy()]:\n",
        "  print(x.min(), x.max(), x.mean(), x.std())"
      ],
      "metadata": {
        "colab": {
          "base_uri": "https://localhost:8080/"
        },
        "id": "TzjWJLfpOAEx",
        "outputId": "64dc8452-1794-459d-835a-9bca4427e89d"
      },
      "execution_count": 8,
      "outputs": [
        {
          "output_type": "stream",
          "name": "stdout",
          "text": [
            "torch.Size([25, 3, 192, 192]) torch.Size([25, 6, 192, 192])\n",
            "0.0 1.0 0.023472222 0.1513977\n",
            "0.0 1.0 0.0048824507 0.06970375\n"
          ]
        }
      ]
    },
    {
      "cell_type": "code",
      "source": [
        "def reverse_transform(inp):\n",
        "    inp = inp.numpy().transpose((1, 2, 0))\n",
        "    inp = np.clip(inp, 0, 1)\n",
        "    inp = (inp * 255).astype(np.uint8)\n",
        "    \n",
        "    return inp"
      ],
      "metadata": {
        "id": "VrbJwD6wOP7t"
      },
      "execution_count": 9,
      "outputs": []
    },
    {
      "cell_type": "code",
      "source": [
        "inputs[3].shape"
      ],
      "metadata": {
        "colab": {
          "base_uri": "https://localhost:8080/"
        },
        "id": "eW58w7bNOai7",
        "outputId": "66f02e2b-b8ce-47fa-fbd2-191fcddc45d5"
      },
      "execution_count": 10,
      "outputs": [
        {
          "output_type": "execute_result",
          "data": {
            "text/plain": [
              "torch.Size([3, 192, 192])"
            ]
          },
          "metadata": {},
          "execution_count": 10
        }
      ]
    },
    {
      "cell_type": "code",
      "source": [
        "masks[3].shape"
      ],
      "metadata": {
        "colab": {
          "base_uri": "https://localhost:8080/"
        },
        "id": "zihhjWwoOdiB",
        "outputId": "45b544fa-4eff-43a3-cab4-4153259dc73e"
      },
      "execution_count": 11,
      "outputs": [
        {
          "output_type": "execute_result",
          "data": {
            "text/plain": [
              "torch.Size([6, 192, 192])"
            ]
          },
          "metadata": {},
          "execution_count": 11
        }
      ]
    },
    {
      "cell_type": "code",
      "source": [
        "plt.imshow(reverse_transform(inputs[3]))"
      ],
      "metadata": {
        "colab": {
          "base_uri": "https://localhost:8080/",
          "height": 287
        },
        "id": "s_nE-J_UOKAZ",
        "outputId": "c0b65bd1-8329-428a-b4c7-7a540f4d5fc8"
      },
      "execution_count": 12,
      "outputs": [
        {
          "output_type": "execute_result",
          "data": {
            "text/plain": [
              "<matplotlib.image.AxesImage at 0x7fbc61547490>"
            ]
          },
          "metadata": {},
          "execution_count": 12
        },
        {
          "output_type": "display_data",
          "data": {
            "text/plain": [
              "<Figure size 432x288 with 1 Axes>"
            ],
            "image/png": "[encoded data removed]"
          },
          "metadata": {
            "needs_background": "light"
          }
        }
      ]
    },
    {
      "cell_type": "code",
      "source": [
        "def dice_loss(pred, target, smooth=1.):\n",
        "    pred = pred.contiguous()\n",
        "    target = target.contiguous()\n",
        "\n",
        "    intersection = (pred * target).sum(dim=2).sum(dim=2)\n",
        "\n",
        "    loss = (1 - ((2. * intersection + smooth) / (pred.sum(dim=2).sum(dim=2) + target.sum(dim=2).sum(dim=2) + smooth)))\n",
        "\n",
        "    return loss.mean()\n",
        "\n",
        "\n",
        "def calc_loss(pred, target, metrics, bce_weight=0.5):\n",
        "    bce = F.binary_cross_entropy_with_logits(pred, target)\n",
        "\n",
        "    pred = F.sigmoid(pred)\n",
        "    dice = dice_loss(pred, target)\n",
        "\n",
        "    loss = bce * bce_weight + dice * (1 - bce_weight)\n",
        "\n",
        "    metrics['bce'] += bce.data.cpu().numpy() * target.size(0)\n",
        "    metrics['dice'] += dice.data.cpu().numpy() * target.size(0)\n",
        "    metrics['loss'] += loss.data.cpu().numpy() * target.size(0)\n",
        "\n",
        "    return loss\n",
        "\n",
        "\n",
        "def print_metrics(metrics, epoch_samples, phase):\n",
        "    outputs = []\n",
        "    for k in metrics.keys():\n",
        "        outputs.append(\"{}: {:4f}\".format(k, metrics[k] / epoch_samples))\n",
        "\n",
        "    print(\"{}: {}\".format(phase, \", \".join(outputs)))\n",
        "\n",
        "\n",
        "\n",
        "def train_model(model, optimizer, scheduler, dataloader, device, num_epochs=25):\n",
        "    best_model_wts = copy.deepcopy(model.state_dict())\n",
        "    best_loss = 1e10\n",
        "\n",
        "    for epoch in range(num_epochs):\n",
        "        print(f'Epoch {epoch}/{num_epochs - 1}')\n",
        "\n",
        "        since = time.time()\n",
        "\n",
        "        for phase in ['train', 'val']:\n",
        "            if phase == 'train':\n",
        "                scheduler.step()\n",
        "                for param_group in optimizer.param_groups:\n",
        "                    print(f\"LR {param_group['lr']}\")\n",
        "            else:\n",
        "                model.eval()\n",
        "\n",
        "            metrics = defaultdict(float)\n",
        "            epoch_samples = 0\n",
        "\n",
        "            for inputs, labels in dataloader[phase]:\n",
        "                inputs = inputs.to(device)\n",
        "                labels = labels.to(device)\n",
        "\n",
        "                optimizer.zero_grad()\n",
        "\n",
        "                with torch.set_grad_enabled(phase == 'train'):\n",
        "                    outputs = model(inputs)\n",
        "                    loss = calc_loss(outputs, labels, metrics)\n",
        "\n",
        "                    if phase == 'train':\n",
        "                        loss.backward()\n",
        "                        optimizer.step()\n",
        "\n",
        "                epoch_samples += inputs.size(0)\n",
        "\n",
        "            print_metrics(metrics, epoch_samples, phase)\n",
        "            epoch_loss = metrics['loss'] / epoch_samples\n",
        "\n",
        "            if phase == 'val' and epoch_loss < best_loss:\n",
        "                print(\"Saving best model\")\n",
        "                best_loss = epoch_loss\n",
        "                best_model_wts = copy.deepcopy(model.state_dict())\n",
        "\n",
        "        time_elapsed = time.time() - since\n",
        "\n",
        "    print('Best val loss: {:4f}'.format(best_loss))\n",
        "\n",
        "    # load best model weights\n",
        "    model.load_state_dict(best_model_wts)\n",
        "    return model"
      ],
      "metadata": {
        "id": "_u1HMIgOewdK"
      },
      "execution_count": 13,
      "outputs": []
    },
    {
      "cell_type": "code",
      "source": [
        "device = torch.device('cuda' if torch.cuda.is_available() else 'cpu')\n",
        "num_class = 6\n",
        "model = UNet(num_class).to(device)\n",
        "    # Observe that all parameters are being optimized\n",
        "optimizer_ft = optim.Adam(model.parameters(), lr=1e-4)\n",
        "\n",
        "exp_lr_scheduler = lr_scheduler.StepLR(optimizer_ft, step_size=25, gamma=0.1)\n",
        "\n",
        "model = train_model(model, optimizer_ft, exp_lr_scheduler, dataloaders, device, num_epochs=40)"
      ],
      "metadata": {
        "colab": {
          "base_uri": "https://localhost:8080/"
        },
        "id": "JShYhOqHfB1s",
        "outputId": "14a1639b-494e-41ed-c842-00d9089eda9a"
      },
      "execution_count": 14,
      "outputs": [
        {
          "output_type": "stream",
          "name": "stdout",
          "text": [
            "Epoch 0/39\n",
            "LR 0.0001\n"
          ]
        },
        {
          "output_type": "stream",
          "name": "stderr",
          "text": [
            "/usr/local/lib/python3.7/dist-packages/torch/optim/lr_scheduler.py:136: UserWarning: Detected call of `lr_scheduler.step()` before `optimizer.step()`. In PyTorch 1.1.0 and later, you should call them in the opposite order: `optimizer.step()` before `lr_scheduler.step()`.  Failure to do this will result in PyTorch skipping the first value of the learning rate schedule. See more details at https://pytorch.org/docs/stable/optim.html#how-to-adjust-learning-rate\n",
            "  \"https://pytorch.org/docs/stable/optim.html#how-to-adjust-learning-rate\", UserWarning)\n",
            "/usr/local/lib/python3.7/dist-packages/torch/nn/functional.py:1944: UserWarning: nn.functional.sigmoid is deprecated. Use torch.sigmoid instead.\n",
            "  warnings.warn(\"nn.functional.sigmoid is deprecated. Use torch.sigmoid instead.\")\n"
          ]
        },
        {
          "output_type": "stream",
          "name": "stdout",
          "text": [
            "train: bce: 0.704694, dice: 0.990718, loss: 0.847706\n",
            "val: bce: 0.703481, dice: 0.991010, loss: 0.847246\n",
            "Saving best model\n",
            "Epoch 1/39\n",
            "LR 0.0001\n",
            "train: bce: 0.702616, dice: 0.990733, loss: 0.846674\n",
            "val: bce: 0.701054, dice: 0.991026, loss: 0.846040\n",
            "Saving best model\n",
            "Epoch 2/39\n",
            "LR 0.0001\n",
            "train: bce: 0.699130, dice: 0.990756, loss: 0.844943\n",
            "val: bce: 0.693634, dice: 0.991073, loss: 0.842354\n",
            "Saving best model\n",
            "Epoch 3/39\n",
            "LR 0.0001\n",
            "train: bce: 0.680641, dice: 0.990867, loss: 0.835754\n",
            "val: bce: 0.632666, dice: 0.991455, loss: 0.812061\n",
            "Saving best model\n",
            "Epoch 4/39\n",
            "LR 0.0001\n",
            "train: bce: 0.516637, dice: 0.992329, loss: 0.754483\n",
            "val: bce: 0.204319, dice: 0.996970, loss: 0.600644\n",
            "Saving best model\n",
            "Epoch 5/39\n",
            "LR 0.0001\n",
            "train: bce: 0.117222, dice: 0.997379, loss: 0.557300\n",
            "val: bce: 0.142861, dice: 0.994248, loss: 0.568555\n",
            "Saving best model\n",
            "Epoch 6/39\n",
            "LR 0.0001\n",
            "train: bce: 0.169969, dice: 0.993526, loss: 0.581747\n",
            "val: bce: 0.141061, dice: 0.993399, loss: 0.567230\n",
            "Saving best model\n",
            "Epoch 7/39\n",
            "LR 0.0001\n",
            "train: bce: 0.105169, dice: 0.994608, loss: 0.549889\n",
            "val: bce: 0.056744, dice: 0.996747, loss: 0.526746\n",
            "Saving best model\n",
            "Epoch 8/39\n",
            "LR 0.0001\n",
            "train: bce: 0.060538, dice: 0.997016, loss: 0.528777\n",
            "val: bce: 0.069034, dice: 0.996873, loss: 0.532954\n",
            "Epoch 9/39\n",
            "LR 0.0001\n",
            "train: bce: 0.062189, dice: 0.996908, loss: 0.529549\n",
            "val: bce: 0.046535, dice: 0.997490, loss: 0.522013\n",
            "Saving best model\n",
            "Epoch 10/39\n",
            "LR 0.0001\n",
            "train: bce: 0.045746, dice: 0.997450, loss: 0.521598\n",
            "val: bce: 0.046344, dice: 0.997098, loss: 0.521721\n",
            "Saving best model\n",
            "Epoch 11/39\n",
            "LR 0.0001\n",
            "train: bce: 0.047664, dice: 0.996992, loss: 0.522328\n",
            "val: bce: 0.045108, dice: 0.997021, loss: 0.521065\n",
            "Saving best model\n",
            "Epoch 12/39\n",
            "LR 0.0001\n",
            "train: bce: 0.044273, dice: 0.997089, loss: 0.520681\n",
            "val: bce: 0.041405, dice: 0.997063, loss: 0.519234\n",
            "Saving best model\n",
            "Epoch 13/39\n",
            "LR 0.0001\n",
            "train: bce: 0.042032, dice: 0.996805, loss: 0.519419\n",
            "val: bce: 0.040671, dice: 0.996608, loss: 0.518640\n",
            "Saving best model\n",
            "Epoch 14/39\n",
            "LR 0.0001\n",
            "train: bce: 0.040155, dice: 0.996532, loss: 0.518343\n",
            "val: bce: 0.037802, dice: 0.996586, loss: 0.517194\n",
            "Saving best model\n",
            "Epoch 15/39\n",
            "LR 0.0001\n",
            "train: bce: 0.037879, dice: 0.996383, loss: 0.517131\n",
            "val: bce: 0.035856, dice: 0.995968, loss: 0.515912\n",
            "Saving best model\n",
            "Epoch 16/39\n",
            "LR 0.0001\n",
            "train: bce: 0.036038, dice: 0.995472, loss: 0.515755\n",
            "val: bce: 0.034417, dice: 0.994783, loss: 0.514600\n",
            "Saving best model\n",
            "Epoch 17/39\n",
            "LR 0.0001\n",
            "train: bce: 0.034401, dice: 0.994278, loss: 0.514339\n",
            "val: bce: 0.032412, dice: 0.993460, loss: 0.512936\n",
            "Saving best model\n",
            "Epoch 18/39\n",
            "LR 0.0001\n",
            "train: bce: 0.032254, dice: 0.992559, loss: 0.512407\n",
            "val: bce: 0.030276, dice: 0.990675, loss: 0.510475\n",
            "Saving best model\n",
            "Epoch 19/39\n",
            "LR 0.0001\n",
            "train: bce: 0.029916, dice: 0.988962, loss: 0.509439\n",
            "val: bce: 0.027377, dice: 0.985522, loss: 0.506449\n",
            "Saving best model\n",
            "Epoch 20/39\n",
            "LR 0.0001\n",
            "train: bce: 0.027068, dice: 0.981499, loss: 0.504283\n",
            "val: bce: 0.024286, dice: 0.974108, loss: 0.499197\n",
            "Saving best model\n",
            "Epoch 21/39\n",
            "LR 0.0001\n",
            "train: bce: 0.024067, dice: 0.966004, loss: 0.495036\n",
            "val: bce: 0.020593, dice: 0.951818, loss: 0.486206\n",
            "Saving best model\n",
            "Epoch 22/39\n",
            "LR 0.0001\n",
            "train: bce: 0.022119, dice: 0.938391, loss: 0.480255\n",
            "val: bce: 0.022204, dice: 0.910743, loss: 0.466474\n",
            "Saving best model\n",
            "Epoch 23/39\n",
            "LR 0.0001\n",
            "train: bce: 0.022928, dice: 0.902072, loss: 0.462500\n",
            "val: bce: 0.026730, dice: 0.874867, loss: 0.450799\n",
            "Saving best model\n",
            "Epoch 24/39\n",
            "LR 1e-05\n",
            "train: bce: 0.027401, dice: 0.877091, loss: 0.452246\n",
            "val: bce: 0.022916, dice: 0.872991, loss: 0.447954\n",
            "Saving best model\n",
            "Epoch 25/39\n",
            "LR 1e-05\n",
            "train: bce: 0.023477, dice: 0.878477, loss: 0.450977\n",
            "val: bce: 0.022107, dice: 0.872933, loss: 0.447520\n",
            "Saving best model\n",
            "Epoch 26/39\n",
            "LR 1e-05\n",
            "train: bce: 0.024795, dice: 0.874553, loss: 0.449674\n",
            "val: bce: 0.025157, dice: 0.868397, loss: 0.446777\n",
            "Saving best model\n",
            "Epoch 27/39\n",
            "LR 1e-05\n",
            "train: bce: 0.026503, dice: 0.871376, loss: 0.448939\n",
            "val: bce: 0.023733, dice: 0.867146, loss: 0.445439\n",
            "Saving best model\n",
            "Epoch 28/39\n",
            "LR 1e-05\n",
            "train: bce: 0.024586, dice: 0.871361, loss: 0.447974\n",
            "val: bce: 0.022962, dice: 0.866643, loss: 0.444802\n",
            "Saving best model\n",
            "Epoch 29/39\n",
            "LR 1e-05\n",
            "train: bce: 0.024867, dice: 0.869245, loss: 0.447056\n",
            "val: bce: 0.024390, dice: 0.863729, loss: 0.444059\n",
            "Saving best model\n",
            "Epoch 30/39\n",
            "LR 1e-05\n",
            "train: bce: 0.026031, dice: 0.866706, loss: 0.446368\n",
            "val: bce: 0.024204, dice: 0.862365, loss: 0.443284\n",
            "Saving best model\n",
            "Epoch 31/39\n",
            "LR 1e-05\n",
            "train: bce: 0.025304, dice: 0.865766, loss: 0.445535\n",
            "val: bce: 0.023388, dice: 0.861690, loss: 0.442539\n",
            "Saving best model\n",
            "Epoch 32/39\n",
            "LR 1e-05\n",
            "train: bce: 0.024891, dice: 0.864740, loss: 0.444816\n",
            "val: bce: 0.023865, dice: 0.859716, loss: 0.441791\n",
            "Saving best model\n",
            "Epoch 33/39\n",
            "LR 1e-05\n",
            "train: bce: 0.025468, dice: 0.862516, loss: 0.443992\n",
            "val: bce: 0.024142, dice: 0.858067, loss: 0.441105\n",
            "Saving best model\n",
            "Epoch 34/39\n",
            "LR 1e-05\n",
            "train: bce: 0.025361, dice: 0.860968, loss: 0.443165\n",
            "val: bce: 0.023511, dice: 0.856948, loss: 0.440230\n",
            "Saving best model\n",
            "Epoch 35/39\n",
            "LR 1e-05\n",
            "train: bce: 0.024725, dice: 0.859829, loss: 0.442277\n",
            "val: bce: 0.023285, dice: 0.855366, loss: 0.439325\n",
            "Saving best model\n",
            "Epoch 36/39\n",
            "LR 1e-05\n",
            "train: bce: 0.024513, dice: 0.857892, loss: 0.441203\n",
            "val: bce: 0.023184, dice: 0.853308, loss: 0.438246\n",
            "Saving best model\n",
            "Epoch 37/39\n",
            "LR 1e-05\n",
            "train: bce: 0.024351, dice: 0.855413, loss: 0.439882\n",
            "val: bce: 0.022677, dice: 0.850963, loss: 0.436820\n",
            "Saving best model\n",
            "Epoch 38/39\n",
            "LR 1e-05\n",
            "train: bce: 0.023377, dice: 0.852684, loss: 0.438030\n",
            "val: bce: 0.021428, dice: 0.848008, loss: 0.434718\n",
            "Saving best model\n",
            "Epoch 39/39\n",
            "LR 1e-05\n",
            "train: bce: 0.021767, dice: 0.848890, loss: 0.435328\n",
            "val: bce: 0.019528, dice: 0.844323, loss: 0.431925\n",
            "Saving best model\n",
            "Best val loss: 0.431925\n"
          ]
        }
      ]
    }
  ]
}