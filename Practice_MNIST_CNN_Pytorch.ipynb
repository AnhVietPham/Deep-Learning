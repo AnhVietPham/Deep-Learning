{
  "nbformat": 4,
  "nbformat_minor": 0,
  "metadata": {
    "colab": {
      "name": "Practice-MNIST-CNN-Pytorch.ipynb",
      "provenance": [],
      "collapsed_sections": [],
      "machine_shape": "hm",
      "authorship_tag": "ABX9TyOgHUGyNZ0lT+TKipiDOBEc",
      "include_colab_link": true
    },
    "kernelspec": {
      "name": "python3",
      "display_name": "Python 3"
    },
    "language_info": {
      "name": "python"
    },
    "accelerator": "GPU"
  },
  "cells": [
    {
      "cell_type": "markdown",
      "metadata": {
        "id": "view-in-github",
        "colab_type": "text"
      },
      "source": [
        "<a href=\"https://colab.research.google.com/github/AnhVietPham/Deep-Learning/blob/main/Practice_MNIST_CNN_Pytorch.ipynb\" target=\"_parent\"><img src=\"https://colab.research.google.com/assets/colab-badge.svg\" alt=\"Open In Colab\"/></a>"
      ]
    },
    {
      "cell_type": "markdown",
      "metadata": {
        "id": "ycY5hMCAs_Yv"
      },
      "source": [
        "https://nextjournal.com/gkoehler/pytorch-mnist\n",
        "===========\n",
        "https://towardsdatascience.com/handwritten-digit-mnist-pytorch-977b5338e627\n",
        "==========="
      ]
    },
    {
      "cell_type": "code",
      "metadata": {
        "id": "_JognzY56HJj"
      },
      "source": [
        "import numpy as np\n",
        "import torch \n",
        "import torchvision\n",
        "import matplotlib.pyplot as plt\n",
        "from time import time\n",
        "from torchvision import datasets, transforms\n",
        "from torch import nn, optim\n",
        "from torch import optim"
      ],
      "execution_count": 42,
      "outputs": []
    },
    {
      "cell_type": "code",
      "metadata": {
        "id": "20eZWsGdt2LB"
      },
      "source": [
        "import os"
      ],
      "execution_count": 5,
      "outputs": []
    },
    {
      "cell_type": "code",
      "metadata": {
        "id": "CYAIBcB3-8PG"
      },
      "source": [
        "transforms = transforms.Compose([transforms.ToTensor()])"
      ],
      "execution_count": 43,
      "outputs": []
    },
    {
      "cell_type": "code",
      "metadata": {
        "id": "hY_nsU896u1r"
      },
      "source": [
        "trainset = datasets.MNIST('PATH_TO_STORE_TRAINSET', \n",
        "                          download = True, \n",
        "                          train = True, \n",
        "                          transform=transforms)\n",
        "\n",
        "trainloader = torch.utils.data.DataLoader(trainset, \n",
        "                                          batch_size= 64, \n",
        "                                          shuffle= True)\n",
        "\n",
        "valset = datasets.MNIST('PATH_TO_STORE_TESTSET', \n",
        "                        download=True, \n",
        "                        train = False, \n",
        "                        transform=transforms)\n",
        "\n",
        "valloader = torch.utils.data.DataLoader(valset, \n",
        "                                        batch_size=64, \n",
        "                                        shuffle=True)"
      ],
      "execution_count": 44,
      "outputs": []
    },
    {
      "cell_type": "code",
      "metadata": {
        "id": "lF-cHKhzAO-6",
        "colab": {
          "base_uri": "https://localhost:8080/"
        },
        "outputId": "6e946e60-e161-49df-b16d-25eb7f3ae63f"
      },
      "source": [
        "print(len(trainloader.dataset))\n",
        "print(len(trainloader))\n",
        "print(len(valloader.dataset))"
      ],
      "execution_count": 45,
      "outputs": [
        {
          "output_type": "stream",
          "text": [
            "60000\n",
            "938\n",
            "10000\n"
          ],
          "name": "stdout"
        }
      ]
    },
    {
      "cell_type": "code",
      "metadata": {
        "id": "xuBeppO9rThE"
      },
      "source": [
        "datiter = iter(trainloader)\n",
        "images, labels = next(datiter)"
      ],
      "execution_count": 46,
      "outputs": []
    },
    {
      "cell_type": "code",
      "metadata": {
        "colab": {
          "base_uri": "https://localhost:8080/"
        },
        "id": "4knINpF5Qh98",
        "outputId": "ca40351d-e302-4406-9aac-7721d8d43bd8"
      },
      "source": [
        "print(images.shape)\n",
        "print(labels.shape)\n",
        "print(images[0].numpy().shape)\n",
        "print(images[0].numpy().squeeze().shape)"
      ],
      "execution_count": 47,
      "outputs": [
        {
          "output_type": "stream",
          "text": [
            "torch.Size([64, 1, 28, 28])\n",
            "torch.Size([64])\n",
            "(1, 28, 28)\n",
            "(28, 28)\n"
          ],
          "name": "stdout"
        }
      ]
    },
    {
      "cell_type": "code",
      "metadata": {
        "colab": {
          "base_uri": "https://localhost:8080/",
          "height": 282
        },
        "id": "M2fsmFpAQvFS",
        "outputId": "a2946316-7022-4f44-bd42-62dd3ef79e8b"
      },
      "source": [
        "plt.imshow(images[0].numpy().squeeze(), cmap='gray_r')"
      ],
      "execution_count": 48,
      "outputs": [
        {
          "output_type": "execute_result",
          "data": {
            "text/plain": [
              "<matplotlib.image.AxesImage at 0x7f8ae0415e50>"
            ]
          },
          "metadata": {
            "tags": []
          },
          "execution_count": 48
        },
        {
          "output_type": "display_data",
          "data": {
            "image/png": "[encoded data removed]",
            "text/plain": [
              "<Figure size 432x288 with 1 Axes>"
            ]
          },
          "metadata": {
            "tags": [],
            "needs_background": "light"
          }
        }
      ]
    },
    {
      "cell_type": "code",
      "metadata": {
        "colab": {
          "base_uri": "https://localhost:8080/",
          "height": 246
        },
        "id": "9KK81UkCRhgV",
        "outputId": "adbdda51-167c-473d-e1e6-19a894a9f6f8"
      },
      "source": [
        "figure = plt.figure()\n",
        "num_of_images = 60\n",
        "for i in range(1, num_of_images + 1):\n",
        "  plt.subplot(6 , 10, i)\n",
        "  plt.axis('off')\n",
        "  plt.imshow(images[i].numpy().squeeze(), cmap='gray_r')"
      ],
      "execution_count": 49,
      "outputs": [
        {
          "output_type": "display_data",
          "data": {
            "image/png": "[encoded data removed]",
            "text/plain": [
              "<Figure size 432x288 with 60 Axes>"
            ]
          },
          "metadata": {
            "tags": [],
            "needs_background": "light"
          }
        }
      ]
    },
    {
      "cell_type": "code",
      "metadata": {
        "colab": {
          "base_uri": "https://localhost:8080/"
        },
        "id": "2AKkQsZ1UUF4",
        "outputId": "5953c5b6-7542-4c8a-f7c4-996a39c2cb2d"
      },
      "source": [
        "input_size = 784\n",
        "hidden_sizes = [128, 64, 32, 16]\n",
        "output_size = 10\n",
        "\n",
        "model = nn.Sequential(nn.Linear(input_size, hidden_sizes[0]), nn.ReLU(),\n",
        "                      nn.Linear(hidden_sizes[0], hidden_sizes[1]), nn.ReLU(),\n",
        "                      nn.Linear(hidden_sizes[1], hidden_sizes[2]), nn.ReLU(),\n",
        "                      nn.Linear(hidden_sizes[2], hidden_sizes[3]), nn.ReLU(),\n",
        "                      nn.Linear(hidden_sizes[3], output_size), nn.LogSoftmax(dim=1))\n",
        "\n",
        "print(model)"
      ],
      "execution_count": 50,
      "outputs": [
        {
          "output_type": "stream",
          "text": [
            "Sequential(\n",
            "  (0): Linear(in_features=784, out_features=128, bias=True)\n",
            "  (1): ReLU()\n",
            "  (2): Linear(in_features=128, out_features=64, bias=True)\n",
            "  (3): ReLU()\n",
            "  (4): Linear(in_features=64, out_features=32, bias=True)\n",
            "  (5): ReLU()\n",
            "  (6): Linear(in_features=32, out_features=16, bias=True)\n",
            "  (7): ReLU()\n",
            "  (8): Linear(in_features=16, out_features=10, bias=True)\n",
            "  (9): LogSoftmax(dim=1)\n",
            ")\n"
          ],
          "name": "stdout"
        }
      ]
    },
    {
      "cell_type": "code",
      "metadata": {
        "colab": {
          "base_uri": "https://localhost:8080/"
        },
        "id": "Ywb5Ud1EWUNO",
        "outputId": "3d20cf64-1079-481b-d6f6-1371cb060835"
      },
      "source": [
        "device = torch.device(\"cuda\" if torch.cuda.is_available() else \"cpu\" )\n",
        "print(device)\n",
        "model.to(device)"
      ],
      "execution_count": 51,
      "outputs": [
        {
          "output_type": "stream",
          "text": [
            "cuda\n"
          ],
          "name": "stdout"
        },
        {
          "output_type": "execute_result",
          "data": {
            "text/plain": [
              "Sequential(\n",
              "  (0): Linear(in_features=784, out_features=128, bias=True)\n",
              "  (1): ReLU()\n",
              "  (2): Linear(in_features=128, out_features=64, bias=True)\n",
              "  (3): ReLU()\n",
              "  (4): Linear(in_features=64, out_features=32, bias=True)\n",
              "  (5): ReLU()\n",
              "  (6): Linear(in_features=32, out_features=16, bias=True)\n",
              "  (7): ReLU()\n",
              "  (8): Linear(in_features=16, out_features=10, bias=True)\n",
              "  (9): LogSoftmax(dim=1)\n",
              ")"
            ]
          },
          "metadata": {
            "tags": []
          },
          "execution_count": 51
        }
      ]
    },
    {
      "cell_type": "code",
      "metadata": {
        "colab": {
          "base_uri": "https://localhost:8080/"
        },
        "id": "hImTRRlcbUAf",
        "outputId": "a8ce39d6-1159-4a2c-fdf3-b097a3261a44"
      },
      "source": [
        "criterion = nn.CrossEntropyLoss()\n",
        "optimizer = optim.SGD(model.parameters(), lr = 0.003, momentum=0.9)\n",
        "time0 = time()\n",
        "epochs = 15\n",
        "for e in range(epochs):\n",
        "  running_loss = 0\n",
        "  for images, labels in trainloader:\n",
        "    images = images.view(images.shape[0], -1)\n",
        "\n",
        "    # Training pass\n",
        "    optimizer.zero_grad()\n",
        "\n",
        "    # forward + backward + optimize \n",
        "    output = model(images.cuda())\n",
        "    loss = criterion(output, labels.cuda())\n",
        "    loss.backward()\n",
        "    optimizer.step()\n",
        "\n",
        "    running_loss += loss.item()\n",
        "  else:\n",
        "    print(f'Epoch {e} - Training loss: {running_loss/len(trainloader)}')\n",
        "print(f'\\nTraining Time (in minutes) = {(time() - time0)/ 60}')"
      ],
      "execution_count": 52,
      "outputs": [
        {
          "output_type": "stream",
          "text": [
            "Epoch 0 - Training loss: 1.9621684302144975\n",
            "Epoch 1 - Training loss: 0.6936638944947136\n",
            "Epoch 2 - Training loss: 0.32285004015416224\n",
            "Epoch 3 - Training loss: 0.21584669844523421\n",
            "Epoch 4 - Training loss: 0.16849050414103117\n",
            "Epoch 5 - Training loss: 0.1356213740460368\n",
            "Epoch 6 - Training loss: 0.11448518336931271\n",
            "Epoch 7 - Training loss: 0.09869465307205487\n",
            "Epoch 8 - Training loss: 0.08504887173986876\n",
            "Epoch 9 - Training loss: 0.07489211369119188\n",
            "Epoch 10 - Training loss: 0.06531243436217213\n",
            "Epoch 11 - Training loss: 0.0587421784491173\n",
            "Epoch 12 - Training loss: 0.052912050892642615\n",
            "Epoch 13 - Training loss: 0.047236237898598044\n",
            "Epoch 14 - Training loss: 0.039836828538434094\n",
            "\n",
            "Training Time (in minutes) = 1.3847509503364563\n"
          ],
          "name": "stdout"
        }
      ]
    },
    {
      "cell_type": "code",
      "metadata": {
        "id": "9vsNh2KGcRfY"
      },
      "source": [
        "def view_classify(img, ps):\n",
        "  ps = ps.cpu().data.numpy().squeeze()\n",
        "  fig, (ax1, ax2) = plt.subplots(figsize = (6, 9), ncols = 2)\n",
        "  ax1.imshow(img.resize_(1, 28, 28).numpy().squeeze())\n",
        "  ax1.axis('off')\n",
        "  ax2.barh(np.arange(10), ps)\n",
        "  ax2.set_aspect(0.1)\n",
        "  ax2.set_yticks(np.arange(10))\n",
        "  ax2.set_yticklabels(np.arange(10))\n",
        "  ax2.set_title('Class Probability')\n",
        "  ax2.set_xlim(0, 1.1)\n",
        "  plt.tight_layout()"
      ],
      "execution_count": 53,
      "outputs": []
    },
    {
      "cell_type": "code",
      "metadata": {
        "colab": {
          "base_uri": "https://localhost:8080/",
          "height": 270
        },
        "id": "HXt7QiT4jNrM",
        "outputId": "7ed009f9-304f-44ab-b95b-c566d35e948b"
      },
      "source": [
        "images, labels = next(iter(valloader))\n",
        "\n",
        "img = images[0].view(1, 784)\n",
        "\n",
        "with torch.no_grad():\n",
        "  logps = model(img.cuda())\n",
        "\n",
        "ps = torch.exp(logps)\n",
        "probab = list(ps.cpu().numpy()[0])\n",
        "print(f\"Predicted Digit = {probab.index(max(probab))}\")\n",
        "view_classify(img.view(1,28,28), ps)"
      ],
      "execution_count": 55,
      "outputs": [
        {
          "output_type": "stream",
          "text": [
            "Predicted Digit = 0\n"
          ],
          "name": "stdout"
        },
        {
          "output_type": "display_data",
          "data": {
            "image/png": "[encoded data removed]",
            "text/plain": [
              "<Figure size 432x648 with 2 Axes>"
            ]
          },
          "metadata": {
            "tags": [],
            "needs_background": "light"
          }
        }
      ]
    },
    {
      "cell_type": "code",
      "metadata": {
        "colab": {
          "base_uri": "https://localhost:8080/"
        },
        "id": "ZsoFvJFFltnr",
        "outputId": "e3dbdc0e-96ec-42e2-bdf4-862a5311d7e4"
      },
      "source": [
        "correct_count, all_count = 0, 0\n",
        "for images, labels in valloader:\n",
        "  for i in range(len(labels)):\n",
        "    img = images[i].view(1, 784)\n",
        "    with torch.no_grad():\n",
        "      logps = model(img.cuda())\n",
        "\n",
        "    ps = torch.exp(logps)\n",
        "    probab = list(ps.cpu().numpy()[0])\n",
        "    pre_label = probab.index(max(probab))\n",
        "    true_label = labels.numpy()[i]\n",
        "\n",
        "    if (true_label == pre_label):\n",
        "      correct_count += 1\n",
        "    all_count += 1\n",
        "\n",
        "print(f\"Number Of Images Tested = {all_count}\")\n",
        "print(f\"\\nModel Accuracy = {correct_count/all_count}\")"
      ],
      "execution_count": 56,
      "outputs": [
        {
          "output_type": "stream",
          "text": [
            "Number Of Images Tested = 10000\n",
            "\n",
            "Model Accuracy = 0.9711\n"
          ],
          "name": "stdout"
        }
      ]
    }
  ]
}