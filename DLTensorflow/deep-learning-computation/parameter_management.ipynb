{
  "nbformat": 4,
  "nbformat_minor": 0,
  "metadata": {
    "colab": {
      "name": "parameter-management.ipynb",
      "provenance": [],
      "authorship_tag": "ABX9TyOCk2xTRXleQDRQ629SaA3R",
      "include_colab_link": true
    },
    "kernelspec": {
      "name": "python3",
      "display_name": "Python 3"
    },
    "language_info": {
      "name": "python"
    }
  },
  "cells": [
    {
      "cell_type": "markdown",
      "metadata": {
        "id": "view-in-github",
        "colab_type": "text"
      },
      "source": [
        "<a href=\"https://colab.research.google.com/github/AnhVietPham/Deep-Learning/blob/main/DLTensorflow/deep-learning-computation/parameter_management.ipynb\" target=\"_parent\"><img src=\"https://colab.research.google.com/assets/colab-badge.svg\" alt=\"Open In Colab\"/></a>"
      ]
    },
    {
      "cell_type": "code",
      "execution_count": 1,
      "metadata": {
        "id": "ndrcniTyQZDV"
      },
      "outputs": [],
      "source": [
        "import tensorflow as tf"
      ]
    },
    {
      "cell_type": "code",
      "source": [
        "net = tf.keras.models.Sequential([\n",
        "      tf.keras.layers.Flatten(),\n",
        "      tf.keras.layers.Dense(4, activation=tf.nn.relu),\n",
        "      tf.keras.layers.Dense(1)\n",
        "])\n",
        "\n",
        "X = tf.random.uniform((2,4))\n",
        "net(X)"
      ],
      "metadata": {
        "colab": {
          "base_uri": "https://localhost:8080/"
        },
        "id": "S0sPYbrEQkjm",
        "outputId": "7956e9f6-6514-4552-ccb3-934959a4d3db"
      },
      "execution_count": 2,
      "outputs": [
        {
          "output_type": "execute_result",
          "data": {
            "text/plain": [
              "<tf.Tensor: shape=(2, 1), dtype=float32, numpy=\n",
              "array([[0.09063291],\n",
              "       [0.05431719]], dtype=float32)>"
            ]
          },
          "metadata": {},
          "execution_count": 2
        }
      ]
    },
    {
      "cell_type": "code",
      "source": [
        "print(net.layers[1].weights)"
      ],
      "metadata": {
        "colab": {
          "base_uri": "https://localhost:8080/"
        },
        "id": "Pz57X0OYRKli",
        "outputId": "7f0330d5-5010-4d53-f8bb-b54ba74c315c"
      },
      "execution_count": 4,
      "outputs": [
        {
          "output_type": "stream",
          "name": "stdout",
          "text": [
            "[<tf.Variable 'dense/kernel:0' shape=(4, 4) dtype=float32, numpy=\n",
            "array([[-0.02805543,  0.44287962,  0.8137488 , -0.7485931 ],\n",
            "       [ 0.5900647 , -0.27857918,  0.81397015, -0.0592016 ],\n",
            "       [ 0.10147846, -0.32446694,  0.6055265 , -0.31475013],\n",
            "       [-0.33696538, -0.80825037,  0.5958602 , -0.7081617 ]],\n",
            "      dtype=float32)>, <tf.Variable 'dense/bias:0' shape=(4,) dtype=float32, numpy=array([0., 0., 0., 0.], dtype=float32)>]\n"
          ]
        }
      ]
    },
    {
      "cell_type": "code",
      "source": [
        "print(net.layers[2].weights)"
      ],
      "metadata": {
        "colab": {
          "base_uri": "https://localhost:8080/"
        },
        "id": "0Es2tEBgRTYm",
        "outputId": "289187b4-439f-46e5-f207-f2c025fdefc1"
      },
      "execution_count": 5,
      "outputs": [
        {
          "output_type": "stream",
          "name": "stdout",
          "text": [
            "[<tf.Variable 'dense_1/kernel:0' shape=(4, 1) dtype=float32, numpy=\n",
            "array([[ 0.1518991 ],\n",
            "       [-0.8676224 ],\n",
            "       [ 0.0110532 ],\n",
            "       [ 0.09682751]], dtype=float32)>, <tf.Variable 'dense_1/bias:0' shape=(1,) dtype=float32, numpy=array([0.], dtype=float32)>]\n"
          ]
        }
      ]
    },
    {
      "cell_type": "code",
      "source": [
        "print(net.get_weights( ))"
      ],
      "metadata": {
        "colab": {
          "base_uri": "https://localhost:8080/"
        },
        "id": "JGXfijDLSLCL",
        "outputId": "7d47045c-bb1f-4e30-fea4-2d3ae2706560"
      },
      "execution_count": 6,
      "outputs": [
        {
          "output_type": "stream",
          "name": "stdout",
          "text": [
            "[array([[-0.02805543,  0.44287962,  0.8137488 , -0.7485931 ],\n",
            "       [ 0.5900647 , -0.27857918,  0.81397015, -0.0592016 ],\n",
            "       [ 0.10147846, -0.32446694,  0.6055265 , -0.31475013],\n",
            "       [-0.33696538, -0.80825037,  0.5958602 , -0.7081617 ]],\n",
            "      dtype=float32), array([0., 0., 0., 0.], dtype=float32), array([[ 0.1518991 ],\n",
            "       [-0.8676224 ],\n",
            "       [ 0.0110532 ],\n",
            "       [ 0.09682751]], dtype=float32), array([0.], dtype=float32)]\n"
          ]
        }
      ]
    }
  ]
}