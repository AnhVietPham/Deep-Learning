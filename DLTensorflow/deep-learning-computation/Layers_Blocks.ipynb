{
  "nbformat": 4,
  "nbformat_minor": 0,
  "metadata": {
    "colab": {
      "name": "Layers-Blocks.ipynb",
      "provenance": [],
      "authorship_tag": "ABX9TyMeeT84l1afmtMgG0fG1ezO",
      "include_colab_link": true
    },
    "kernelspec": {
      "name": "python3",
      "display_name": "Python 3"
    },
    "language_info": {
      "name": "python"
    }
  },
  "cells": [
    {
      "cell_type": "markdown",
      "metadata": {
        "id": "view-in-github",
        "colab_type": "text"
      },
      "source": [
        "<a href=\"https://colab.research.google.com/github/AnhVietPham/Deep-Learning/blob/main/DLTensorflow/deep-learning-computation/Layers_Blocks.ipynb\" target=\"_parent\"><img src=\"https://colab.research.google.com/assets/colab-badge.svg\" alt=\"Open In Colab\"/></a>"
      ]
    },
    {
      "cell_type": "code",
      "execution_count": null,
      "metadata": {
        "id": "-7RnlnROlMr_"
      },
      "outputs": [],
      "source": [
        "import tensorflow as tf"
      ]
    },
    {
      "cell_type": "code",
      "source": [
        "X = tf.random.uniform((2,20))"
      ],
      "metadata": {
        "id": "x-5JHcAalmpN"
      },
      "execution_count": null,
      "outputs": []
    },
    {
      "cell_type": "code",
      "source": [
        "print(X)"
      ],
      "metadata": {
        "colab": {
          "base_uri": "https://localhost:8080/"
        },
        "id": "69P2Vfu2lxOi",
        "outputId": "debf0378-4e7f-46e3-9692-f736f544347c"
      },
      "execution_count": null,
      "outputs": [
        {
          "output_type": "stream",
          "name": "stdout",
          "text": [
            "tf.Tensor(\n",
            "[[0.6933     0.03762817 0.78348863 0.82843494 0.15776145 0.7898406\n",
            "  0.9793494  0.16792393 0.6700556  0.42193186 0.8439832  0.27952492\n",
            "  0.17298758 0.76411486 0.44233084 0.75070584 0.01135123 0.71261024\n",
            "  0.96735716 0.9571028 ]\n",
            " [0.9596062  0.01836276 0.5824499  0.19470036 0.60992634 0.8447319\n",
            "  0.12987566 0.9512795  0.23756373 0.11392939 0.16944504 0.20313406\n",
            "  0.5526484  0.3832084  0.4634254  0.8283843  0.65831304 0.0782311\n",
            "  0.38897002 0.7084359 ]], shape=(2, 20), dtype=float32)\n"
          ]
        }
      ]
    },
    {
      "cell_type": "code",
      "source": [
        "net = tf.keras.models.Sequential([\n",
        "     tf.keras.layers.Dense(256, activation=tf.nn.relu),\n",
        "     tf.keras.layers.Dense(10)\n",
        "])"
      ],
      "metadata": {
        "id": "woq41lftmlam"
      },
      "execution_count": null,
      "outputs": []
    },
    {
      "cell_type": "code",
      "source": [
        "net(X)"
      ],
      "metadata": {
        "colab": {
          "base_uri": "https://localhost:8080/"
        },
        "id": "dsU_5Ewxm5b7",
        "outputId": "0f5e33d4-2148-405f-c68b-fe33dd8003f5"
      },
      "execution_count": null,
      "outputs": [
        {
          "output_type": "execute_result",
          "data": {
            "text/plain": [
              "<tf.Tensor: shape=(2, 10), dtype=float32, numpy=\n",
              "array([[ 0.05568464,  0.24302539,  0.06315324,  0.07059248, -0.4292512 ,\n",
              "         0.4181226 , -0.13064606,  0.02337881,  0.28365898,  0.5221276 ],\n",
              "       [ 0.19141117,  0.21183017,  0.07438122,  0.26406896, -0.65063375,\n",
              "         0.22435659, -0.05096188, -0.01365806,  0.12954023,  0.38539147]],\n",
              "      dtype=float32)>"
            ]
          },
          "metadata": {},
          "execution_count": 5
        }
      ]
    },
    {
      "cell_type": "code",
      "source": [
        "net2 = tf.keras.models.Sequential([\n",
        "       tf.keras.layers.Dense(256)\n",
        "])"
      ],
      "metadata": {
        "id": "1dQ_cTTUnr4U"
      },
      "execution_count": null,
      "outputs": []
    },
    {
      "cell_type": "code",
      "source": [
        "net2(X).shape"
      ],
      "metadata": {
        "colab": {
          "base_uri": "https://localhost:8080/"
        },
        "id": "Qu-WIcoZn3H-",
        "outputId": "4d35d558-5e0f-4603-a08c-94e262f58828"
      },
      "execution_count": null,
      "outputs": [
        {
          "output_type": "execute_result",
          "data": {
            "text/plain": [
              "TensorShape([2, 256])"
            ]
          },
          "metadata": {},
          "execution_count": 8
        }
      ]
    },
    {
      "cell_type": "code",
      "source": [
        "net3 = tf.keras.models.Sequential([\n",
        "       tf.keras.layers.Dense(10)\n",
        "])"
      ],
      "metadata": {
        "id": "H6xqzkQLn860"
      },
      "execution_count": null,
      "outputs": []
    },
    {
      "cell_type": "code",
      "source": [
        "net3(X)"
      ],
      "metadata": {
        "colab": {
          "base_uri": "https://localhost:8080/"
        },
        "id": "LO1kZsR3oEJK",
        "outputId": "5333f75a-47e0-464c-cce6-326f65f87979"
      },
      "execution_count": null,
      "outputs": [
        {
          "output_type": "execute_result",
          "data": {
            "text/plain": [
              "<tf.Tensor: shape=(2, 10), dtype=float32, numpy=\n",
              "array([[-1.3295599 , -0.03291249, -1.960444  ,  0.87108755, -0.07527152,\n",
              "        -0.9182358 ,  1.6118492 ,  0.04701871, -0.19393682, -1.8835232 ],\n",
              "       [-1.1256139 ,  0.8081824 , -1.6470587 ,  0.49304524, -0.39516404,\n",
              "        -0.7169469 ,  1.093387  , -1.0387497 , -0.01272376, -0.66822606]],\n",
              "      dtype=float32)>"
            ]
          },
          "metadata": {},
          "execution_count": 11
        }
      ]
    },
    {
      "cell_type": "markdown",
      "source": [
        "# **Custom Block**"
      ],
      "metadata": {
        "id": "ehblgkLQoa9-"
      }
    },
    {
      "cell_type": "code",
      "source": [
        "class MLP(tf.keras.Model):\n",
        "   def __init__(self):\n",
        "     super().__init__()\n",
        "     self.hidden = tf.keras.layers.Dense(units=256, activation=tf.nn.relu)\n",
        "     self.out = tf.keras.layers.Dense(units=10)\n",
        "   def call(self, X):\n",
        "     return self.out(self.hidden((X)))"
      ],
      "metadata": {
        "id": "uUSpWCFwogEN"
      },
      "execution_count": null,
      "outputs": []
    },
    {
      "cell_type": "code",
      "source": [
        "net = MLP()\n",
        "net(X)"
      ],
      "metadata": {
        "colab": {
          "base_uri": "https://localhost:8080/"
        },
        "id": "4IK57I4PpjCf",
        "outputId": "1458702d-30fc-4dc6-f542-4848b66a428c"
      },
      "execution_count": null,
      "outputs": [
        {
          "output_type": "execute_result",
          "data": {
            "text/plain": [
              "<tf.Tensor: shape=(2, 10), dtype=float32, numpy=\n",
              "array([[ 0.22337538,  0.35913664, -0.42112973, -0.11525286,  0.04800361,\n",
              "         0.00635406,  0.06781952,  0.05469295,  0.33267218, -0.29871452],\n",
              "       [-0.00133211,  0.24003711, -0.43220982, -0.02137034,  0.00148057,\n",
              "         0.02582267,  0.08180286,  0.02701246,  0.20420554, -0.13258053]],\n",
              "      dtype=float32)>"
            ]
          },
          "metadata": {},
          "execution_count": 17
        }
      ]
    },
    {
      "cell_type": "code",
      "source": [
        "class MySequential(tf.keras.Model):\n",
        "  def __init__(self, *args):\n",
        "    super().__init__()\n",
        "    self.modules = []\n",
        "    for block in args:\n",
        "      self.modules.append(block)\n",
        "  def call(self, X):\n",
        "    for module in self.modules:\n",
        "      X = module(X)\n",
        "    return X"
      ],
      "metadata": {
        "id": "VhjXHLb4qFp-"
      },
      "execution_count": null,
      "outputs": []
    },
    {
      "cell_type": "code",
      "source": [
        "net = MySequential(\n",
        "    tf.keras.layers.Dense(units=256, activation=tf.nn.relu),\n",
        "    tf.keras.layers.Dense(10)\n",
        ")"
      ],
      "metadata": {
        "id": "Ff9KF3X8qn69"
      },
      "execution_count": null,
      "outputs": []
    },
    {
      "cell_type": "code",
      "source": [
        "net(X)"
      ],
      "metadata": {
        "colab": {
          "base_uri": "https://localhost:8080/"
        },
        "id": "G2s_pOH5q1GO",
        "outputId": "75c64ad2-edb9-4316-f04e-d0fac63d5b80"
      },
      "execution_count": null,
      "outputs": [
        {
          "output_type": "execute_result",
          "data": {
            "text/plain": [
              "<tf.Tensor: shape=(2, 10), dtype=float32, numpy=\n",
              "array([[-0.07436351,  0.17277515, -0.17010735,  0.3086537 ,  0.01758344,\n",
              "         0.30682576, -0.18397468, -0.29217243,  0.20852043, -0.11587077],\n",
              "       [-0.11454844,  0.04786712, -0.07589786,  0.12069547,  0.01648302,\n",
              "         0.26873797, -0.13611707,  0.03153742,  0.15710506, -0.17765762]],\n",
              "      dtype=float32)>"
            ]
          },
          "metadata": {},
          "execution_count": 20
        }
      ]
    },
    {
      "cell_type": "code",
      "source": [
        "class FixedHiddenMLP(tf.keras.Model):\n",
        "  def __init__(self):\n",
        "    super().__init__()\n",
        "    self.flatten = tf.keras.layers.Flatten()\n",
        "    self.rand_weight = tf.constant(tf.random.uniform((20,20)))\n",
        "    self.dense = tf.keras.layers.Dense(20, activation=tf.nn.relu)\n",
        "  \n",
        "  def call(self,inputs):\n",
        "    X = self.flatten(inputs)\n",
        "    X = tf.nn.relu(tf.matmul(X, self.rand_weight) + 1)\n",
        "    X = self.dense(X)\n",
        "    while tf.reduce_sum(tf.math.abs(X)) > 1:\n",
        "      X /= 2\n",
        "    return tf.reduce_sum(X)"
      ],
      "metadata": {
        "id": "-XB90x16rVt5"
      },
      "execution_count": null,
      "outputs": []
    },
    {
      "cell_type": "code",
      "source": [
        "z = tf.constant([[1,1,1], [1,1,1]])\n",
        "z.numpy()"
      ],
      "metadata": {
        "colab": {
          "base_uri": "https://localhost:8080/"
        },
        "id": "kdxAM5AHs25x",
        "outputId": "c15a204c-6dfb-4188-db5e-75ace6680385"
      },
      "execution_count": null,
      "outputs": [
        {
          "output_type": "execute_result",
          "data": {
            "text/plain": [
              "array([[1, 1, 1],\n",
              "       [1, 1, 1]], dtype=int32)"
            ]
          },
          "metadata": {},
          "execution_count": 22
        }
      ]
    },
    {
      "cell_type": "code",
      "source": [
        "tf.reduce_sum(z).numpy()"
      ],
      "metadata": {
        "colab": {
          "base_uri": "https://localhost:8080/"
        },
        "id": "5-DTiwNhs-3X",
        "outputId": "67dcff0c-3c6c-4a04-ada7-f38fb4e63f2c"
      },
      "execution_count": null,
      "outputs": [
        {
          "output_type": "execute_result",
          "data": {
            "text/plain": [
              "6"
            ]
          },
          "metadata": {},
          "execution_count": 24
        }
      ]
    },
    {
      "cell_type": "code",
      "source": [
        "net = FixedHiddenMLP()\n",
        "net(X).numpy()"
      ],
      "metadata": {
        "colab": {
          "base_uri": "https://localhost:8080/"
        },
        "id": "VnBB0uJltIJJ",
        "outputId": "ab8c6dd0-4818-489a-d956-10ad4dcdb684"
      },
      "execution_count": null,
      "outputs": [
        {
          "output_type": "execute_result",
          "data": {
            "text/plain": [
              "0.639675"
            ]
          },
          "metadata": {},
          "execution_count": 26
        }
      ]
    }
  ]
}