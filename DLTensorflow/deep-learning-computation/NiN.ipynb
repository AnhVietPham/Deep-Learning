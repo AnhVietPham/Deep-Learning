{
  "nbformat": 4,
  "nbformat_minor": 0,
  "metadata": {
    "colab": {
      "name": "NiN.ipynb",
      "provenance": [],
      "machine_shape": "hm",
      "authorship_tag": "ABX9TyOXYhcNDUrsWHWCnygGLfdj",
      "include_colab_link": true
    },
    "kernelspec": {
      "name": "python3",
      "display_name": "Python 3"
    },
    "language_info": {
      "name": "python"
    },
    "accelerator": "GPU"
  },
  "cells": [
    {
      "cell_type": "markdown",
      "metadata": {
        "id": "view-in-github",
        "colab_type": "text"
      },
      "source": [
        "<a href=\"https://colab.research.google.com/github/AnhVietPham/Deep-Learning/blob/main/DLTensorflow/deep-learning-computation/NiN.ipynb\" target=\"_parent\"><img src=\"https://colab.research.google.com/assets/colab-badge.svg\" alt=\"Open In Colab\"/></a>"
      ]
    },
    {
      "cell_type": "code",
      "execution_count": null,
      "metadata": {
        "colab": {
          "base_uri": "https://localhost:8080/"
        },
        "id": "tt-x54lyzWLq",
        "outputId": "8c81bfe0-c8c4-46ae-ef5d-d49be66b3a2e"
      },
      "outputs": [
        {
          "output_type": "stream",
          "name": "stdout",
          "text": [
            "Installing collected packages: d2l\n",
            "Successfully installed d2l-0.17.0\n"
          ]
        }
      ],
      "source": [
        "!pip install d2l==0.17.0"
      ]
    },
    {
      "cell_type": "code",
      "source": [
        "import tensorflow as tf\n",
        "from d2l import tensorflow as d2l"
      ],
      "metadata": {
        "id": "M5XuxjI21kev"
      },
      "execution_count": null,
      "outputs": []
    },
    {
      "cell_type": "code",
      "source": [
        "def nin_block(num_channels, kernel_size, strides, padding):\n",
        "  return tf.keras.models.Sequential([\n",
        "         tf.keras.layers.Conv2D(num_channels, kernel_size, strides=strides,\n",
        "                                padding=padding, activation='relu'),\n",
        "         tf.keras.layers.Conv2D(num_channels, kernel_size=1, activation='relu'),\n",
        "         tf.keras.layers.Conv2D(num_channels, kernel_size=1, activation='relu')\n",
        "  ])"
      ],
      "metadata": {
        "id": "sI20HRwr1sZE"
      },
      "execution_count": null,
      "outputs": []
    },
    {
      "cell_type": "code",
      "source": [
        "def net():\n",
        "  return tf.keras.models.Sequential([\n",
        "         nin_block(96, kernel_size=11, strides=4, padding='valid'),\n",
        "         tf.keras.layers.MaxPool2D(pool_size=3, strides=2),\n",
        "         nin_block(256, kernel_size=5, strides=1, padding='same'),\n",
        "         tf.keras.layers.MaxPool2D(pool_size=3, strides=2),\n",
        "         nin_block(384, kernel_size=3, strides=1, padding='same'),\n",
        "         tf.keras.layers.MaxPool2D(pool_size=3, strides=2),\n",
        "         tf.keras.layers.Dropout(0.5),\n",
        "         nin_block(10, kernel_size=3, strides=1, padding='same'),\n",
        "         tf.keras.layers.GlobalAveragePooling2D(),\n",
        "         tf.keras.layers.Reshape((1,1,10)),\n",
        "         tf.keras.layers.Flatten()])"
      ],
      "metadata": {
        "id": "Nw_EOPz_4-3R"
      },
      "execution_count": null,
      "outputs": []
    },
    {
      "cell_type": "code",
      "source": [
        "X = tf.random.uniform((1, 224, 224, 1))\n",
        "for layer in net().layers:\n",
        "    X = layer(X)\n",
        "    print(layer.__class__.__name__,'output shape:\\t', X.shape)"
      ],
      "metadata": {
        "colab": {
          "base_uri": "https://localhost:8080/"
        },
        "id": "wwRVlOBu8ysO",
        "outputId": "b65d4368-ca26-47f9-a925-b57205a09333"
      },
      "execution_count": null,
      "outputs": [
        {
          "output_type": "stream",
          "name": "stdout",
          "text": [
            "Sequential output shape:\t (1, 54, 54, 96)\n",
            "MaxPooling2D output shape:\t (1, 26, 26, 96)\n",
            "Sequential output shape:\t (1, 26, 26, 256)\n",
            "MaxPooling2D output shape:\t (1, 12, 12, 256)\n",
            "Sequential output shape:\t (1, 12, 12, 384)\n",
            "MaxPooling2D output shape:\t (1, 5, 5, 384)\n",
            "Dropout output shape:\t (1, 5, 5, 384)\n",
            "Sequential output shape:\t (1, 5, 5, 10)\n",
            "GlobalAveragePooling2D output shape:\t (1, 10)\n",
            "Reshape output shape:\t (1, 1, 1, 10)\n",
            "Flatten output shape:\t (1, 10)\n"
          ]
        }
      ]
    }
  ]
}