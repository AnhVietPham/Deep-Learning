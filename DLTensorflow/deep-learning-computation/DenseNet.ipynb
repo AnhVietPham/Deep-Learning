{
  "nbformat": 4,
  "nbformat_minor": 0,
  "metadata": {
    "colab": {
      "name": "DenseNet.ipynb",
      "provenance": [],
      "machine_shape": "hm",
      "authorship_tag": "ABX9TyMo2jhhFSdc2JvtmSQDA6Ob",
      "include_colab_link": true
    },
    "kernelspec": {
      "name": "python3",
      "display_name": "Python 3"
    },
    "language_info": {
      "name": "python"
    },
    "accelerator": "GPU"
  },
  "cells": [
    {
      "cell_type": "markdown",
      "metadata": {
        "id": "view-in-github",
        "colab_type": "text"
      },
      "source": [
        "<a href=\"https://colab.research.google.com/github/AnhVietPham/Deep-Learning/blob/main/DLTensorflow/deep-learning-computation/DenseNet.ipynb\" target=\"_parent\"><img src=\"https://colab.research.google.com/assets/colab-badge.svg\" alt=\"Open In Colab\"/></a>"
      ]
    },
    {
      "cell_type": "code",
      "execution_count": 4,
      "metadata": {
        "colab": {
          "base_uri": "https://localhost:8080/"
        },
        "id": "FExXSowlmmF-",
        "outputId": "e8bde2f0-9967-4596-dd75-e17e0a81d704"
      },
      "outputs": [
        {
          "output_type": "stream",
          "name": "stdout",
          "text": [
            "Installing collected packages: d2l\n",
            "Successfully installed d2l-0.17.0\n"
          ]
        }
      ],
      "source": [
        "!pip install d2l==0.17.0"
      ]
    },
    {
      "cell_type": "code",
      "source": [
        "import tensorflow as tf\n",
        "from d2l import tensorflow as d2l"
      ],
      "metadata": {
        "id": "krM4W0szmyT0"
      },
      "execution_count": 5,
      "outputs": []
    },
    {
      "cell_type": "code",
      "source": [
        "class ConvBlock(tf.keras.layers.Layer):\n",
        "  def __init__(self, num_channels):\n",
        "    super(ConvBlock, self).__init__()\n",
        "    self.bn = tf.keras.layers.BatchNormalization()\n",
        "    self.relu = tf.keras.layers.ReLU()\n",
        "    self.conv = tf.keras.layers.Conv2D(\n",
        "        filters = num_channels, kernel_size=(3,3), padding='same')\n",
        "    self.listLayers = [self.bn, self.relu, self.conv]\n",
        "\n",
        "  def call(self, x):\n",
        "    y = x\n",
        "    for layer in self.listLayers.layers:\n",
        "      y = layer(y)\n",
        "    y = tf.keras.layers.concatenate([x, y], axis=-1)\n",
        "    return y"
      ],
      "metadata": {
        "id": "6fo2_rZauKRn"
      },
      "execution_count": 6,
      "outputs": []
    },
    {
      "cell_type": "code",
      "source": [
        "class DenseBlock(tf.keras.layers.Layer):\n",
        "  def __init__(self, num_convs, num_channels):\n",
        "    super(DenseBlock, self).__init__()\n",
        "    self.listLayers = []\n",
        "    for _ in range(num_convs):\n",
        "      self.listLayers.append(ConvBlock(num_channels))\n",
        "\n",
        "  def call(self, x):\n",
        "    for layer in self.listLayers.layers:\n",
        "      x = layer(x)\n",
        "    return x"
      ],
      "metadata": {
        "id": "CBya1cpDvQuy"
      },
      "execution_count": 7,
      "outputs": []
    },
    {
      "cell_type": "code",
      "source": [
        "blk = DenseBlock(2, 10)\n",
        "X = tf.random.uniform((4, 8, 8, 3))\n",
        "Y = blk(X)\n",
        "Y.shape"
      ],
      "metadata": {
        "colab": {
          "base_uri": "https://localhost:8080/"
        },
        "id": "T4HWRa-DzHY6",
        "outputId": "d812ffb7-73aa-4f5a-c481-ce61a631a1a0"
      },
      "execution_count": 11,
      "outputs": [
        {
          "output_type": "execute_result",
          "data": {
            "text/plain": [
              "TensorShape([4, 8, 8, 23])"
            ]
          },
          "metadata": {},
          "execution_count": 11
        }
      ]
    },
    {
      "cell_type": "code",
      "source": [
        "class TransitionBlock(tf.keras.layers.Layer):\n",
        "  def __init__(self, num_channels, **kwargs):\n",
        "    super(TransitionBlock, self).__init__(**kwargs)\n",
        "    self.batch_norm = tf.keras.layers.BatchNormalization()\n",
        "    self.relu = tf.keras.layers.ReLU()\n",
        "    self.conv = tf.keras.layers.Conv2D(num_channels, kernel_size=1)\n",
        "    self.avg_pool = tf.keras.layers.AvgPool2D(pool_size=2, strides=2)\n",
        "  \n",
        "  def call(self, x):\n",
        "    x = self.batch_norm(x)\n",
        "    x = self.relu(x)\n",
        "    x = self.conv(x)\n",
        "    return self.avg_pool(x)"
      ],
      "metadata": {
        "id": "DmAFLMFW7Y0F"
      },
      "execution_count": 12,
      "outputs": []
    },
    {
      "cell_type": "code",
      "source": [
        "blk = TransitionBlock(10)\n",
        "blk(Y).shape"
      ],
      "metadata": {
        "colab": {
          "base_uri": "https://localhost:8080/"
        },
        "id": "3mv6Qogt-6nU",
        "outputId": "46f707e8-4e41-4359-a153-2e25ddf59e61"
      },
      "execution_count": 13,
      "outputs": [
        {
          "output_type": "execute_result",
          "data": {
            "text/plain": [
              "TensorShape([4, 4, 4, 10])"
            ]
          },
          "metadata": {},
          "execution_count": 13
        }
      ]
    },
    {
      "cell_type": "code",
      "source": [
        "def block_1():\n",
        "  return tf.keras.Sequential([\n",
        "         tf.keras.layers.Conv2D(64, kernel_size=7, strides=2, padding='same'),\n",
        "         tf.keras.layers.BatchNormalization(),\n",
        "         tf.keras.layers.ReLU(),\n",
        "         tf.keras.layers.MaxPool2D(pool_size=3, strides=2, padding='same')])"
      ],
      "metadata": {
        "id": "XvrgJO26_cYn"
      },
      "execution_count": 14,
      "outputs": []
    },
    {
      "cell_type": "code",
      "source": [
        "def block_2():\n",
        "    net = block_1()\n",
        "    num_channels, growth_rate = 64, 32\n",
        "    num_convs_in_dense_blocks = [4, 4, 4, 4]\n",
        "\n",
        "    for i, num_convs in enumerate(num_convs_in_dense_blocks):\n",
        "        net.add(DenseBlock(num_convs, growth_rate))\n",
        "        num_channels += num_convs * growth_rate\n",
        "        if i != len(num_convs_in_dense_blocks) - 1:\n",
        "            num_channels //= 2\n",
        "            net.add(TransitionBlock(num_channels))\n",
        "    return net"
      ],
      "metadata": {
        "id": "Zj9JXIbZAS7J"
      },
      "execution_count": 15,
      "outputs": []
    },
    {
      "cell_type": "code",
      "source": [
        "def net():\n",
        "    net = block_2()\n",
        "    net.add(tf.keras.layers.BatchNormalization())\n",
        "    net.add(tf.keras.layers.ReLU())\n",
        "    net.add(tf.keras.layers.GlobalAvgPool2D())\n",
        "    net.add(tf.keras.layers.Flatten())\n",
        "    net.add(tf.keras.layers.Dense(10))\n",
        "    return net"
      ],
      "metadata": {
        "id": "s7a-Y-jXAaNr"
      },
      "execution_count": 16,
      "outputs": []
    },
    {
      "cell_type": "code",
      "source": [
        "X = tf.random.uniform((1, 28, 28, 1))"
      ],
      "metadata": {
        "id": "Y-GbblkIAfIK"
      },
      "execution_count": 17,
      "outputs": []
    },
    {
      "cell_type": "code",
      "source": [
        "for layer in net().layers:\n",
        "  X = layer(X)\n",
        "  print(layer.__class__.__name__,'output shape: \\t', X.shape)"
      ],
      "metadata": {
        "colab": {
          "base_uri": "https://localhost:8080/"
        },
        "id": "mn-qq96nAg85",
        "outputId": "dd403bfa-4326-45b6-f235-f06977e96a1d"
      },
      "execution_count": 18,
      "outputs": [
        {
          "output_type": "stream",
          "name": "stdout",
          "text": [
            "Conv2D output shape: \t (1, 14, 14, 64)\n",
            "BatchNormalization output shape: \t (1, 14, 14, 64)\n",
            "ReLU output shape: \t (1, 14, 14, 64)\n",
            "MaxPooling2D output shape: \t (1, 7, 7, 64)\n",
            "DenseBlock output shape: \t (1, 7, 7, 192)\n",
            "TransitionBlock output shape: \t (1, 3, 3, 96)\n",
            "DenseBlock output shape: \t (1, 3, 3, 224)\n",
            "TransitionBlock output shape: \t (1, 1, 1, 112)\n",
            "DenseBlock output shape: \t (1, 1, 1, 240)\n",
            "TransitionBlock output shape: \t (1, 0, 0, 120)\n",
            "DenseBlock output shape: \t (1, 0, 0, 248)\n",
            "BatchNormalization output shape: \t (1, 0, 0, 248)\n",
            "ReLU output shape: \t (1, 0, 0, 248)\n",
            "GlobalAveragePooling2D output shape: \t (1, 248)\n",
            "Flatten output shape: \t (1, 248)\n",
            "Dense output shape: \t (1, 10)\n"
          ]
        }
      ]
    }
  ]
}