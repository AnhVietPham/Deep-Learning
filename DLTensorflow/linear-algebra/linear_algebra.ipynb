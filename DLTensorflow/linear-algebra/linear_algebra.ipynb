{
  "nbformat": 4,
  "nbformat_minor": 0,
  "metadata": {
    "colab": {
      "name": "linear-algebra.ipynb",
      "provenance": [],
      "authorship_tag": "ABX9TyPRp1FVSRvnltqV+WK68gWs",
      "include_colab_link": true
    },
    "kernelspec": {
      "name": "python3",
      "display_name": "Python 3"
    },
    "language_info": {
      "name": "python"
    }
  },
  "cells": [
    {
      "cell_type": "markdown",
      "metadata": {
        "id": "view-in-github",
        "colab_type": "text"
      },
      "source": [
        "<a href=\"https://colab.research.google.com/github/AnhVietPham/Deep-Learning/blob/main/DLTensorflow/linear-algebra/linear_algebra.ipynb\" target=\"_parent\"><img src=\"https://colab.research.google.com/assets/colab-badge.svg\" alt=\"Open In Colab\"/></a>"
      ]
    },
    {
      "cell_type": "code",
      "metadata": {
        "id": "Sv98MfRDJJ7d"
      },
      "source": [
        "import tensorflow as tf\n",
        "import numpy as np"
      ],
      "execution_count": 1,
      "outputs": []
    },
    {
      "cell_type": "code",
      "metadata": {
        "colab": {
          "base_uri": "https://localhost:8080/"
        },
        "id": "eEER3KPl7Fz7",
        "outputId": "dfcbf60e-534b-450b-ccfa-0d5090f1e2e4"
      },
      "source": [
        "x = tf.constant(3.0)\n",
        "y = tf.constant(2.0)\n",
        "x + y, x * y, x / y, x**y"
      ],
      "execution_count": null,
      "outputs": [
        {
          "output_type": "execute_result",
          "data": {
            "text/plain": [
              "(<tf.Tensor: shape=(), dtype=float32, numpy=5.0>,\n",
              " <tf.Tensor: shape=(), dtype=float32, numpy=6.0>,\n",
              " <tf.Tensor: shape=(), dtype=float32, numpy=1.5>,\n",
              " <tf.Tensor: shape=(), dtype=float32, numpy=9.0>)"
            ]
          },
          "metadata": {},
          "execution_count": 3
        }
      ]
    },
    {
      "cell_type": "markdown",
      "metadata": {
        "id": "mKd5j7n273Dd"
      },
      "source": [
        "# **Vectors**"
      ]
    },
    {
      "cell_type": "code",
      "metadata": {
        "colab": {
          "base_uri": "https://localhost:8080/"
        },
        "id": "AcWa3C8F7PVV",
        "outputId": "791296ce-3cd7-4568-eb83-c222ba28f86e"
      },
      "source": [
        "x = tf.range(9)\n",
        "print(x)\n",
        "print()\n",
        "print(len(x))\n",
        "print()\n",
        "print(x.shape)"
      ],
      "execution_count": null,
      "outputs": [
        {
          "output_type": "stream",
          "name": "stdout",
          "text": [
            "tf.Tensor([0 1 2 3 4 5 6 7 8], shape=(9,), dtype=int32)\n",
            "\n",
            "9\n",
            "\n",
            "(9,)\n"
          ]
        }
      ]
    },
    {
      "cell_type": "markdown",
      "metadata": {
        "id": "_hoVu8fp8bFL"
      },
      "source": [
        "# **Matrices**"
      ]
    },
    {
      "cell_type": "code",
      "metadata": {
        "id": "SaLA7Rz88c_V"
      },
      "source": [
        "A = tf.reshape(tf.range(18), (6,3))"
      ],
      "execution_count": null,
      "outputs": []
    },
    {
      "cell_type": "code",
      "metadata": {
        "colab": {
          "base_uri": "https://localhost:8080/"
        },
        "id": "vBRyNgyH9IHH",
        "outputId": "311bc15c-a9cd-42d5-bd06-d9ea3325897c"
      },
      "source": [
        "tf.transpose(A)"
      ],
      "execution_count": null,
      "outputs": [
        {
          "output_type": "execute_result",
          "data": {
            "text/plain": [
              "<tf.Tensor: shape=(3, 6), dtype=int32, numpy=\n",
              "array([[ 0,  3,  6,  9, 12, 15],\n",
              "       [ 1,  4,  7, 10, 13, 16],\n",
              "       [ 2,  5,  8, 11, 14, 17]], dtype=int32)>"
            ]
          },
          "metadata": {},
          "execution_count": 6
        }
      ]
    },
    {
      "cell_type": "code",
      "metadata": {
        "colab": {
          "base_uri": "https://localhost:8080/"
        },
        "id": "mM3kE2Am9Q6s",
        "outputId": "cbd970ed-c403-49b3-cb7e-173a4a9fe46f"
      },
      "source": [
        "B = tf.constant([[1,2,3], [4,5,6],[7,8,9]])\n",
        "B"
      ],
      "execution_count": null,
      "outputs": [
        {
          "output_type": "execute_result",
          "data": {
            "text/plain": [
              "<tf.Tensor: shape=(3, 3), dtype=int32, numpy=\n",
              "array([[1, 2, 3],\n",
              "       [4, 5, 6],\n",
              "       [7, 8, 9]], dtype=int32)>"
            ]
          },
          "metadata": {},
          "execution_count": 7
        }
      ]
    },
    {
      "cell_type": "code",
      "metadata": {
        "colab": {
          "base_uri": "https://localhost:8080/"
        },
        "id": "Kb8EqeNs9XNT",
        "outputId": "62d446ae-1fbe-4e2c-d282-e5c782cc4ee1"
      },
      "source": [
        "B == tf.transpose(B)"
      ],
      "execution_count": null,
      "outputs": [
        {
          "output_type": "execute_result",
          "data": {
            "text/plain": [
              "<tf.Tensor: shape=(3, 3), dtype=bool, numpy=\n",
              "array([[ True, False, False],\n",
              "       [False,  True, False],\n",
              "       [False, False,  True]])>"
            ]
          },
          "metadata": {},
          "execution_count": 8
        }
      ]
    },
    {
      "cell_type": "markdown",
      "metadata": {
        "id": "_IVhNTii_qkj"
      },
      "source": [
        "# **Tensors**"
      ]
    },
    {
      "cell_type": "code",
      "metadata": {
        "colab": {
          "base_uri": "https://localhost:8080/"
        },
        "id": "IDHqJeMF_sbZ",
        "outputId": "a12be6cd-a10c-43ce-b37b-40cd44f09091"
      },
      "source": [
        "X = tf.reshape(tf.range(24), (2, 3, 4))\n",
        "X"
      ],
      "execution_count": null,
      "outputs": [
        {
          "output_type": "execute_result",
          "data": {
            "text/plain": [
              "<tf.Tensor: shape=(2, 3, 4), dtype=int32, numpy=\n",
              "array([[[ 0,  1,  2,  3],\n",
              "        [ 4,  5,  6,  7],\n",
              "        [ 8,  9, 10, 11]],\n",
              "\n",
              "       [[12, 13, 14, 15],\n",
              "        [16, 17, 18, 19],\n",
              "        [20, 21, 22, 23]]], dtype=int32)>"
            ]
          },
          "metadata": {},
          "execution_count": 9
        }
      ]
    },
    {
      "cell_type": "code",
      "metadata": {
        "colab": {
          "base_uri": "https://localhost:8080/"
        },
        "id": "9-I4C7V5AvZI",
        "outputId": "c5366b6c-5e91-4d2c-a409-e508c8010cd9"
      },
      "source": [
        "A = tf.reshape(tf.range(20, dtype=tf.float32), (5,4))\n",
        "B = A\n",
        "A , A + B"
      ],
      "execution_count": null,
      "outputs": [
        {
          "output_type": "execute_result",
          "data": {
            "text/plain": [
              "(<tf.Tensor: shape=(5, 4), dtype=float32, numpy=\n",
              " array([[ 0.,  1.,  2.,  3.],\n",
              "        [ 4.,  5.,  6.,  7.],\n",
              "        [ 8.,  9., 10., 11.],\n",
              "        [12., 13., 14., 15.],\n",
              "        [16., 17., 18., 19.]], dtype=float32)>,\n",
              " <tf.Tensor: shape=(5, 4), dtype=float32, numpy=\n",
              " array([[ 0.,  2.,  4.,  6.],\n",
              "        [ 8., 10., 12., 14.],\n",
              "        [16., 18., 20., 22.],\n",
              "        [24., 26., 28., 30.],\n",
              "        [32., 34., 36., 38.]], dtype=float32)>)"
            ]
          },
          "metadata": {},
          "execution_count": 10
        }
      ]
    },
    {
      "cell_type": "code",
      "metadata": {
        "colab": {
          "base_uri": "https://localhost:8080/"
        },
        "id": "QzU9l-S5A7Rc",
        "outputId": "7905353e-7d94-43b6-9930-efde637995d8"
      },
      "source": [
        "A * B"
      ],
      "execution_count": null,
      "outputs": [
        {
          "output_type": "execute_result",
          "data": {
            "text/plain": [
              "<tf.Tensor: shape=(5, 4), dtype=float32, numpy=\n",
              "array([[  0.,   1.,   4.,   9.],\n",
              "       [ 16.,  25.,  36.,  49.],\n",
              "       [ 64.,  81., 100., 121.],\n",
              "       [144., 169., 196., 225.],\n",
              "       [256., 289., 324., 361.]], dtype=float32)>"
            ]
          },
          "metadata": {},
          "execution_count": 11
        }
      ]
    },
    {
      "cell_type": "markdown",
      "metadata": {
        "id": "wRck82rXBDlT"
      },
      "source": [
        "# **Reduction**"
      ]
    },
    {
      "cell_type": "code",
      "metadata": {
        "colab": {
          "base_uri": "https://localhost:8080/"
        },
        "id": "BlimG_6iBFbF",
        "outputId": "52696d8d-db42-4996-9dda-0a5395ce0104"
      },
      "source": [
        "x = tf.range(4, dtype=tf.float32)\n",
        "x, tf.reduce_sum(x)"
      ],
      "execution_count": null,
      "outputs": [
        {
          "output_type": "execute_result",
          "data": {
            "text/plain": [
              "(<tf.Tensor: shape=(4,), dtype=float32, numpy=array([0., 1., 2., 3.], dtype=float32)>,\n",
              " <tf.Tensor: shape=(), dtype=float32, numpy=6.0>)"
            ]
          },
          "metadata": {},
          "execution_count": 12
        }
      ]
    },
    {
      "cell_type": "code",
      "metadata": {
        "id": "wDN1iLeKFcmc"
      },
      "source": [
        "A = tf.reshape(tf.range(20, dtype=tf.float32), (5,4))"
      ],
      "execution_count": null,
      "outputs": []
    },
    {
      "cell_type": "code",
      "metadata": {
        "colab": {
          "base_uri": "https://localhost:8080/"
        },
        "id": "vViKdZRHCOyi",
        "outputId": "b8a762c3-898b-4994-fa0f-3d99caaf71cb"
      },
      "source": [
        "print(A.shape)\n",
        "print()\n",
        "print(tf.reduce_sum(A))"
      ],
      "execution_count": null,
      "outputs": [
        {
          "output_type": "stream",
          "name": "stdout",
          "text": [
            "(5, 4)\n",
            "\n",
            "tf.Tensor(190.0, shape=(), dtype=float32)\n"
          ]
        }
      ]
    },
    {
      "cell_type": "code",
      "metadata": {
        "colab": {
          "base_uri": "https://localhost:8080/"
        },
        "id": "3Ji1B7D4DTzx",
        "outputId": "cbddb55a-f729-4c65-c423-7f1e99f33f99"
      },
      "source": [
        "A"
      ],
      "execution_count": null,
      "outputs": [
        {
          "output_type": "execute_result",
          "data": {
            "text/plain": [
              "<tf.Tensor: shape=(5, 4), dtype=float32, numpy=\n",
              "array([[ 0.,  1.,  2.,  3.],\n",
              "       [ 4.,  5.,  6.,  7.],\n",
              "       [ 8.,  9., 10., 11.],\n",
              "       [12., 13., 14., 15.],\n",
              "       [16., 17., 18., 19.]], dtype=float32)>"
            ]
          },
          "metadata": {},
          "execution_count": 15
        }
      ]
    },
    {
      "cell_type": "code",
      "metadata": {
        "colab": {
          "base_uri": "https://localhost:8080/"
        },
        "id": "3e5af9rkDUpY",
        "outputId": "85113aa7-0a45-405a-fb8e-d49c1036b1fe"
      },
      "source": [
        "A_sum_axis0 = tf.reduce_sum(A, axis = 0)\n",
        "print(A_sum_axis0)\n",
        "print()\n",
        "print(A_sum_axis0.shape)"
      ],
      "execution_count": null,
      "outputs": [
        {
          "output_type": "stream",
          "name": "stdout",
          "text": [
            "tf.Tensor([40. 45. 50. 55.], shape=(4,), dtype=float32)\n",
            "\n",
            "(4,)\n"
          ]
        }
      ]
    },
    {
      "cell_type": "code",
      "metadata": {
        "colab": {
          "base_uri": "https://localhost:8080/"
        },
        "id": "GjK2dFWTDtjw",
        "outputId": "a1c55475-d4ce-441c-d282-9eed7fd442f8"
      },
      "source": [
        "A_sum_axis1 = tf.reduce_sum(A, axis = 1)\n",
        "print(A_sum_axis1)\n",
        "print()\n",
        "print(A_sum_axis1.shape)"
      ],
      "execution_count": null,
      "outputs": [
        {
          "output_type": "stream",
          "name": "stdout",
          "text": [
            "tf.Tensor([ 6. 22. 38. 54. 70.], shape=(5,), dtype=float32)\n",
            "\n",
            "(5,)\n"
          ]
        }
      ]
    },
    {
      "cell_type": "code",
      "metadata": {
        "colab": {
          "base_uri": "https://localhost:8080/"
        },
        "id": "tFlphxsXEAEV",
        "outputId": "e76fd976-657a-4b60-9025-da4a005c109c"
      },
      "source": [
        "tf.reduce_sum(A, axis=[0,1])"
      ],
      "execution_count": null,
      "outputs": [
        {
          "output_type": "execute_result",
          "data": {
            "text/plain": [
              "<tf.Tensor: shape=(), dtype=float32, numpy=190.0>"
            ]
          },
          "metadata": {},
          "execution_count": 18
        }
      ]
    },
    {
      "cell_type": "code",
      "metadata": {
        "colab": {
          "base_uri": "https://localhost:8080/"
        },
        "id": "vh9Y_qh0ESKu",
        "outputId": "efa7df3f-e44b-46a7-9b4f-1ea303bde05a"
      },
      "source": [
        "tf.reduce_mean(A)"
      ],
      "execution_count": null,
      "outputs": [
        {
          "output_type": "execute_result",
          "data": {
            "text/plain": [
              "<tf.Tensor: shape=(), dtype=float32, numpy=9.5>"
            ]
          },
          "metadata": {},
          "execution_count": 19
        }
      ]
    },
    {
      "cell_type": "code",
      "metadata": {
        "colab": {
          "base_uri": "https://localhost:8080/"
        },
        "id": "Nt7wbGx8EV8H",
        "outputId": "2ca5bc90-f0e2-4c71-a817-58dd6edc8327"
      },
      "source": [
        "tf.reduce_sum(A)/tf.size(A).numpy()"
      ],
      "execution_count": null,
      "outputs": [
        {
          "output_type": "execute_result",
          "data": {
            "text/plain": [
              "<tf.Tensor: shape=(), dtype=float32, numpy=9.5>"
            ]
          },
          "metadata": {},
          "execution_count": 20
        }
      ]
    },
    {
      "cell_type": "code",
      "metadata": {
        "colab": {
          "base_uri": "https://localhost:8080/"
        },
        "id": "2chRODmUF0bh",
        "outputId": "5b9c27ee-fe86-4d38-eae0-881b57c27378"
      },
      "source": [
        "tf.reduce_mean(A, axis = 0)"
      ],
      "execution_count": null,
      "outputs": [
        {
          "output_type": "execute_result",
          "data": {
            "text/plain": [
              "<tf.Tensor: shape=(4,), dtype=float32, numpy=array([ 8.,  9., 10., 11.], dtype=float32)>"
            ]
          },
          "metadata": {},
          "execution_count": 21
        }
      ]
    },
    {
      "cell_type": "markdown",
      "metadata": {
        "id": "JUiBK6_KmIyg"
      },
      "source": [
        "# **Non-Reduction Sum**"
      ]
    },
    {
      "cell_type": "code",
      "metadata": {
        "colab": {
          "base_uri": "https://localhost:8080/"
        },
        "id": "bqW0K3zHmMtM",
        "outputId": "5fb19b4e-a6d2-436a-aa8a-30582a7680d8"
      },
      "source": [
        "sum_A = tf.reduce_sum(A, axis = 1, keepdims=True)\n",
        "sum_A"
      ],
      "execution_count": null,
      "outputs": [
        {
          "output_type": "execute_result",
          "data": {
            "text/plain": [
              "<tf.Tensor: shape=(5, 1), dtype=float32, numpy=\n",
              "array([[ 6.],\n",
              "       [22.],\n",
              "       [38.],\n",
              "       [54.],\n",
              "       [70.]], dtype=float32)>"
            ]
          },
          "metadata": {},
          "execution_count": 23
        }
      ]
    },
    {
      "cell_type": "code",
      "metadata": {
        "colab": {
          "base_uri": "https://localhost:8080/"
        },
        "id": "THlbY9amm20o",
        "outputId": "9c519a1f-4df4-423a-cbd6-fb7a2858a5c2"
      },
      "source": [
        "A / sum_A"
      ],
      "execution_count": null,
      "outputs": [
        {
          "output_type": "execute_result",
          "data": {
            "text/plain": [
              "<tf.Tensor: shape=(5, 4), dtype=float32, numpy=\n",
              "array([[0.        , 0.16666667, 0.33333334, 0.5       ],\n",
              "       [0.18181819, 0.22727273, 0.27272728, 0.3181818 ],\n",
              "       [0.21052632, 0.23684211, 0.2631579 , 0.28947368],\n",
              "       [0.22222222, 0.24074075, 0.25925925, 0.2777778 ],\n",
              "       [0.22857143, 0.24285714, 0.25714287, 0.27142859]], dtype=float32)>"
            ]
          },
          "metadata": {},
          "execution_count": 24
        }
      ]
    },
    {
      "cell_type": "code",
      "metadata": {
        "colab": {
          "base_uri": "https://localhost:8080/"
        },
        "id": "bO5dXL7mnVns",
        "outputId": "65b84c65-178f-40fa-f6fd-7cc703b81fdf"
      },
      "source": [
        "tf.cumsum(A, axis=0)"
      ],
      "execution_count": null,
      "outputs": [
        {
          "output_type": "execute_result",
          "data": {
            "text/plain": [
              "<tf.Tensor: shape=(5, 4), dtype=float32, numpy=\n",
              "array([[ 0.,  1.,  2.,  3.],\n",
              "       [ 4.,  6.,  8., 10.],\n",
              "       [12., 15., 18., 21.],\n",
              "       [24., 28., 32., 36.],\n",
              "       [40., 45., 50., 55.]], dtype=float32)>"
            ]
          },
          "metadata": {},
          "execution_count": 25
        }
      ]
    },
    {
      "cell_type": "code",
      "metadata": {
        "colab": {
          "base_uri": "https://localhost:8080/"
        },
        "id": "JZIdS6NqnZ57",
        "outputId": "0a8fde7b-12d2-41cd-f462-adef94de595f"
      },
      "source": [
        "tf.cumsum(A, axis=1)"
      ],
      "execution_count": null,
      "outputs": [
        {
          "output_type": "execute_result",
          "data": {
            "text/plain": [
              "<tf.Tensor: shape=(5, 4), dtype=float32, numpy=\n",
              "array([[ 0.,  1.,  3.,  6.],\n",
              "       [ 4.,  9., 15., 22.],\n",
              "       [ 8., 17., 27., 38.],\n",
              "       [12., 25., 39., 54.],\n",
              "       [16., 33., 51., 70.]], dtype=float32)>"
            ]
          },
          "metadata": {},
          "execution_count": 26
        }
      ]
    },
    {
      "cell_type": "markdown",
      "metadata": {
        "id": "pZlH5-iPnf6y"
      },
      "source": [
        "# **Dot Product**"
      ]
    },
    {
      "cell_type": "code",
      "metadata": {
        "colab": {
          "base_uri": "https://localhost:8080/"
        },
        "id": "2tJRc1mpniBB",
        "outputId": "601cbd00-d935-40e9-e625-9197846760f7"
      },
      "source": [
        "y = tf.ones(4, dtype=tf.float32)\n",
        "print(x)\n",
        "print()\n",
        "print(y)\n",
        "print()\n",
        "print(tf.tensordot(x, y, axes = 0))"
      ],
      "execution_count": null,
      "outputs": [
        {
          "output_type": "stream",
          "name": "stdout",
          "text": [
            "tf.Tensor([0. 1. 2. 3.], shape=(4,), dtype=float32)\n",
            "\n",
            "tf.Tensor([1. 1. 1. 1.], shape=(4,), dtype=float32)\n",
            "\n",
            "tf.Tensor(\n",
            "[[0. 0. 0. 0.]\n",
            " [1. 1. 1. 1.]\n",
            " [2. 2. 2. 2.]\n",
            " [3. 3. 3. 3.]], shape=(4, 4), dtype=float32)\n"
          ]
        }
      ]
    },
    {
      "cell_type": "markdown",
      "metadata": {
        "id": "RQdakhn7qw7Z"
      },
      "source": [
        "# **Matrix-Vector Products**"
      ]
    },
    {
      "cell_type": "code",
      "metadata": {
        "colab": {
          "base_uri": "https://localhost:8080/"
        },
        "id": "oNQSIeJnq0a0",
        "outputId": "176a40de-df45-40d0-c145-dfedbab910a3"
      },
      "source": [
        "print(A)\n",
        "print()\n",
        "print(x)"
      ],
      "execution_count": null,
      "outputs": [
        {
          "output_type": "stream",
          "name": "stdout",
          "text": [
            "tf.Tensor(\n",
            "[[ 0.  1.  2.  3.]\n",
            " [ 4.  5.  6.  7.]\n",
            " [ 8.  9. 10. 11.]\n",
            " [12. 13. 14. 15.]\n",
            " [16. 17. 18. 19.]], shape=(5, 4), dtype=float32)\n",
            "\n",
            "tf.Tensor([0. 1. 2. 3.], shape=(4,), dtype=float32)\n"
          ]
        }
      ]
    },
    {
      "cell_type": "code",
      "metadata": {
        "colab": {
          "base_uri": "https://localhost:8080/"
        },
        "id": "zbMRgaHgrr70",
        "outputId": "cd56cd10-d5ec-47ee-d61d-75beedd99243"
      },
      "source": [
        "tf.linalg.matvec(A,x)"
      ],
      "execution_count": null,
      "outputs": [
        {
          "output_type": "execute_result",
          "data": {
            "text/plain": [
              "<tf.Tensor: shape=(5,), dtype=float32, numpy=array([ 14.,  38.,  62.,  86., 110.], dtype=float32)>"
            ]
          },
          "metadata": {},
          "execution_count": 32
        }
      ]
    },
    {
      "cell_type": "markdown",
      "metadata": {
        "id": "j3-MPdlssAje"
      },
      "source": [
        "# **Matrix-Matrix Multiplication**"
      ]
    },
    {
      "cell_type": "code",
      "metadata": {
        "colab": {
          "base_uri": "https://localhost:8080/"
        },
        "id": "_VB6AhIVsBiB",
        "outputId": "86542c3b-2d10-4c61-ce67-7313e635fd64"
      },
      "source": [
        "print(A)\n",
        "print()\n",
        "B = tf.ones((4,3), tf.float32)\n",
        "print(B)"
      ],
      "execution_count": null,
      "outputs": [
        {
          "output_type": "stream",
          "name": "stdout",
          "text": [
            "tf.Tensor(\n",
            "[[ 0.  1.  2.  3.]\n",
            " [ 4.  5.  6.  7.]\n",
            " [ 8.  9. 10. 11.]\n",
            " [12. 13. 14. 15.]\n",
            " [16. 17. 18. 19.]], shape=(5, 4), dtype=float32)\n",
            "\n",
            "tf.Tensor(\n",
            "[[1. 1. 1.]\n",
            " [1. 1. 1.]\n",
            " [1. 1. 1.]\n",
            " [1. 1. 1.]], shape=(4, 3), dtype=float32)\n"
          ]
        }
      ]
    },
    {
      "cell_type": "code",
      "metadata": {
        "colab": {
          "base_uri": "https://localhost:8080/"
        },
        "id": "-zRRbpVptSAM",
        "outputId": "1990cbe3-ff59-48fa-dd72-cc8958e14d13"
      },
      "source": [
        "tf.matmul(A, B)"
      ],
      "execution_count": null,
      "outputs": [
        {
          "output_type": "execute_result",
          "data": {
            "text/plain": [
              "<tf.Tensor: shape=(5, 3), dtype=float32, numpy=\n",
              "array([[ 6.,  6.,  6.],\n",
              "       [22., 22., 22.],\n",
              "       [38., 38., 38.],\n",
              "       [54., 54., 54.],\n",
              "       [70., 70., 70.]], dtype=float32)>"
            ]
          },
          "metadata": {},
          "execution_count": 35
        }
      ]
    },
    {
      "cell_type": "markdown",
      "metadata": {
        "id": "6HpKvvCAtWqU"
      },
      "source": [
        "# **Norms**"
      ]
    },
    {
      "cell_type": "code",
      "metadata": {
        "colab": {
          "base_uri": "https://localhost:8080/"
        },
        "id": "z3pPie7BtYA-",
        "outputId": "4d53edd9-0371-4b4c-bf13-ec3f0e5f599a"
      },
      "source": [
        "u = tf.constant([-3.0,-4.0])\n",
        "tf.norm(u)"
      ],
      "execution_count": null,
      "outputs": [
        {
          "output_type": "execute_result",
          "data": {
            "text/plain": [
              "<tf.Tensor: shape=(), dtype=float32, numpy=5.0>"
            ]
          },
          "metadata": {},
          "execution_count": 37
        }
      ]
    },
    {
      "cell_type": "code",
      "metadata": {
        "colab": {
          "base_uri": "https://localhost:8080/"
        },
        "id": "z2_4j1iRveii",
        "outputId": "785954ab-36ba-4394-cc72-5e16595647de"
      },
      "source": [
        "tf.reduce_sum(tf.abs(u))"
      ],
      "execution_count": null,
      "outputs": [
        {
          "output_type": "execute_result",
          "data": {
            "text/plain": [
              "<tf.Tensor: shape=(), dtype=float32, numpy=7.0>"
            ]
          },
          "metadata": {},
          "execution_count": 38
        }
      ]
    },
    {
      "cell_type": "code",
      "metadata": {
        "colab": {
          "base_uri": "https://localhost:8080/"
        },
        "id": "50TYi0Hdv-rz",
        "outputId": "9d8afb23-17b1-4ec3-b466-efc9df618ca7"
      },
      "source": [
        "tf.ones((4,9))"
      ],
      "execution_count": null,
      "outputs": [
        {
          "output_type": "execute_result",
          "data": {
            "text/plain": [
              "<tf.Tensor: shape=(4, 9), dtype=float32, numpy=\n",
              "array([[1., 1., 1., 1., 1., 1., 1., 1., 1.],\n",
              "       [1., 1., 1., 1., 1., 1., 1., 1., 1.],\n",
              "       [1., 1., 1., 1., 1., 1., 1., 1., 1.],\n",
              "       [1., 1., 1., 1., 1., 1., 1., 1., 1.]], dtype=float32)>"
            ]
          },
          "metadata": {},
          "execution_count": 43
        }
      ]
    },
    {
      "cell_type": "code",
      "metadata": {
        "colab": {
          "base_uri": "https://localhost:8080/"
        },
        "id": "mz_2eWH2wVC_",
        "outputId": "e1638478-c05b-42d0-f4bb-651193a75bef"
      },
      "source": [
        "tf.norm(tf.ones((4,9)))"
      ],
      "execution_count": null,
      "outputs": [
        {
          "output_type": "execute_result",
          "data": {
            "text/plain": [
              "<tf.Tensor: shape=(), dtype=float32, numpy=6.0>"
            ]
          },
          "metadata": {},
          "execution_count": 44
        }
      ]
    },
    {
      "cell_type": "markdown",
      "metadata": {
        "id": "1yeOUPFTyWNn"
      },
      "source": [
        "# **Exercises**"
      ]
    },
    {
      "cell_type": "markdown",
      "metadata": {
        "id": "fVMdcwAvADJF"
      },
      "source": [
        "# **1/ Prove that the transpose of a matrix $\\mathbf{A}'s$ transpose $(\\mathbf{A}^T)^T = \\mathbf{A}: $**"
      ]
    },
    {
      "cell_type": "markdown",
      "metadata": {
        "id": "afUxl4rlBocB"
      },
      "source": [
        "**Solution**: We have $\\mathbf{A} \\Leftrightarrow \\mathbf{[A]}_{ij}$ and $(\\mathbf{[A]}_{ij})^T \\Leftrightarrow \\mathbf{[A]}_{ji} \\Rightarrow (\\mathbf{[A]}_{ji})^T = \\mathbf{[A]}_{ij}$ then $(\\mathbf{[A]}_{ji})^T \\Leftrightarrow \\mathbf{[A]}_{ij}.$ "
      ]
    },
    {
      "cell_type": "code",
      "metadata": {
        "id": "9FdgfGwwyY12",
        "colab": {
          "base_uri": "https://localhost:8080/"
        },
        "outputId": "d316e871-eea1-43f0-b7e3-de8765871393"
      },
      "source": [
        "A = tf.constant([[1,2,3],[4,5,6],[7,8,9]])\n",
        "A"
      ],
      "execution_count": 2,
      "outputs": [
        {
          "output_type": "execute_result",
          "data": {
            "text/plain": [
              "<tf.Tensor: shape=(3, 3), dtype=int32, numpy=\n",
              "array([[1, 2, 3],\n",
              "       [4, 5, 6],\n",
              "       [7, 8, 9]], dtype=int32)>"
            ]
          },
          "metadata": {},
          "execution_count": 2
        }
      ]
    },
    {
      "cell_type": "code",
      "metadata": {
        "colab": {
          "base_uri": "https://localhost:8080/"
        },
        "id": "uWi3iU7xGsKs",
        "outputId": "86e25c32-4791-44c4-e146-27ad0cc1e44a"
      },
      "source": [
        "tf.transpose(tf.transpose(A))"
      ],
      "execution_count": 3,
      "outputs": [
        {
          "output_type": "execute_result",
          "data": {
            "text/plain": [
              "<tf.Tensor: shape=(3, 3), dtype=int32, numpy=\n",
              "array([[1, 2, 3],\n",
              "       [4, 5, 6],\n",
              "       [7, 8, 9]], dtype=int32)>"
            ]
          },
          "metadata": {},
          "execution_count": 3
        }
      ]
    },
    {
      "cell_type": "markdown",
      "metadata": {
        "id": "AU21vC9LGyed"
      },
      "source": [
        "# **2/ Given two $\\mathbf{A}$ and $\\mathbf{B}$ show that $\\mathbf{A}^T + \\mathbf{B}^T = (\\mathbf{A} + \\mathbf{B})^T$.**"
      ]
    },
    {
      "cell_type": "code",
      "metadata": {
        "colab": {
          "base_uri": "https://localhost:8080/"
        },
        "id": "vRNqz-TAIASC",
        "outputId": "ccec4f2d-a7ec-4e18-fbec-2315a012b47e"
      },
      "source": [
        "A = tf.constant([[1,2,3],[4,5,6]])\n",
        "print(A)\n",
        "B = tf.constant([[1,2,3],[4,5,6]])\n",
        "print(B)"
      ],
      "execution_count": 8,
      "outputs": [
        {
          "output_type": "stream",
          "name": "stdout",
          "text": [
            "tf.Tensor(\n",
            "[[1 2 3]\n",
            " [4 5 6]], shape=(2, 3), dtype=int32)\n",
            "tf.Tensor(\n",
            "[[1 2 3]\n",
            " [4 5 6]], shape=(2, 3), dtype=int32)\n"
          ]
        }
      ]
    },
    {
      "cell_type": "code",
      "metadata": {
        "colab": {
          "base_uri": "https://localhost:8080/"
        },
        "id": "ooBZyTT-IIOZ",
        "outputId": "b1f9ee49-1abf-4fa5-b01b-aafd8755afea"
      },
      "source": [
        "print(A + B)\n",
        "print()\n",
        "print(tf.transpose(A + B))"
      ],
      "execution_count": 10,
      "outputs": [
        {
          "output_type": "stream",
          "name": "stdout",
          "text": [
            "tf.Tensor(\n",
            "[[ 2  4  6]\n",
            " [ 8 10 12]], shape=(2, 3), dtype=int32)\n",
            "\n",
            "tf.Tensor(\n",
            "[[ 2  8]\n",
            " [ 4 10]\n",
            " [ 6 12]], shape=(3, 2), dtype=int32)\n"
          ]
        }
      ]
    },
    {
      "cell_type": "code",
      "metadata": {
        "colab": {
          "base_uri": "https://localhost:8080/"
        },
        "id": "hRcZWNi7IxV3",
        "outputId": "6952b98c-3693-4d68-8f58-18a3c97849ce"
      },
      "source": [
        "print(tf.transpose(A))\n",
        "print()\n",
        "print(tf.transpose(B))\n",
        "print()\n",
        "print(tf.transpose(A) + tf.transpose(B))"
      ],
      "execution_count": 12,
      "outputs": [
        {
          "output_type": "stream",
          "name": "stdout",
          "text": [
            "tf.Tensor(\n",
            "[[1 4]\n",
            " [2 5]\n",
            " [3 6]], shape=(3, 2), dtype=int32)\n",
            "\n",
            "tf.Tensor(\n",
            "[[1 4]\n",
            " [2 5]\n",
            " [3 6]], shape=(3, 2), dtype=int32)\n",
            "\n",
            "tf.Tensor(\n",
            "[[ 2  8]\n",
            " [ 4 10]\n",
            " [ 6 12]], shape=(3, 2), dtype=int32)\n"
          ]
        }
      ]
    },
    {
      "cell_type": "markdown",
      "metadata": {
        "id": "cBqnf9CNKb57"
      },
      "source": [
        "# **3/ Give any square matrix $\\mathbf{A}$ is $\\mathbf{A} + \\mathbf{A}^T$ always symmetric.**"
      ]
    },
    {
      "cell_type": "markdown",
      "metadata": {
        "id": "5GFLhY74OhWC"
      },
      "source": [
        "**Solution**: $\\mathbf{X} = \\mathbf{A} + \\mathbf{A}^T$. $\\mathbf{X}$ is symmetric $\\Leftrightarrow \\mathbf{X} = \\mathbf{X}^T$ then $\\mathbf{X}^T - \\mathbf{X} = 0$"
      ]
    },
    {
      "cell_type": "code",
      "metadata": {
        "colab": {
          "base_uri": "https://localhost:8080/"
        },
        "id": "3DD-NgKzPL71",
        "outputId": "02d882cd-3f47-44de-faf7-8167a6adabce"
      },
      "source": [
        "A = tf.constant([[1,2,3],[4,5,6],[7,8,9]])\n",
        "print(A)\n",
        "print()\n",
        "print(tf.transpose(A))"
      ],
      "execution_count": 13,
      "outputs": [
        {
          "output_type": "stream",
          "name": "stdout",
          "text": [
            "tf.Tensor(\n",
            "[[1 2 3]\n",
            " [4 5 6]\n",
            " [7 8 9]], shape=(3, 3), dtype=int32)\n",
            "\n",
            "tf.Tensor(\n",
            "[[1 4 7]\n",
            " [2 5 8]\n",
            " [3 6 9]], shape=(3, 3), dtype=int32)\n"
          ]
        }
      ]
    },
    {
      "cell_type": "code",
      "metadata": {
        "colab": {
          "base_uri": "https://localhost:8080/"
        },
        "id": "rFdNMYwkPWHZ",
        "outputId": "519949f6-af2b-489b-97e5-9ba6db970e01"
      },
      "source": [
        "print(A + tf.transpose(A))\n",
        "print()\n",
        "print(tf.transpose(A + tf.transpose(A)) - (A + tf.transpose(A)))"
      ],
      "execution_count": 14,
      "outputs": [
        {
          "output_type": "stream",
          "name": "stdout",
          "text": [
            "tf.Tensor(\n",
            "[[ 2  6 10]\n",
            " [ 6 10 14]\n",
            " [10 14 18]], shape=(3, 3), dtype=int32)\n",
            "\n",
            "tf.Tensor(\n",
            "[[0 0 0]\n",
            " [0 0 0]\n",
            " [0 0 0]], shape=(3, 3), dtype=int32)\n"
          ]
        }
      ]
    },
    {
      "cell_type": "markdown",
      "metadata": {
        "id": "xyPXrE26P_n1"
      },
      "source": [
        "# **4/ We defined the tensor X of shape (2, 3, 4) in this section. What is the output of len(X)?**"
      ]
    },
    {
      "cell_type": "code",
      "metadata": {
        "colab": {
          "base_uri": "https://localhost:8080/"
        },
        "id": "76VGbVNvQPSr",
        "outputId": "9cc872d1-dff1-400c-9a53-7f5f9ef0a18b"
      },
      "source": [
        "A = tf.reshape(tf.range(24), (2,3,4))\n",
        "A"
      ],
      "execution_count": 21,
      "outputs": [
        {
          "output_type": "execute_result",
          "data": {
            "text/plain": [
              "<tf.Tensor: shape=(2, 3, 4), dtype=int32, numpy=\n",
              "array([[[ 0,  1,  2,  3],\n",
              "        [ 4,  5,  6,  7],\n",
              "        [ 8,  9, 10, 11]],\n",
              "\n",
              "       [[12, 13, 14, 15],\n",
              "        [16, 17, 18, 19],\n",
              "        [20, 21, 22, 23]]], dtype=int32)>"
            ]
          },
          "metadata": {},
          "execution_count": 21
        }
      ]
    },
    {
      "cell_type": "code",
      "metadata": {
        "colab": {
          "base_uri": "https://localhost:8080/"
        },
        "id": "VlvU3Wt7cFbd",
        "outputId": "5dea0a1c-1ea9-4453-a2ba-82cb08d2d805"
      },
      "source": [
        "len(A)"
      ],
      "execution_count": 22,
      "outputs": [
        {
          "output_type": "execute_result",
          "data": {
            "text/plain": [
              "2"
            ]
          },
          "metadata": {},
          "execution_count": 22
        }
      ]
    },
    {
      "cell_type": "code",
      "metadata": {
        "colab": {
          "base_uri": "https://localhost:8080/"
        },
        "id": "3l-XdLw-dGUg",
        "outputId": "5673227d-c44d-45b1-8e2f-7c3592b9242e"
      },
      "source": [
        "tf.reduce_sum(A, axis=1)"
      ],
      "execution_count": 25,
      "outputs": [
        {
          "output_type": "execute_result",
          "data": {
            "text/plain": [
              "<tf.Tensor: shape=(2, 4), dtype=int32, numpy=\n",
              "array([[12, 15, 18, 21],\n",
              "       [48, 51, 54, 57]], dtype=int32)>"
            ]
          },
          "metadata": {},
          "execution_count": 25
        }
      ]
    },
    {
      "cell_type": "code",
      "metadata": {
        "colab": {
          "base_uri": "https://localhost:8080/"
        },
        "id": "5HR8diMKedTW",
        "outputId": "de69a0f2-96e3-4160-dde0-b9d343584757"
      },
      "source": [
        "tf.reduce_sum(A, axis = 2)"
      ],
      "execution_count": 27,
      "outputs": [
        {
          "output_type": "execute_result",
          "data": {
            "text/plain": [
              "<tf.Tensor: shape=(2, 3), dtype=int32, numpy=\n",
              "array([[ 6, 22, 38],\n",
              "       [54, 70, 86]], dtype=int32)>"
            ]
          },
          "metadata": {},
          "execution_count": 27
        }
      ]
    },
    {
      "cell_type": "code",
      "metadata": {
        "colab": {
          "base_uri": "https://localhost:8080/"
        },
        "id": "9tKguFpceoRa",
        "outputId": "f544e3f0-9309-4b53-a8ae-19aa1f60c16c"
      },
      "source": [
        "tf.reduce_sum(A,axis=0)"
      ],
      "execution_count": 34,
      "outputs": [
        {
          "output_type": "execute_result",
          "data": {
            "text/plain": [
              "<tf.Tensor: shape=(3, 4), dtype=int32, numpy=\n",
              "array([[12, 14, 16, 18],\n",
              "       [20, 22, 24, 26],\n",
              "       [28, 30, 32, 34]], dtype=int32)>"
            ]
          },
          "metadata": {},
          "execution_count": 34
        }
      ]
    },
    {
      "cell_type": "code",
      "metadata": {
        "colab": {
          "base_uri": "https://localhost:8080/"
        },
        "id": "r-v3C1igoN79",
        "outputId": "9af30ab0-1ecd-4370-f91b-85278611191f"
      },
      "source": [
        "B = tf.constant([[1,0,0,0],[0,2,0,0],[0,0,3,0],[0,0,0,4]])\n",
        "B"
      ],
      "execution_count": 35,
      "outputs": [
        {
          "output_type": "execute_result",
          "data": {
            "text/plain": [
              "<tf.Tensor: shape=(4, 4), dtype=int32, numpy=\n",
              "array([[1, 0, 0, 0],\n",
              "       [0, 2, 0, 0],\n",
              "       [0, 0, 3, 0],\n",
              "       [0, 0, 0, 4]], dtype=int32)>"
            ]
          },
          "metadata": {},
          "execution_count": 35
        }
      ]
    },
    {
      "cell_type": "code",
      "metadata": {
        "colab": {
          "base_uri": "https://localhost:8080/"
        },
        "id": "oMsz_QrroYtn",
        "outputId": "5c757ecc-28b9-4a84-ec05-c8ad6254a7cc"
      },
      "source": [
        "tf.linalg.diag_part(B)"
      ],
      "execution_count": 37,
      "outputs": [
        {
          "output_type": "execute_result",
          "data": {
            "text/plain": [
              "<tf.Tensor: shape=(4,), dtype=int32, numpy=array([1, 2, 3, 4], dtype=int32)>"
            ]
          },
          "metadata": {},
          "execution_count": 37
        }
      ]
    }
  ]
}