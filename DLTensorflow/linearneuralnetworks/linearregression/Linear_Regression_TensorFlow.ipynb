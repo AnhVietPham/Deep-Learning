{
  "nbformat": 4,
  "nbformat_minor": 0,
  "metadata": {
    "colab": {
      "name": "Linear-Regression-TensorFlow.ipynb",
      "provenance": [],
      "authorship_tag": "ABX9TyOaIkEL1vxXwrNye6Eoy39Q",
      "include_colab_link": true
    },
    "kernelspec": {
      "name": "python3",
      "display_name": "Python 3"
    },
    "language_info": {
      "name": "python"
    }
  },
  "cells": [
    {
      "cell_type": "markdown",
      "metadata": {
        "id": "view-in-github",
        "colab_type": "text"
      },
      "source": [
        "<a href=\"https://colab.research.google.com/github/AnhVietPham/Deep-Learning/blob/main/DLTensorflow/linearneuralnetworks/linearregression/Linear_Regression_TensorFlow.ipynb\" target=\"_parent\"><img src=\"https://colab.research.google.com/assets/colab-badge.svg\" alt=\"Open In Colab\"/></a>"
      ]
    },
    {
      "cell_type": "code",
      "metadata": {
        "id": "0du-Xk7xA8rT"
      },
      "source": [
        "!pip install d2l"
      ],
      "execution_count": null,
      "outputs": []
    },
    {
      "cell_type": "code",
      "metadata": {
        "id": "UeIjZ5zaBAVq"
      },
      "source": [
        "import numpy as np\n",
        "import tensorflow as tf\n",
        "from d2l import tensorflow as d2l"
      ],
      "execution_count": 2,
      "outputs": []
    },
    {
      "cell_type": "code",
      "metadata": {
        "id": "dhebiE4mBMBZ"
      },
      "source": [
        "true_w = tf.constant([2, -3.4])\n",
        "true_b = 4.2\n",
        "features, labels = d2l.synthetic_data(true_w, true_b, 1000)"
      ],
      "execution_count": 3,
      "outputs": []
    },
    {
      "cell_type": "code",
      "metadata": {
        "id": "QkwZ4FekBNxN"
      },
      "source": [
        "def load_array(data_arrays, batch_size, is_train=True):\n",
        "  dataset = tf.data.Dataset.from_tensor_slices(data_arrays)\n",
        "  if is_train:\n",
        "    dataset = dataset.shuffle(buffer_size = 1000)\n",
        "  dataset = dataset.batch(batch_size)\n",
        "  return dataset\n",
        "\n",
        "batch_size = 10\n",
        "data_iter = load_array((features, labels), batch_size)"
      ],
      "execution_count": 4,
      "outputs": []
    },
    {
      "cell_type": "code",
      "metadata": {
        "colab": {
          "base_uri": "https://localhost:8080/"
        },
        "id": "ePHJluGgCN1W",
        "outputId": "0e264edb-38dd-417d-c684-c2b434a966e8"
      },
      "source": [
        "next(iter(data_iter))"
      ],
      "execution_count": 5,
      "outputs": [
        {
          "output_type": "execute_result",
          "data": {
            "text/plain": [
              "(<tf.Tensor: shape=(10, 2), dtype=float32, numpy=\n",
              " array([[ 0.20285213, -0.09903245],\n",
              "        [-1.0532751 ,  0.04103574],\n",
              "        [-0.3767706 ,  1.5705936 ],\n",
              "        [-1.0242809 ,  0.48947737],\n",
              "        [-0.10752826,  0.20945074],\n",
              "        [-2.701553  , -0.280134  ],\n",
              "        [-0.34453183,  1.5977912 ],\n",
              "        [ 0.29432508,  1.0109179 ],\n",
              "        [ 2.4531472 ,  0.2337036 ],\n",
              "        [-0.81349134, -0.9338567 ]], dtype=float32)>,\n",
              " <tf.Tensor: shape=(10, 1), dtype=float32, numpy=\n",
              " array([[ 4.953564 ],\n",
              "        [ 1.9482702],\n",
              "        [-1.8889053],\n",
              "        [ 0.4717918],\n",
              "        [ 3.264578 ],\n",
              "        [-0.2562771],\n",
              "        [-1.9257773],\n",
              "        [ 1.3715981],\n",
              "        [ 8.303971 ],\n",
              "        [ 5.7395706]], dtype=float32)>)"
            ]
          },
          "metadata": {},
          "execution_count": 5
        }
      ]
    },
    {
      "cell_type": "code",
      "metadata": {
        "id": "MuoFCX6iD_Qe"
      },
      "source": [
        "initializer = tf.initializers.RandomNormal(stddev=0.01)\n",
        "net = tf.keras.Sequential()\n",
        "net.add(tf.keras.layers.Dense(1, kernel_initializer=initializer))"
      ],
      "execution_count": 9,
      "outputs": []
    },
    {
      "cell_type": "code",
      "metadata": {
        "id": "huWrP_1-FYf_"
      },
      "source": [
        "loss = tf.keras.losses.MeanSquaredError()"
      ],
      "execution_count": 10,
      "outputs": []
    },
    {
      "cell_type": "code",
      "metadata": {
        "id": "ArcHWF7FFdKw"
      },
      "source": [
        "trainer = tf.keras.optimizers.SGD(learning_rate=0.03)"
      ],
      "execution_count": 11,
      "outputs": []
    },
    {
      "cell_type": "code",
      "metadata": {
        "colab": {
          "base_uri": "https://localhost:8080/"
        },
        "id": "L2pktD_8FnSY",
        "outputId": "a86c237d-023e-4efd-f27a-7fbaba9af519"
      },
      "source": [
        "num_epochs = 3\n",
        "for epoch in range(num_epochs):\n",
        "  for X, y in data_iter:\n",
        "    with tf.GradientTape() as tape:\n",
        "      l = loss(net(X, training = True), y)\n",
        "    grads = tape.gradient(l, net.trainable_variables)\n",
        "    trainer.apply_gradients(zip(grads, net.trainable_variables))\n",
        "  l = loss(net(features), labels)\n",
        "  print(f'Epoch {epoch + 1}, loss {l:f}')"
      ],
      "execution_count": 13,
      "outputs": [
        {
          "output_type": "stream",
          "name": "stdout",
          "text": [
            "Epoch 1, loss 0.000160\n",
            "Epoch 2, loss 0.000095\n",
            "Epoch 3, loss 0.000095\n"
          ]
        }
      ]
    },
    {
      "cell_type": "code",
      "metadata": {
        "colab": {
          "base_uri": "https://localhost:8080/"
        },
        "id": "OXGuyBlNHCEJ",
        "outputId": "f5463234-45c5-49cb-e257-1902b6a11245"
      },
      "source": [
        "net.get_weights()"
      ],
      "execution_count": 15,
      "outputs": [
        {
          "output_type": "execute_result",
          "data": {
            "text/plain": [
              "[array([[ 2.000217 ],\n",
              "        [-3.4002903]], dtype=float32), array([4.200341], dtype=float32)]"
            ]
          },
          "metadata": {},
          "execution_count": 15
        }
      ]
    },
    {
      "cell_type": "code",
      "metadata": {
        "colab": {
          "base_uri": "https://localhost:8080/"
        },
        "id": "0_OjDnU0G1zK",
        "outputId": "9303c59b-6e56-445a-f841-38dbc0c89538"
      },
      "source": [
        "print(f'True_w: {true_w}\\n')\n",
        "print(f'Predicted_w: {net.get_weights()[0]}\\n')\n",
        "print(f'True_b: {true_b}\\n')\n",
        "print(f'Predicted_b: {net.get_weights()[1]}')"
      ],
      "execution_count": 17,
      "outputs": [
        {
          "output_type": "stream",
          "name": "stdout",
          "text": [
            "True_w: [ 2.  -3.4]\n",
            "\n",
            "Predicted_w: [[ 2.000217 ]\n",
            " [-3.4002903]]\n",
            "\n",
            "True_b: 4.2\n",
            "\n",
            "Predicted_b: [4.200341]\n"
          ]
        }
      ]
    }
  ]
}