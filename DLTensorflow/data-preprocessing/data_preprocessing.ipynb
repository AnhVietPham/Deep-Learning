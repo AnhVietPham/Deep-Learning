{
  "nbformat": 4,
  "nbformat_minor": 0,
  "metadata": {
    "colab": {
      "name": "data-preprocessing.ipynb",
      "provenance": [],
      "authorship_tag": "ABX9TyP3tSshH4A43lqYcgaCdqXi",
      "include_colab_link": true
    },
    "kernelspec": {
      "name": "python3",
      "display_name": "Python 3"
    },
    "language_info": {
      "name": "python"
    }
  },
  "cells": [
    {
      "cell_type": "markdown",
      "metadata": {
        "id": "view-in-github",
        "colab_type": "text"
      },
      "source": [
        "<a href=\"https://colab.research.google.com/github/AnhVietPham/Deep-Learning/blob/main/DLTensorflow/data-preprocessing/data_preprocessing.ipynb\" target=\"_parent\"><img src=\"https://colab.research.google.com/assets/colab-badge.svg\" alt=\"Open In Colab\"/></a>"
      ]
    },
    {
      "cell_type": "code",
      "metadata": {
        "id": "kz_xcyq18ijl"
      },
      "source": [
        "import os\n",
        "import pandas as pd\n",
        "import tensorflow as tf"
      ],
      "execution_count": 17,
      "outputs": []
    },
    {
      "cell_type": "code",
      "metadata": {
        "id": "X3AKe69x8y5t"
      },
      "source": [
        "os.makedirs(os.path.join(\"content\", 'data'), exist_ok=True)\n",
        "data_file = os.path.join(\"content\", 'data', 'house_tiny.csv')\n",
        "with open(data_file, 'w') as f:\n",
        "  f.write('NumRooms,Alley,Price\\n')\n",
        "  f.write('NA,Pave,127500\\n')\n",
        "  f.write('2,NA,106000\\n')\n",
        "  f.write('4,NA,178100\\n')\n",
        "  f.write('NA,NA,140000\\n')"
      ],
      "execution_count": 5,
      "outputs": []
    },
    {
      "cell_type": "code",
      "metadata": {
        "colab": {
          "base_uri": "https://localhost:8080/",
          "height": 173
        },
        "id": "b8XcKwJ6-Fa_",
        "outputId": "324d1974-389a-455e-b0fd-eaf383d26473"
      },
      "source": [
        "data = pd.read_csv(data_file)\n",
        "data"
      ],
      "execution_count": 9,
      "outputs": [
        {
          "output_type": "execute_result",
          "data": {
            "text/html": [
              "<div>\n",
              "<style scoped>\n",
              "    .dataframe tbody tr th:only-of-type {\n",
              "        vertical-align: middle;\n",
              "    }\n",
              "\n",
              "    .dataframe tbody tr th {\n",
              "        vertical-align: top;\n",
              "    }\n",
              "\n",
              "    .dataframe thead th {\n",
              "        text-align: right;\n",
              "    }\n",
              "</style>\n",
              "<table border=\"1\" class=\"dataframe\">\n",
              "  <thead>\n",
              "    <tr style=\"text-align: right;\">\n",
              "      <th></th>\n",
              "      <th>NumRooms</th>\n",
              "      <th>Alley</th>\n",
              "      <th>Price</th>\n",
              "    </tr>\n",
              "  </thead>\n",
              "  <tbody>\n",
              "    <tr>\n",
              "      <th>0</th>\n",
              "      <td>NaN</td>\n",
              "      <td>Pave</td>\n",
              "      <td>127500</td>\n",
              "    </tr>\n",
              "    <tr>\n",
              "      <th>1</th>\n",
              "      <td>2.0</td>\n",
              "      <td>NaN</td>\n",
              "      <td>106000</td>\n",
              "    </tr>\n",
              "    <tr>\n",
              "      <th>2</th>\n",
              "      <td>4.0</td>\n",
              "      <td>NaN</td>\n",
              "      <td>178100</td>\n",
              "    </tr>\n",
              "    <tr>\n",
              "      <th>3</th>\n",
              "      <td>NaN</td>\n",
              "      <td>NaN</td>\n",
              "      <td>140000</td>\n",
              "    </tr>\n",
              "  </tbody>\n",
              "</table>\n",
              "</div>"
            ],
            "text/plain": [
              "   NumRooms Alley   Price\n",
              "0       NaN  Pave  127500\n",
              "1       2.0   NaN  106000\n",
              "2       4.0   NaN  178100\n",
              "3       NaN   NaN  140000"
            ]
          },
          "metadata": {},
          "execution_count": 9
        }
      ]
    },
    {
      "cell_type": "code",
      "metadata": {
        "colab": {
          "base_uri": "https://localhost:8080/"
        },
        "id": "ip9e9T0r-rGF",
        "outputId": "0fb1987f-1e88-4e3a-efd9-a4121ead97d9"
      },
      "source": [
        "inputs, outputs = data.iloc[:, 0:2], data.iloc[:, 2]\n",
        "inputs = inputs.fillna(inputs.mean())\n",
        "print(inputs)\n",
        "print()\n",
        "print(outputs)"
      ],
      "execution_count": 15,
      "outputs": [
        {
          "output_type": "stream",
          "name": "stdout",
          "text": [
            "   NumRooms Alley\n",
            "0       3.0  Pave\n",
            "1       2.0   NaN\n",
            "2       4.0   NaN\n",
            "3       3.0   NaN\n",
            "\n",
            "0    127500\n",
            "1    106000\n",
            "2    178100\n",
            "3    140000\n",
            "Name: Price, dtype: int64\n"
          ]
        }
      ]
    },
    {
      "cell_type": "code",
      "metadata": {
        "colab": {
          "base_uri": "https://localhost:8080/"
        },
        "id": "MJA3pO1i_tMq",
        "outputId": "e5fa6ad3-589f-4e89-da2c-0cea08b90b38"
      },
      "source": [
        "inputs = pd.get_dummies(inputs, dummy_na=True)\n",
        "print(inputs)"
      ],
      "execution_count": 16,
      "outputs": [
        {
          "output_type": "stream",
          "name": "stdout",
          "text": [
            "   NumRooms  Alley_Pave  Alley_nan\n",
            "0       3.0           1          0\n",
            "1       2.0           0          1\n",
            "2       4.0           0          1\n",
            "3       3.0           0          1\n"
          ]
        }
      ]
    },
    {
      "cell_type": "code",
      "metadata": {
        "colab": {
          "base_uri": "https://localhost:8080/"
        },
        "id": "3YTM6zppEdl3",
        "outputId": "4806d31e-5ecf-467d-98e4-06a3effdbab4"
      },
      "source": [
        "X, y = tf.constant(inputs.values), tf.constant(outputs.values)\n",
        "print(X)\n",
        "print()\n",
        "print(y)"
      ],
      "execution_count": 19,
      "outputs": [
        {
          "output_type": "stream",
          "name": "stdout",
          "text": [
            "tf.Tensor(\n",
            "[[3. 1. 0.]\n",
            " [2. 0. 1.]\n",
            " [4. 0. 1.]\n",
            " [3. 0. 1.]], shape=(4, 3), dtype=float64)\n",
            "\n",
            "tf.Tensor([127500 106000 178100 140000], shape=(4,), dtype=int64)\n"
          ]
        }
      ]
    },
    {
      "cell_type": "markdown",
      "metadata": {
        "id": "Yk8OZaxaE4cJ"
      },
      "source": [
        "# **Exercises**"
      ]
    },
    {
      "cell_type": "code",
      "metadata": {
        "id": "23xnihscE9e5"
      },
      "source": [
        "data_file_exercises = os.path.join('content','data', 'exercises.csv')\n",
        "with open(data_file_exercises, 'w') as f:\n",
        "  f.write('NumRooms,NumRestroom,NumKitchen,Price\\n')\n",
        "  f.write('2,3,2,1123123123\\n')\n",
        "  f.write('3,3,3,123123\\n')\n",
        "  f.write('NA,1,4,123123\\n')\n",
        "  f.write('9,NA,5,123123\\n')\n",
        "  f.write('NA,NA,6,1231123\\n')"
      ],
      "execution_count": 21,
      "outputs": []
    },
    {
      "cell_type": "code",
      "metadata": {
        "colab": {
          "base_uri": "https://localhost:8080/"
        },
        "id": "IQGLFdq0GSwT",
        "outputId": "63b4606f-1960-48b8-c732-d8f9fbc08cb7"
      },
      "source": [
        "data = pd.read_csv(data_file_exercises)\n",
        "print(data)"
      ],
      "execution_count": 22,
      "outputs": [
        {
          "output_type": "stream",
          "name": "stdout",
          "text": [
            "   NumRooms  NumRestroom  NumKitchen       Price\n",
            "0       2.0          3.0           2  1123123123\n",
            "1       3.0          3.0           3      123123\n",
            "2       NaN          1.0           4      123123\n",
            "3       9.0          NaN           5      123123\n",
            "4       NaN          NaN           6     1231123\n"
          ]
        }
      ]
    },
    {
      "cell_type": "code",
      "metadata": {
        "colab": {
          "base_uri": "https://localhost:8080/",
          "height": 111
        },
        "id": "xIgGBOqVGnGZ",
        "outputId": "bf46c287-4300-4a3b-960a-bc46b9dc53ce"
      },
      "source": [
        "data.dropna()"
      ],
      "execution_count": 23,
      "outputs": [
        {
          "output_type": "execute_result",
          "data": {
            "text/html": [
              "<div>\n",
              "<style scoped>\n",
              "    .dataframe tbody tr th:only-of-type {\n",
              "        vertical-align: middle;\n",
              "    }\n",
              "\n",
              "    .dataframe tbody tr th {\n",
              "        vertical-align: top;\n",
              "    }\n",
              "\n",
              "    .dataframe thead th {\n",
              "        text-align: right;\n",
              "    }\n",
              "</style>\n",
              "<table border=\"1\" class=\"dataframe\">\n",
              "  <thead>\n",
              "    <tr style=\"text-align: right;\">\n",
              "      <th></th>\n",
              "      <th>NumRooms</th>\n",
              "      <th>NumRestroom</th>\n",
              "      <th>NumKitchen</th>\n",
              "      <th>Price</th>\n",
              "    </tr>\n",
              "  </thead>\n",
              "  <tbody>\n",
              "    <tr>\n",
              "      <th>0</th>\n",
              "      <td>2.0</td>\n",
              "      <td>3.0</td>\n",
              "      <td>2</td>\n",
              "      <td>1123123123</td>\n",
              "    </tr>\n",
              "    <tr>\n",
              "      <th>1</th>\n",
              "      <td>3.0</td>\n",
              "      <td>3.0</td>\n",
              "      <td>3</td>\n",
              "      <td>123123</td>\n",
              "    </tr>\n",
              "  </tbody>\n",
              "</table>\n",
              "</div>"
            ],
            "text/plain": [
              "   NumRooms  NumRestroom  NumKitchen       Price\n",
              "0       2.0          3.0           2  1123123123\n",
              "1       3.0          3.0           3      123123"
            ]
          },
          "metadata": {},
          "execution_count": 23
        }
      ]
    },
    {
      "cell_type": "code",
      "metadata": {
        "colab": {
          "base_uri": "https://localhost:8080/"
        },
        "id": "pnqseuu0GvRt",
        "outputId": "929e123a-ccf2-4fe5-c017-f34e31882e29"
      },
      "source": [
        "inputs, outputs = data.iloc[:, 0:3], data.iloc[:, 3]\n",
        "print(inputs)\n",
        "print()\n",
        "print(outputs)"
      ],
      "execution_count": 25,
      "outputs": [
        {
          "output_type": "stream",
          "name": "stdout",
          "text": [
            "   NumRooms  NumRestroom  NumKitchen\n",
            "0       2.0          3.0           2\n",
            "1       3.0          3.0           3\n",
            "2       NaN          1.0           4\n",
            "3       9.0          NaN           5\n",
            "4       NaN          NaN           6\n",
            "\n",
            "0    1123123123\n",
            "1        123123\n",
            "2        123123\n",
            "3        123123\n",
            "4       1231123\n",
            "Name: Price, dtype: int64\n"
          ]
        }
      ]
    },
    {
      "cell_type": "code",
      "metadata": {
        "colab": {
          "base_uri": "https://localhost:8080/"
        },
        "id": "RE00dhiuHJtS",
        "outputId": "70ea6d42-d0f5-4957-a0b7-5eaa55706696"
      },
      "source": [
        "X, y = tf.constant(inputs.values), tf.constant(outputs.values)\n",
        "print(X)\n",
        "print()\n",
        "print(y)"
      ],
      "execution_count": 26,
      "outputs": [
        {
          "output_type": "stream",
          "name": "stdout",
          "text": [
            "tf.Tensor(\n",
            "[[ 2.  3.  2.]\n",
            " [ 3.  3.  3.]\n",
            " [nan  1.  4.]\n",
            " [ 9. nan  5.]\n",
            " [nan nan  6.]], shape=(5, 3), dtype=float64)\n",
            "\n",
            "tf.Tensor([1123123123     123123     123123     123123    1231123], shape=(5,), dtype=int64)\n"
          ]
        }
      ]
    }
  ]
}