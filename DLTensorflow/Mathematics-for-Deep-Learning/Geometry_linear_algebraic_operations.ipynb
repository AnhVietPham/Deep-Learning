{
  "nbformat": 4,
  "nbformat_minor": 0,
  "metadata": {
    "colab": {
      "name": "Geometry-linear-algebraic-operations.ipynb",
      "provenance": [],
      "authorship_tag": "ABX9TyNJ/EEzQWqJKXsJ+ExjyzET",
      "include_colab_link": true
    },
    "kernelspec": {
      "name": "python3",
      "display_name": "Python 3"
    },
    "language_info": {
      "name": "python"
    }
  },
  "cells": [
    {
      "cell_type": "markdown",
      "metadata": {
        "id": "view-in-github",
        "colab_type": "text"
      },
      "source": [
        "<a href=\"https://colab.research.google.com/github/AnhVietPham/Deep-Learning/blob/main/DLTensorflow/Mathematics-for-Deep-Learning/Geometry_linear_algebraic_operations.ipynb\" target=\"_parent\"><img src=\"https://colab.research.google.com/assets/colab-badge.svg\" alt=\"Open In Colab\"/></a>"
      ]
    },
    {
      "cell_type": "code",
      "source": [
        "!pip install d2l==0.17.0"
      ],
      "metadata": {
        "colab": {
          "base_uri": "https://localhost:8080/"
        },
        "id": "KWuaWcz2J8k8",
        "outputId": "431c3d24-e0fb-4316-91d5-4ce131924a03"
      },
      "execution_count": null,
      "outputs": [
        {
          "output_type": "stream",
          "name": "stdout",
          "text": [
            "Installing collected packages: d2l\n",
            "Successfully installed d2l-0.17.0\n"
          ]
        }
      ]
    },
    {
      "cell_type": "code",
      "execution_count": null,
      "metadata": {
        "id": "xIHwuRkyx4Fc"
      },
      "outputs": [],
      "source": [
        "import tensorflow as tf\n",
        "from IPython import display\n",
        "from d2l import tensorflow as d2l"
      ]
    },
    {
      "cell_type": "markdown",
      "source": [
        "# **Dot Products and Angles**"
      ],
      "metadata": {
        "id": "l56Pbnm6KyUu"
      }
    },
    {
      "cell_type": "code",
      "source": [
        "def angle(v, w):\n",
        "  return tf.acos(tf.tensordot(v, w, axes=1)) / (tf.norm(v) * tf.norm(w))\n",
        "\n",
        "angle(tf.constant([0, 1, 2], dtype=tf.float32), tf.constant([2.0, 3, 4]))"
      ],
      "metadata": {
        "colab": {
          "base_uri": "https://localhost:8080/"
        },
        "id": "QL5QFRd6J_0X",
        "outputId": "13c43a14-1133-4fbe-8a90-816b8e7fe8f2"
      },
      "execution_count": null,
      "outputs": [
        {
          "output_type": "execute_result",
          "data": {
            "text/plain": [
              "<tf.Tensor: shape=(), dtype=float32, numpy=nan>"
            ]
          },
          "metadata": {},
          "execution_count": 4
        }
      ]
    },
    {
      "cell_type": "code",
      "source": [
        "a = tf.constant([0, 1, 2], dtype=tf.float32)\n",
        "b = tf.constant([2.0, 3, 4])"
      ],
      "metadata": {
        "id": "MqiW85UyK2zS"
      },
      "execution_count": null,
      "outputs": []
    },
    {
      "cell_type": "code",
      "source": [
        "print(a)\n",
        "print(b)"
      ],
      "metadata": {
        "colab": {
          "base_uri": "https://localhost:8080/"
        },
        "id": "QMaCwdS8LEIP",
        "outputId": "76af99b4-b4d7-40c8-91b3-6216243a1434"
      },
      "execution_count": null,
      "outputs": [
        {
          "output_type": "stream",
          "name": "stdout",
          "text": [
            "tf.Tensor([0. 1. 2.], shape=(3,), dtype=float32)\n",
            "tf.Tensor([2. 3. 4.], shape=(3,), dtype=float32)\n"
          ]
        }
      ]
    },
    {
      "cell_type": "code",
      "source": [
        "tf.tensordot(a, b, axes=1)"
      ],
      "metadata": {
        "colab": {
          "base_uri": "https://localhost:8080/"
        },
        "id": "7lILyJj3LT8o",
        "outputId": "421ca0ab-4f8d-437b-8da9-646a398cbb99"
      },
      "execution_count": null,
      "outputs": [
        {
          "output_type": "execute_result",
          "data": {
            "text/plain": [
              "<tf.Tensor: shape=(), dtype=float32, numpy=11.0>"
            ]
          },
          "metadata": {},
          "execution_count": 16
        }
      ]
    },
    {
      "cell_type": "code",
      "source": [
        "tf.tensordot(a, b, axes=0)"
      ],
      "metadata": {
        "colab": {
          "base_uri": "https://localhost:8080/"
        },
        "id": "VtmwXr8YMKCI",
        "outputId": "fdf4a292-aaad-4393-b5c6-6019f422eefb"
      },
      "execution_count": null,
      "outputs": [
        {
          "output_type": "execute_result",
          "data": {
            "text/plain": [
              "<tf.Tensor: shape=(3, 3), dtype=float32, numpy=\n",
              "array([[0., 0., 0.],\n",
              "       [2., 3., 4.],\n",
              "       [4., 6., 8.]], dtype=float32)>"
            ]
          },
          "metadata": {},
          "execution_count": 17
        }
      ]
    },
    {
      "cell_type": "markdown",
      "source": [
        "# **Hyperplanes**"
      ],
      "metadata": {
        "id": "L2FLdKl1OQWP"
      }
    },
    {
      "cell_type": "code",
      "source": [
        "((train_images, train_labels), (test_images, test_labels)) = tf.keras.datasets.fashion_mnist.load_data()"
      ],
      "metadata": {
        "colab": {
          "base_uri": "https://localhost:8080/"
        },
        "id": "qR1FJo2VObf-",
        "outputId": "8ff5b548-d45b-442e-adcc-f073ca4cfac4"
      },
      "execution_count": null,
      "outputs": [
        {
          "output_type": "stream",
          "name": "stdout",
          "text": [
            "Downloading data from https://storage.googleapis.com/tensorflow/tf-keras-datasets/train-labels-idx1-ubyte.gz\n",
            "32768/29515 [=================================] - 0s 0us/step\n",
            "40960/29515 [=========================================] - 0s 0us/step\n",
            "Downloading data from https://storage.googleapis.com/tensorflow/tf-keras-datasets/train-images-idx3-ubyte.gz\n",
            "26427392/26421880 [==============================] - 0s 0us/step\n",
            "26435584/26421880 [==============================] - 0s 0us/step\n",
            "Downloading data from https://storage.googleapis.com/tensorflow/tf-keras-datasets/t10k-labels-idx1-ubyte.gz\n",
            "16384/5148 [===============================================================================================] - 0s 0us/step\n",
            "Downloading data from https://storage.googleapis.com/tensorflow/tf-keras-datasets/t10k-images-idx3-ubyte.gz\n",
            "4423680/4422102 [==============================] - 0s 0us/step\n",
            "4431872/4422102 [==============================] - 0s 0us/step\n"
          ]
        }
      ]
    },
    {
      "cell_type": "code",
      "source": [
        "for i, label in enumerate(train_labels):\n",
        "  if i == 10:\n",
        "    break\n",
        "  print(i)\n",
        "  print(label)"
      ],
      "metadata": {
        "colab": {
          "base_uri": "https://localhost:8080/"
        },
        "id": "3DqDBAL0On21",
        "outputId": "daecddf6-f87e-46e8-a459-6fd07c8ccb28"
      },
      "execution_count": null,
      "outputs": [
        {
          "output_type": "stream",
          "name": "stdout",
          "text": [
            "0\n",
            "9\n",
            "1\n",
            "0\n",
            "2\n",
            "0\n",
            "3\n",
            "3\n",
            "4\n",
            "0\n",
            "5\n",
            "2\n",
            "6\n",
            "7\n",
            "7\n",
            "2\n",
            "8\n",
            "5\n",
            "9\n",
            "5\n"
          ]
        }
      ]
    },
    {
      "cell_type": "code",
      "source": [
        "d2l.set_figsize()\n",
        "d2l.plt.imshow(tf.reshape(train_images[9] * 256, (28, 28)), cmap='Greys')\n",
        "d2l.plt.show()"
      ],
      "metadata": {
        "colab": {
          "base_uri": "https://localhost:8080/",
          "height": 246
        },
        "id": "S-bQ9El_PaUg",
        "outputId": "c9ffac0e-cd50-4718-b6d4-9f5ec619a57a"
      },
      "execution_count": null,
      "outputs": [
        {
          "output_type": "display_data",
          "data": {
            "text/plain": [
              "<Figure size 252x180 with 1 Axes>"
            ],
            "image/svg+xml": "<?xml version=\"1.0\" encoding=\"utf-8\" standalone=\"no\"?>\n<!DOCTYPE svg PUBLIC \"-//W3C//DTD SVG 1.1//EN\"\n  \"http://www.w3.org/Graphics/SVG/1.1/DTD/svg11.dtd\">\n<!-- Created with matplotlib (https://matplotlib.org/) -->\n<svg height=\"168.350558pt\" version=\"1.1\" viewBox=\"0 0 170.025 168.350558\" width=\"170.025pt\" xmlns=\"http://www.w3.org/2000/svg\" xmlns:xlink=\"http://www.w3.org/1999/xlink\">\n <defs>\n  <style type=\"text/css\">\n*{stroke-linecap:butt;stroke-linejoin:round;}\n  </style>\n </defs>\n <g id=\"figure_1\">\n  <g id=\"patch_1\">\n   <path d=\"M 0 168.350558 \nL 170.025 168.350558 \nL 170.025 0 \nL 0 0 \nz\n\" style=\"fill:none;\"/>\n  </g>\n  <g id=\"axes_1\">\n   <g id=\"patch_2\">\n    <path d=\"M 26.925 144.472433 \nL 162.825 144.472433 \nL 162.825 8.572433 \nL 26.925 8.572433 \nz\n\" style=\"fill:#ffffff;\"/>\n   </g>\n   <g clip-path=\"url(#p189344a976)\">\n    <image height=\"136\" id=\"imagee7c11bcec3\" transform=\"scale(1 -1)translate(0 -136)\" width=\"136\" x=\"26.925\" xlink:href=\"data:image/png;base64,\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\" y=\"-8.472433\"/>\n   </g>\n   <g id=\"matplotlib.axis_1\">\n    <g id=\"xtick_1\">\n     <g id=\"line2d_1\">\n      <defs>\n       <path d=\"M 0 0 \nL 0 3.5 \n\" id=\"md7d9f863f7\" style=\"stroke:#000000;stroke-width:0.8;\"/>\n      </defs>\n      <g>\n       <use style=\"stroke:#000000;stroke-width:0.8;\" x=\"29.351786\" xlink:href=\"#md7d9f863f7\" y=\"144.472433\"/>\n      </g>\n     </g>\n     <g id=\"text_1\">\n      <!-- 0 -->\n      <defs>\n       <path d=\"M 31.78125 66.40625 \nQ 24.171875 66.40625 20.328125 58.90625 \nQ 16.5 51.421875 16.5 36.375 \nQ 16.5 21.390625 20.328125 13.890625 \nQ 24.171875 6.390625 31.78125 6.390625 \nQ 39.453125 6.390625 43.28125 13.890625 \nQ 47.125 21.390625 47.125 36.375 \nQ 47.125 51.421875 43.28125 58.90625 \nQ 39.453125 66.40625 31.78125 66.40625 \nz\nM 31.78125 74.21875 \nQ 44.046875 74.21875 50.515625 64.515625 \nQ 56.984375 54.828125 56.984375 36.375 \nQ 56.984375 17.96875 50.515625 8.265625 \nQ 44.046875 -1.421875 31.78125 -1.421875 \nQ 19.53125 -1.421875 13.0625 8.265625 \nQ 6.59375 17.96875 6.59375 36.375 \nQ 6.59375 54.828125 13.0625 64.515625 \nQ 19.53125 74.21875 31.78125 74.21875 \nz\n\" id=\"DejaVuSans-48\"/>\n      </defs>\n      <g transform=\"translate(26.170536 159.070871)scale(0.1 -0.1)\">\n       <use xlink:href=\"#DejaVuSans-48\"/>\n      </g>\n     </g>\n    </g>\n    <g id=\"xtick_2\">\n     <g id=\"line2d_2\">\n      <g>\n       <use style=\"stroke:#000000;stroke-width:0.8;\" x=\"77.8875\" xlink:href=\"#md7d9f863f7\" y=\"144.472433\"/>\n      </g>\n     </g>\n     <g id=\"text_2\">\n      <!-- 10 -->\n      <defs>\n       <path d=\"M 12.40625 8.296875 \nL 28.515625 8.296875 \nL 28.515625 63.921875 \nL 10.984375 60.40625 \nL 10.984375 69.390625 \nL 28.421875 72.90625 \nL 38.28125 72.90625 \nL 38.28125 8.296875 \nL 54.390625 8.296875 \nL 54.390625 0 \nL 12.40625 0 \nz\n\" id=\"DejaVuSans-49\"/>\n      </defs>\n      <g transform=\"translate(71.525 159.070871)scale(0.1 -0.1)\">\n       <use xlink:href=\"#DejaVuSans-49\"/>\n       <use x=\"63.623047\" xlink:href=\"#DejaVuSans-48\"/>\n      </g>\n     </g>\n    </g>\n    <g id=\"xtick_3\">\n     <g id=\"line2d_3\">\n      <g>\n       <use style=\"stroke:#000000;stroke-width:0.8;\" x=\"126.423214\" xlink:href=\"#md7d9f863f7\" y=\"144.472433\"/>\n      </g>\n     </g>\n     <g id=\"text_3\">\n      <!-- 20 -->\n      <defs>\n       <path d=\"M 19.1875 8.296875 \nL 53.609375 8.296875 \nL 53.609375 0 \nL 7.328125 0 \nL 7.328125 8.296875 \nQ 12.9375 14.109375 22.625 23.890625 \nQ 32.328125 33.6875 34.8125 36.53125 \nQ 39.546875 41.84375 41.421875 45.53125 \nQ 43.3125 49.21875 43.3125 52.78125 \nQ 43.3125 58.59375 39.234375 62.25 \nQ 35.15625 65.921875 28.609375 65.921875 \nQ 23.96875 65.921875 18.8125 64.3125 \nQ 13.671875 62.703125 7.8125 59.421875 \nL 7.8125 69.390625 \nQ 13.765625 71.78125 18.9375 73 \nQ 24.125 74.21875 28.421875 74.21875 \nQ 39.75 74.21875 46.484375 68.546875 \nQ 53.21875 62.890625 53.21875 53.421875 \nQ 53.21875 48.921875 51.53125 44.890625 \nQ 49.859375 40.875 45.40625 35.40625 \nQ 44.1875 33.984375 37.640625 27.21875 \nQ 31.109375 20.453125 19.1875 8.296875 \nz\n\" id=\"DejaVuSans-50\"/>\n      </defs>\n      <g transform=\"translate(120.060714 159.070871)scale(0.1 -0.1)\">\n       <use xlink:href=\"#DejaVuSans-50\"/>\n       <use x=\"63.623047\" xlink:href=\"#DejaVuSans-48\"/>\n      </g>\n     </g>\n    </g>\n   </g>\n   <g id=\"matplotlib.axis_2\">\n    <g id=\"ytick_1\">\n     <g id=\"line2d_4\">\n      <defs>\n       <path d=\"M 0 0 \nL -3.5 0 \n\" id=\"md83582225e\" style=\"stroke:#000000;stroke-width:0.8;\"/>\n      </defs>\n      <g>\n       <use style=\"stroke:#000000;stroke-width:0.8;\" x=\"26.925\" xlink:href=\"#md83582225e\" y=\"10.999219\"/>\n      </g>\n     </g>\n     <g id=\"text_4\">\n      <!-- 0 -->\n      <g transform=\"translate(13.5625 14.798437)scale(0.1 -0.1)\">\n       <use xlink:href=\"#DejaVuSans-48\"/>\n      </g>\n     </g>\n    </g>\n    <g id=\"ytick_2\">\n     <g id=\"line2d_5\">\n      <g>\n       <use style=\"stroke:#000000;stroke-width:0.8;\" x=\"26.925\" xlink:href=\"#md83582225e\" y=\"35.267076\"/>\n      </g>\n     </g>\n     <g id=\"text_5\">\n      <!-- 5 -->\n      <defs>\n       <path d=\"M 10.796875 72.90625 \nL 49.515625 72.90625 \nL 49.515625 64.59375 \nL 19.828125 64.59375 \nL 19.828125 46.734375 \nQ 21.96875 47.46875 24.109375 47.828125 \nQ 26.265625 48.1875 28.421875 48.1875 \nQ 40.625 48.1875 47.75 41.5 \nQ 54.890625 34.8125 54.890625 23.390625 \nQ 54.890625 11.625 47.5625 5.09375 \nQ 40.234375 -1.421875 26.90625 -1.421875 \nQ 22.3125 -1.421875 17.546875 -0.640625 \nQ 12.796875 0.140625 7.71875 1.703125 \nL 7.71875 11.625 \nQ 12.109375 9.234375 16.796875 8.0625 \nQ 21.484375 6.890625 26.703125 6.890625 \nQ 35.15625 6.890625 40.078125 11.328125 \nQ 45.015625 15.765625 45.015625 23.390625 \nQ 45.015625 31 40.078125 35.4375 \nQ 35.15625 39.890625 26.703125 39.890625 \nQ 22.75 39.890625 18.8125 39.015625 \nQ 14.890625 38.140625 10.796875 36.28125 \nz\n\" id=\"DejaVuSans-53\"/>\n      </defs>\n      <g transform=\"translate(13.5625 39.066295)scale(0.1 -0.1)\">\n       <use xlink:href=\"#DejaVuSans-53\"/>\n      </g>\n     </g>\n    </g>\n    <g id=\"ytick_3\">\n     <g id=\"line2d_6\">\n      <g>\n       <use style=\"stroke:#000000;stroke-width:0.8;\" x=\"26.925\" xlink:href=\"#md83582225e\" y=\"59.534933\"/>\n      </g>\n     </g>\n     <g id=\"text_6\">\n      <!-- 10 -->\n      <g transform=\"translate(7.2 63.334152)scale(0.1 -0.1)\">\n       <use xlink:href=\"#DejaVuSans-49\"/>\n       <use x=\"63.623047\" xlink:href=\"#DejaVuSans-48\"/>\n      </g>\n     </g>\n    </g>\n    <g id=\"ytick_4\">\n     <g id=\"line2d_7\">\n      <g>\n       <use style=\"stroke:#000000;stroke-width:0.8;\" x=\"26.925\" xlink:href=\"#md83582225e\" y=\"83.80279\"/>\n      </g>\n     </g>\n     <g id=\"text_7\">\n      <!-- 15 -->\n      <g transform=\"translate(7.2 87.602009)scale(0.1 -0.1)\">\n       <use xlink:href=\"#DejaVuSans-49\"/>\n       <use x=\"63.623047\" xlink:href=\"#DejaVuSans-53\"/>\n      </g>\n     </g>\n    </g>\n    <g id=\"ytick_5\">\n     <g id=\"line2d_8\">\n      <g>\n       <use style=\"stroke:#000000;stroke-width:0.8;\" x=\"26.925\" xlink:href=\"#md83582225e\" y=\"108.070647\"/>\n      </g>\n     </g>\n     <g id=\"text_8\">\n      <!-- 20 -->\n      <g transform=\"translate(7.2 111.869866)scale(0.1 -0.1)\">\n       <use xlink:href=\"#DejaVuSans-50\"/>\n       <use x=\"63.623047\" xlink:href=\"#DejaVuSans-48\"/>\n      </g>\n     </g>\n    </g>\n    <g id=\"ytick_6\">\n     <g id=\"line2d_9\">\n      <g>\n       <use style=\"stroke:#000000;stroke-width:0.8;\" x=\"26.925\" xlink:href=\"#md83582225e\" y=\"132.338504\"/>\n      </g>\n     </g>\n     <g id=\"text_9\">\n      <!-- 25 -->\n      <g transform=\"translate(7.2 136.137723)scale(0.1 -0.1)\">\n       <use xlink:href=\"#DejaVuSans-50\"/>\n       <use x=\"63.623047\" xlink:href=\"#DejaVuSans-53\"/>\n      </g>\n     </g>\n    </g>\n   </g>\n   <g id=\"patch_3\">\n    <path d=\"M 26.925 144.472433 \nL 26.925 8.572433 \n\" style=\"fill:none;stroke:#000000;stroke-linecap:square;stroke-linejoin:miter;stroke-width:0.8;\"/>\n   </g>\n   <g id=\"patch_4\">\n    <path d=\"M 162.825 144.472433 \nL 162.825 8.572433 \n\" style=\"fill:none;stroke:#000000;stroke-linecap:square;stroke-linejoin:miter;stroke-width:0.8;\"/>\n   </g>\n   <g id=\"patch_5\">\n    <path d=\"M 26.925 144.472433 \nL 162.825 144.472433 \n\" style=\"fill:none;stroke:#000000;stroke-linecap:square;stroke-linejoin:miter;stroke-width:0.8;\"/>\n   </g>\n   <g id=\"patch_6\">\n    <path d=\"M 26.925 8.572433 \nL 162.825 8.572433 \n\" style=\"fill:none;stroke:#000000;stroke-linecap:square;stroke-linejoin:miter;stroke-width:0.8;\"/>\n   </g>\n  </g>\n </g>\n <defs>\n  <clipPath id=\"p189344a976\">\n   <rect height=\"135.9\" width=\"135.9\" x=\"26.925\" y=\"8.572433\"/>\n  </clipPath>\n </defs>\n</svg>\n"
          },
          "metadata": {
            "needs_background": "light"
          }
        }
      ]
    },
    {
      "cell_type": "code",
      "source": [
        "X_train_0 = tf.cast(tf.stack(train_images[[i for i, label in enumerate(train_labels) if label == 0]] * 256), dtype=tf.float32)\n",
        "X_train_1 = tf.cast(tf.stack(train_images[[i for i, label in enumerate(train_labels) if label == 1]] * 256), dtype=tf.float32)\n",
        "\n",
        "X_test = tf.cast(tf.stack(test_images[[i for i, label in enumerate(test_labels) if label == 0]] * 256), dtype=tf.float32)\n",
        "y_test = tf.cast(tf.stack(test_images[[i for i, label in enumerate(test_labels) if label == 1]] * 256), dtype=tf.float32)"
      ],
      "metadata": {
        "id": "A6BajKWuRWdo"
      },
      "execution_count": null,
      "outputs": []
    },
    {
      "cell_type": "code",
      "source": [
        "print(X_train_0.shape)\n",
        "print(tf.reduce_mean(X_train_0, axis = 0).shape)"
      ],
      "metadata": {
        "colab": {
          "base_uri": "https://localhost:8080/"
        },
        "id": "QK5eDEK6S6hJ",
        "outputId": "2a4e5005-4bba-45c8-968d-8519fa99d32b"
      },
      "execution_count": null,
      "outputs": [
        {
          "output_type": "stream",
          "name": "stdout",
          "text": [
            "(6000, 28, 28)\n",
            "(28, 28)\n"
          ]
        }
      ]
    },
    {
      "cell_type": "code",
      "source": [
        "ave_0 = tf.reduce_mean(X_train_0, axis = 0)\n",
        "ave_1 = tf.reduce_mean(X_train_1, axis = 0)"
      ],
      "metadata": {
        "id": "yEaCxw78TStB"
      },
      "execution_count": null,
      "outputs": []
    },
    {
      "cell_type": "code",
      "source": [
        "d2l.set_figsize()\n",
        "d2l.plt.imshow(tf.reshape(ave_0, (28, 28)), cmap='Greys')\n",
        "d2l.plt.show()"
      ],
      "metadata": {
        "id": "JQEcMM23TjT1",
        "outputId": "116b8baf-fffd-4e41-93f7-190337b64bcb",
        "colab": {
          "base_uri": "https://localhost:8080/",
          "height": 246
        }
      },
      "execution_count": null,
      "outputs": [
        {
          "output_type": "display_data",
          "data": {
            "text/plain": [
              "<Figure size 252x180 with 1 Axes>"
            ],
            "image/svg+xml": "<?xml version=\"1.0\" encoding=\"utf-8\" standalone=\"no\"?>\n<!DOCTYPE svg PUBLIC \"-//W3C//DTD SVG 1.1//EN\"\n  \"http://www.w3.org/Graphics/SVG/1.1/DTD/svg11.dtd\">\n<!-- Created with matplotlib (https://matplotlib.org/) -->\n<svg height=\"168.350558pt\" version=\"1.1\" viewBox=\"0 0 170.025 168.350558\" width=\"170.025pt\" xmlns=\"http://www.w3.org/2000/svg\" xmlns:xlink=\"http://www.w3.org/1999/xlink\">\n <defs>\n  <style type=\"text/css\">\n*{stroke-linecap:butt;stroke-linejoin:round;}\n  </style>\n </defs>\n <g id=\"figure_1\">\n  <g id=\"patch_1\">\n   <path d=\"M 0 168.350558 \nL 170.025 168.350558 \nL 170.025 0 \nL 0 0 \nz\n\" style=\"fill:none;\"/>\n  </g>\n  <g id=\"axes_1\">\n   <g id=\"patch_2\">\n    <path d=\"M 26.925 144.472433 \nL 162.825 144.472433 \nL 162.825 8.572433 \nL 26.925 8.572433 \nz\n\" style=\"fill:#ffffff;\"/>\n   </g>\n   <g clip-path=\"url(#pe05c4920f6)\">\n    <image height=\"136\" id=\"imagedb8af71c29\" transform=\"scale(1 -1)translate(0 -136)\" width=\"136\" x=\"26.925\" xlink:href=\"data:image/png;base64,\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\" y=\"-8.472433\"/>\n   </g>\n   <g id=\"matplotlib.axis_1\">\n    <g id=\"xtick_1\">\n     <g id=\"line2d_1\">\n      <defs>\n       <path d=\"M 0 0 \nL 0 3.5 \n\" id=\"m0cc0fef523\" style=\"stroke:#000000;stroke-width:0.8;\"/>\n      </defs>\n      <g>\n       <use style=\"stroke:#000000;stroke-width:0.8;\" x=\"29.351786\" xlink:href=\"#m0cc0fef523\" y=\"144.472433\"/>\n      </g>\n     </g>\n     <g id=\"text_1\">\n      <!-- 0 -->\n      <defs>\n       <path d=\"M 31.78125 66.40625 \nQ 24.171875 66.40625 20.328125 58.90625 \nQ 16.5 51.421875 16.5 36.375 \nQ 16.5 21.390625 20.328125 13.890625 \nQ 24.171875 6.390625 31.78125 6.390625 \nQ 39.453125 6.390625 43.28125 13.890625 \nQ 47.125 21.390625 47.125 36.375 \nQ 47.125 51.421875 43.28125 58.90625 \nQ 39.453125 66.40625 31.78125 66.40625 \nz\nM 31.78125 74.21875 \nQ 44.046875 74.21875 50.515625 64.515625 \nQ 56.984375 54.828125 56.984375 36.375 \nQ 56.984375 17.96875 50.515625 8.265625 \nQ 44.046875 -1.421875 31.78125 -1.421875 \nQ 19.53125 -1.421875 13.0625 8.265625 \nQ 6.59375 17.96875 6.59375 36.375 \nQ 6.59375 54.828125 13.0625 64.515625 \nQ 19.53125 74.21875 31.78125 74.21875 \nz\n\" id=\"DejaVuSans-48\"/>\n      </defs>\n      <g transform=\"translate(26.170536 159.070871)scale(0.1 -0.1)\">\n       <use xlink:href=\"#DejaVuSans-48\"/>\n      </g>\n     </g>\n    </g>\n    <g id=\"xtick_2\">\n     <g id=\"line2d_2\">\n      <g>\n       <use style=\"stroke:#000000;stroke-width:0.8;\" x=\"77.8875\" xlink:href=\"#m0cc0fef523\" y=\"144.472433\"/>\n      </g>\n     </g>\n     <g id=\"text_2\">\n      <!-- 10 -->\n      <defs>\n       <path d=\"M 12.40625 8.296875 \nL 28.515625 8.296875 \nL 28.515625 63.921875 \nL 10.984375 60.40625 \nL 10.984375 69.390625 \nL 28.421875 72.90625 \nL 38.28125 72.90625 \nL 38.28125 8.296875 \nL 54.390625 8.296875 \nL 54.390625 0 \nL 12.40625 0 \nz\n\" id=\"DejaVuSans-49\"/>\n      </defs>\n      <g transform=\"translate(71.525 159.070871)scale(0.1 -0.1)\">\n       <use xlink:href=\"#DejaVuSans-49\"/>\n       <use x=\"63.623047\" xlink:href=\"#DejaVuSans-48\"/>\n      </g>\n     </g>\n    </g>\n    <g id=\"xtick_3\">\n     <g id=\"line2d_3\">\n      <g>\n       <use style=\"stroke:#000000;stroke-width:0.8;\" x=\"126.423214\" xlink:href=\"#m0cc0fef523\" y=\"144.472433\"/>\n      </g>\n     </g>\n     <g id=\"text_3\">\n      <!-- 20 -->\n      <defs>\n       <path d=\"M 19.1875 8.296875 \nL 53.609375 8.296875 \nL 53.609375 0 \nL 7.328125 0 \nL 7.328125 8.296875 \nQ 12.9375 14.109375 22.625 23.890625 \nQ 32.328125 33.6875 34.8125 36.53125 \nQ 39.546875 41.84375 41.421875 45.53125 \nQ 43.3125 49.21875 43.3125 52.78125 \nQ 43.3125 58.59375 39.234375 62.25 \nQ 35.15625 65.921875 28.609375 65.921875 \nQ 23.96875 65.921875 18.8125 64.3125 \nQ 13.671875 62.703125 7.8125 59.421875 \nL 7.8125 69.390625 \nQ 13.765625 71.78125 18.9375 73 \nQ 24.125 74.21875 28.421875 74.21875 \nQ 39.75 74.21875 46.484375 68.546875 \nQ 53.21875 62.890625 53.21875 53.421875 \nQ 53.21875 48.921875 51.53125 44.890625 \nQ 49.859375 40.875 45.40625 35.40625 \nQ 44.1875 33.984375 37.640625 27.21875 \nQ 31.109375 20.453125 19.1875 8.296875 \nz\n\" id=\"DejaVuSans-50\"/>\n      </defs>\n      <g transform=\"translate(120.060714 159.070871)scale(0.1 -0.1)\">\n       <use xlink:href=\"#DejaVuSans-50\"/>\n       <use x=\"63.623047\" xlink:href=\"#DejaVuSans-48\"/>\n      </g>\n     </g>\n    </g>\n   </g>\n   <g id=\"matplotlib.axis_2\">\n    <g id=\"ytick_1\">\n     <g id=\"line2d_4\">\n      <defs>\n       <path d=\"M 0 0 \nL -3.5 0 \n\" id=\"m5501504745\" style=\"stroke:#000000;stroke-width:0.8;\"/>\n      </defs>\n      <g>\n       <use style=\"stroke:#000000;stroke-width:0.8;\" x=\"26.925\" xlink:href=\"#m5501504745\" y=\"10.999219\"/>\n      </g>\n     </g>\n     <g id=\"text_4\">\n      <!-- 0 -->\n      <g transform=\"translate(13.5625 14.798437)scale(0.1 -0.1)\">\n       <use xlink:href=\"#DejaVuSans-48\"/>\n      </g>\n     </g>\n    </g>\n    <g id=\"ytick_2\">\n     <g id=\"line2d_5\">\n      <g>\n       <use style=\"stroke:#000000;stroke-width:0.8;\" x=\"26.925\" xlink:href=\"#m5501504745\" y=\"35.267076\"/>\n      </g>\n     </g>\n     <g id=\"text_5\">\n      <!-- 5 -->\n      <defs>\n       <path d=\"M 10.796875 72.90625 \nL 49.515625 72.90625 \nL 49.515625 64.59375 \nL 19.828125 64.59375 \nL 19.828125 46.734375 \nQ 21.96875 47.46875 24.109375 47.828125 \nQ 26.265625 48.1875 28.421875 48.1875 \nQ 40.625 48.1875 47.75 41.5 \nQ 54.890625 34.8125 54.890625 23.390625 \nQ 54.890625 11.625 47.5625 5.09375 \nQ 40.234375 -1.421875 26.90625 -1.421875 \nQ 22.3125 -1.421875 17.546875 -0.640625 \nQ 12.796875 0.140625 7.71875 1.703125 \nL 7.71875 11.625 \nQ 12.109375 9.234375 16.796875 8.0625 \nQ 21.484375 6.890625 26.703125 6.890625 \nQ 35.15625 6.890625 40.078125 11.328125 \nQ 45.015625 15.765625 45.015625 23.390625 \nQ 45.015625 31 40.078125 35.4375 \nQ 35.15625 39.890625 26.703125 39.890625 \nQ 22.75 39.890625 18.8125 39.015625 \nQ 14.890625 38.140625 10.796875 36.28125 \nz\n\" id=\"DejaVuSans-53\"/>\n      </defs>\n      <g transform=\"translate(13.5625 39.066295)scale(0.1 -0.1)\">\n       <use xlink:href=\"#DejaVuSans-53\"/>\n      </g>\n     </g>\n    </g>\n    <g id=\"ytick_3\">\n     <g id=\"line2d_6\">\n      <g>\n       <use style=\"stroke:#000000;stroke-width:0.8;\" x=\"26.925\" xlink:href=\"#m5501504745\" y=\"59.534933\"/>\n      </g>\n     </g>\n     <g id=\"text_6\">\n      <!-- 10 -->\n      <g transform=\"translate(7.2 63.334152)scale(0.1 -0.1)\">\n       <use xlink:href=\"#DejaVuSans-49\"/>\n       <use x=\"63.623047\" xlink:href=\"#DejaVuSans-48\"/>\n      </g>\n     </g>\n    </g>\n    <g id=\"ytick_4\">\n     <g id=\"line2d_7\">\n      <g>\n       <use style=\"stroke:#000000;stroke-width:0.8;\" x=\"26.925\" xlink:href=\"#m5501504745\" y=\"83.80279\"/>\n      </g>\n     </g>\n     <g id=\"text_7\">\n      <!-- 15 -->\n      <g transform=\"translate(7.2 87.602009)scale(0.1 -0.1)\">\n       <use xlink:href=\"#DejaVuSans-49\"/>\n       <use x=\"63.623047\" xlink:href=\"#DejaVuSans-53\"/>\n      </g>\n     </g>\n    </g>\n    <g id=\"ytick_5\">\n     <g id=\"line2d_8\">\n      <g>\n       <use style=\"stroke:#000000;stroke-width:0.8;\" x=\"26.925\" xlink:href=\"#m5501504745\" y=\"108.070647\"/>\n      </g>\n     </g>\n     <g id=\"text_8\">\n      <!-- 20 -->\n      <g transform=\"translate(7.2 111.869866)scale(0.1 -0.1)\">\n       <use xlink:href=\"#DejaVuSans-50\"/>\n       <use x=\"63.623047\" xlink:href=\"#DejaVuSans-48\"/>\n      </g>\n     </g>\n    </g>\n    <g id=\"ytick_6\">\n     <g id=\"line2d_9\">\n      <g>\n       <use style=\"stroke:#000000;stroke-width:0.8;\" x=\"26.925\" xlink:href=\"#m5501504745\" y=\"132.338504\"/>\n      </g>\n     </g>\n     <g id=\"text_9\">\n      <!-- 25 -->\n      <g transform=\"translate(7.2 136.137723)scale(0.1 -0.1)\">\n       <use xlink:href=\"#DejaVuSans-50\"/>\n       <use x=\"63.623047\" xlink:href=\"#DejaVuSans-53\"/>\n      </g>\n     </g>\n    </g>\n   </g>\n   <g id=\"patch_3\">\n    <path d=\"M 26.925 144.472433 \nL 26.925 8.572433 \n\" style=\"fill:none;stroke:#000000;stroke-linecap:square;stroke-linejoin:miter;stroke-width:0.8;\"/>\n   </g>\n   <g id=\"patch_4\">\n    <path d=\"M 162.825 144.472433 \nL 162.825 8.572433 \n\" style=\"fill:none;stroke:#000000;stroke-linecap:square;stroke-linejoin:miter;stroke-width:0.8;\"/>\n   </g>\n   <g id=\"patch_5\">\n    <path d=\"M 26.925 144.472433 \nL 162.825 144.472433 \n\" style=\"fill:none;stroke:#000000;stroke-linecap:square;stroke-linejoin:miter;stroke-width:0.8;\"/>\n   </g>\n   <g id=\"patch_6\">\n    <path d=\"M 26.925 8.572433 \nL 162.825 8.572433 \n\" style=\"fill:none;stroke:#000000;stroke-linecap:square;stroke-linejoin:miter;stroke-width:0.8;\"/>\n   </g>\n  </g>\n </g>\n <defs>\n  <clipPath id=\"pe05c4920f6\">\n   <rect height=\"135.9\" width=\"135.9\" x=\"26.925\" y=\"8.572433\"/>\n  </clipPath>\n </defs>\n</svg>\n"
          },
          "metadata": {
            "needs_background": "light"
          }
        }
      ]
    },
    {
      "cell_type": "code",
      "source": [
        "d2l.set_figsize()\n",
        "d2l.plt.imshow(tf.reshape(ave_1, (28, 28)), cmap='Greys')\n",
        "d2l.plt.show()"
      ],
      "metadata": {
        "id": "z4H4Wy_vTkU2",
        "outputId": "d9863648-4782-4449-8c46-7d5dce580791",
        "colab": {
          "base_uri": "https://localhost:8080/"
        }
      },
      "execution_count": null,
      "outputs": [
        {
          "output_type": "display_data",
          "data": {
            "text/plain": [
              "<Figure size 252x180 with 1 Axes>"
            ],
            "image/svg+xml": "<?xml version=\"1.0\" encoding=\"utf-8\" standalone=\"no\"?>\n<!DOCTYPE svg PUBLIC \"-//W3C//DTD SVG 1.1//EN\"\n  \"http://www.w3.org/Graphics/SVG/1.1/DTD/svg11.dtd\">\n<!-- Created with matplotlib (https://matplotlib.org/) -->\n<svg height=\"168.350558pt\" version=\"1.1\" viewBox=\"0 0 170.025 168.350558\" width=\"170.025pt\" xmlns=\"http://www.w3.org/2000/svg\" xmlns:xlink=\"http://www.w3.org/1999/xlink\">\n <defs>\n  <style type=\"text/css\">\n*{stroke-linecap:butt;stroke-linejoin:round;}\n  </style>\n </defs>\n <g id=\"figure_1\">\n  <g id=\"patch_1\">\n   <path d=\"M 0 168.350558 \nL 170.025 168.350558 \nL 170.025 0 \nL 0 0 \nz\n\" style=\"fill:none;\"/>\n  </g>\n  <g id=\"axes_1\">\n   <g id=\"patch_2\">\n    <path d=\"M 26.925 144.472433 \nL 162.825 144.472433 \nL 162.825 8.572433 \nL 26.925 8.572433 \nz\n\" style=\"fill:#ffffff;\"/>\n   </g>\n   <g clip-path=\"url(#pa93ad487f0)\">\n    <image height=\"136\" id=\"image28f5407f7a\" transform=\"scale(1 -1)translate(0 -136)\" width=\"136\" x=\"26.925\" xlink:href=\"data:image/png;base64,\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\" y=\"-8.472433\"/>\n   </g>\n   <g id=\"matplotlib.axis_1\">\n    <g id=\"xtick_1\">\n     <g id=\"line2d_1\">\n      <defs>\n       <path d=\"M 0 0 \nL 0 3.5 \n\" id=\"m4106680752\" style=\"stroke:#000000;stroke-width:0.8;\"/>\n      </defs>\n      <g>\n       <use style=\"stroke:#000000;stroke-width:0.8;\" x=\"29.351786\" xlink:href=\"#m4106680752\" y=\"144.472433\"/>\n      </g>\n     </g>\n     <g id=\"text_1\">\n      <!-- 0 -->\n      <defs>\n       <path d=\"M 31.78125 66.40625 \nQ 24.171875 66.40625 20.328125 58.90625 \nQ 16.5 51.421875 16.5 36.375 \nQ 16.5 21.390625 20.328125 13.890625 \nQ 24.171875 6.390625 31.78125 6.390625 \nQ 39.453125 6.390625 43.28125 13.890625 \nQ 47.125 21.390625 47.125 36.375 \nQ 47.125 51.421875 43.28125 58.90625 \nQ 39.453125 66.40625 31.78125 66.40625 \nz\nM 31.78125 74.21875 \nQ 44.046875 74.21875 50.515625 64.515625 \nQ 56.984375 54.828125 56.984375 36.375 \nQ 56.984375 17.96875 50.515625 8.265625 \nQ 44.046875 -1.421875 31.78125 -1.421875 \nQ 19.53125 -1.421875 13.0625 8.265625 \nQ 6.59375 17.96875 6.59375 36.375 \nQ 6.59375 54.828125 13.0625 64.515625 \nQ 19.53125 74.21875 31.78125 74.21875 \nz\n\" id=\"DejaVuSans-48\"/>\n      </defs>\n      <g transform=\"translate(26.170536 159.070871)scale(0.1 -0.1)\">\n       <use xlink:href=\"#DejaVuSans-48\"/>\n      </g>\n     </g>\n    </g>\n    <g id=\"xtick_2\">\n     <g id=\"line2d_2\">\n      <g>\n       <use style=\"stroke:#000000;stroke-width:0.8;\" x=\"77.8875\" xlink:href=\"#m4106680752\" y=\"144.472433\"/>\n      </g>\n     </g>\n     <g id=\"text_2\">\n      <!-- 10 -->\n      <defs>\n       <path d=\"M 12.40625 8.296875 \nL 28.515625 8.296875 \nL 28.515625 63.921875 \nL 10.984375 60.40625 \nL 10.984375 69.390625 \nL 28.421875 72.90625 \nL 38.28125 72.90625 \nL 38.28125 8.296875 \nL 54.390625 8.296875 \nL 54.390625 0 \nL 12.40625 0 \nz\n\" id=\"DejaVuSans-49\"/>\n      </defs>\n      <g transform=\"translate(71.525 159.070871)scale(0.1 -0.1)\">\n       <use xlink:href=\"#DejaVuSans-49\"/>\n       <use x=\"63.623047\" xlink:href=\"#DejaVuSans-48\"/>\n      </g>\n     </g>\n    </g>\n    <g id=\"xtick_3\">\n     <g id=\"line2d_3\">\n      <g>\n       <use style=\"stroke:#000000;stroke-width:0.8;\" x=\"126.423214\" xlink:href=\"#m4106680752\" y=\"144.472433\"/>\n      </g>\n     </g>\n     <g id=\"text_3\">\n      <!-- 20 -->\n      <defs>\n       <path d=\"M 19.1875 8.296875 \nL 53.609375 8.296875 \nL 53.609375 0 \nL 7.328125 0 \nL 7.328125 8.296875 \nQ 12.9375 14.109375 22.625 23.890625 \nQ 32.328125 33.6875 34.8125 36.53125 \nQ 39.546875 41.84375 41.421875 45.53125 \nQ 43.3125 49.21875 43.3125 52.78125 \nQ 43.3125 58.59375 39.234375 62.25 \nQ 35.15625 65.921875 28.609375 65.921875 \nQ 23.96875 65.921875 18.8125 64.3125 \nQ 13.671875 62.703125 7.8125 59.421875 \nL 7.8125 69.390625 \nQ 13.765625 71.78125 18.9375 73 \nQ 24.125 74.21875 28.421875 74.21875 \nQ 39.75 74.21875 46.484375 68.546875 \nQ 53.21875 62.890625 53.21875 53.421875 \nQ 53.21875 48.921875 51.53125 44.890625 \nQ 49.859375 40.875 45.40625 35.40625 \nQ 44.1875 33.984375 37.640625 27.21875 \nQ 31.109375 20.453125 19.1875 8.296875 \nz\n\" id=\"DejaVuSans-50\"/>\n      </defs>\n      <g transform=\"translate(120.060714 159.070871)scale(0.1 -0.1)\">\n       <use xlink:href=\"#DejaVuSans-50\"/>\n       <use x=\"63.623047\" xlink:href=\"#DejaVuSans-48\"/>\n      </g>\n     </g>\n    </g>\n   </g>\n   <g id=\"matplotlib.axis_2\">\n    <g id=\"ytick_1\">\n     <g id=\"line2d_4\">\n      <defs>\n       <path d=\"M 0 0 \nL -3.5 0 \n\" id=\"mcd19ff2e1d\" style=\"stroke:#000000;stroke-width:0.8;\"/>\n      </defs>\n      <g>\n       <use style=\"stroke:#000000;stroke-width:0.8;\" x=\"26.925\" xlink:href=\"#mcd19ff2e1d\" y=\"10.999219\"/>\n      </g>\n     </g>\n     <g id=\"text_4\">\n      <!-- 0 -->\n      <g transform=\"translate(13.5625 14.798437)scale(0.1 -0.1)\">\n       <use xlink:href=\"#DejaVuSans-48\"/>\n      </g>\n     </g>\n    </g>\n    <g id=\"ytick_2\">\n     <g id=\"line2d_5\">\n      <g>\n       <use style=\"stroke:#000000;stroke-width:0.8;\" x=\"26.925\" xlink:href=\"#mcd19ff2e1d\" y=\"35.267076\"/>\n      </g>\n     </g>\n     <g id=\"text_5\">\n      <!-- 5 -->\n      <defs>\n       <path d=\"M 10.796875 72.90625 \nL 49.515625 72.90625 \nL 49.515625 64.59375 \nL 19.828125 64.59375 \nL 19.828125 46.734375 \nQ 21.96875 47.46875 24.109375 47.828125 \nQ 26.265625 48.1875 28.421875 48.1875 \nQ 40.625 48.1875 47.75 41.5 \nQ 54.890625 34.8125 54.890625 23.390625 \nQ 54.890625 11.625 47.5625 5.09375 \nQ 40.234375 -1.421875 26.90625 -1.421875 \nQ 22.3125 -1.421875 17.546875 -0.640625 \nQ 12.796875 0.140625 7.71875 1.703125 \nL 7.71875 11.625 \nQ 12.109375 9.234375 16.796875 8.0625 \nQ 21.484375 6.890625 26.703125 6.890625 \nQ 35.15625 6.890625 40.078125 11.328125 \nQ 45.015625 15.765625 45.015625 23.390625 \nQ 45.015625 31 40.078125 35.4375 \nQ 35.15625 39.890625 26.703125 39.890625 \nQ 22.75 39.890625 18.8125 39.015625 \nQ 14.890625 38.140625 10.796875 36.28125 \nz\n\" id=\"DejaVuSans-53\"/>\n      </defs>\n      <g transform=\"translate(13.5625 39.066295)scale(0.1 -0.1)\">\n       <use xlink:href=\"#DejaVuSans-53\"/>\n      </g>\n     </g>\n    </g>\n    <g id=\"ytick_3\">\n     <g id=\"line2d_6\">\n      <g>\n       <use style=\"stroke:#000000;stroke-width:0.8;\" x=\"26.925\" xlink:href=\"#mcd19ff2e1d\" y=\"59.534933\"/>\n      </g>\n     </g>\n     <g id=\"text_6\">\n      <!-- 10 -->\n      <g transform=\"translate(7.2 63.334152)scale(0.1 -0.1)\">\n       <use xlink:href=\"#DejaVuSans-49\"/>\n       <use x=\"63.623047\" xlink:href=\"#DejaVuSans-48\"/>\n      </g>\n     </g>\n    </g>\n    <g id=\"ytick_4\">\n     <g id=\"line2d_7\">\n      <g>\n       <use style=\"stroke:#000000;stroke-width:0.8;\" x=\"26.925\" xlink:href=\"#mcd19ff2e1d\" y=\"83.80279\"/>\n      </g>\n     </g>\n     <g id=\"text_7\">\n      <!-- 15 -->\n      <g transform=\"translate(7.2 87.602009)scale(0.1 -0.1)\">\n       <use xlink:href=\"#DejaVuSans-49\"/>\n       <use x=\"63.623047\" xlink:href=\"#DejaVuSans-53\"/>\n      </g>\n     </g>\n    </g>\n    <g id=\"ytick_5\">\n     <g id=\"line2d_8\">\n      <g>\n       <use style=\"stroke:#000000;stroke-width:0.8;\" x=\"26.925\" xlink:href=\"#mcd19ff2e1d\" y=\"108.070647\"/>\n      </g>\n     </g>\n     <g id=\"text_8\">\n      <!-- 20 -->\n      <g transform=\"translate(7.2 111.869866)scale(0.1 -0.1)\">\n       <use xlink:href=\"#DejaVuSans-50\"/>\n       <use x=\"63.623047\" xlink:href=\"#DejaVuSans-48\"/>\n      </g>\n     </g>\n    </g>\n    <g id=\"ytick_6\">\n     <g id=\"line2d_9\">\n      <g>\n       <use style=\"stroke:#000000;stroke-width:0.8;\" x=\"26.925\" xlink:href=\"#mcd19ff2e1d\" y=\"132.338504\"/>\n      </g>\n     </g>\n     <g id=\"text_9\">\n      <!-- 25 -->\n      <g transform=\"translate(7.2 136.137723)scale(0.1 -0.1)\">\n       <use xlink:href=\"#DejaVuSans-50\"/>\n       <use x=\"63.623047\" xlink:href=\"#DejaVuSans-53\"/>\n      </g>\n     </g>\n    </g>\n   </g>\n   <g id=\"patch_3\">\n    <path d=\"M 26.925 144.472433 \nL 26.925 8.572433 \n\" style=\"fill:none;stroke:#000000;stroke-linecap:square;stroke-linejoin:miter;stroke-width:0.8;\"/>\n   </g>\n   <g id=\"patch_4\">\n    <path d=\"M 162.825 144.472433 \nL 162.825 8.572433 \n\" style=\"fill:none;stroke:#000000;stroke-linecap:square;stroke-linejoin:miter;stroke-width:0.8;\"/>\n   </g>\n   <g id=\"patch_5\">\n    <path d=\"M 26.925 144.472433 \nL 162.825 144.472433 \n\" style=\"fill:none;stroke:#000000;stroke-linecap:square;stroke-linejoin:miter;stroke-width:0.8;\"/>\n   </g>\n   <g id=\"patch_6\">\n    <path d=\"M 26.925 8.572433 \nL 162.825 8.572433 \n\" style=\"fill:none;stroke:#000000;stroke-linecap:square;stroke-linejoin:miter;stroke-width:0.8;\"/>\n   </g>\n  </g>\n </g>\n <defs>\n  <clipPath id=\"pa93ad487f0\">\n   <rect height=\"135.9\" width=\"135.9\" x=\"26.925\" y=\"8.572433\"/>\n  </clipPath>\n </defs>\n</svg>\n"
          },
          "metadata": {
            "needs_background": "light"
          }
        }
      ]
    }
  ]
}