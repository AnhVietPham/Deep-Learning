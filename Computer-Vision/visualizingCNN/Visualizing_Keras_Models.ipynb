{
  "nbformat": 4,
  "nbformat_minor": 0,
  "metadata": {
    "colab": {
      "name": "Visualizing-Keras-Models.ipynb",
      "provenance": [],
      "authorship_tag": "ABX9TyP/fsWdnpQX/9cbaT7bCW7M",
      "include_colab_link": true
    },
    "kernelspec": {
      "name": "python3",
      "display_name": "Python 3"
    },
    "language_info": {
      "name": "python"
    }
  },
  "cells": [
    {
      "cell_type": "markdown",
      "metadata": {
        "id": "view-in-github",
        "colab_type": "text"
      },
      "source": [
        "<a href=\"https://colab.research.google.com/github/AnhVietPham/Deep-Learning/blob/main/Computer-Vision/visualizingCNN/Visualizing_Keras_Models.ipynb\" target=\"_parent\"><img src=\"https://colab.research.google.com/assets/colab-badge.svg\" alt=\"Open In Colab\"/></a>"
      ]
    },
    {
      "cell_type": "code",
      "metadata": {
        "colab": {
          "base_uri": "https://localhost:8080/"
        },
        "id": "yFztG2oWry2M",
        "outputId": "c892bcdc-942f-49d6-b815-1615b4251cee"
      },
      "source": [
        "!pip3 install keras-visualizer"
      ],
      "execution_count": 2,
      "outputs": [
        {
          "output_type": "stream",
          "text": [
            "Collecting keras-visualizer\n",
            "  Downloading keras_visualizer-2.4-py3-none-any.whl (5.4 kB)\n",
            "Installing collected packages: keras-visualizer\n",
            "Successfully installed keras-visualizer-2.4\n"
          ],
          "name": "stdout"
        }
      ]
    },
    {
      "cell_type": "code",
      "metadata": {
        "id": "kaKtlP_grqWq"
      },
      "source": [
        "from sklearn.datasets import make_circles\n",
        "from sklearn.preprocessing import MinMaxScaler\n",
        "from keras.layers import Dense\n",
        "from keras.models import Sequential\n",
        "from keras.optimizers import SGD\n",
        "from keras.initializers import RandomUniform\n",
        "from matplotlib import pyplot\n",
        "from keras_visualizer import visualizer"
      ],
      "execution_count": 3,
      "outputs": []
    },
    {
      "cell_type": "code",
      "metadata": {
        "id": "aqJyv8dzruAy"
      },
      "source": [
        "X, y = make_circles(n_samples=1000, noise=0.1, random_state=1)\n",
        "scaler = MinMaxScaler(feature_range=(-1, 1))\n",
        "X = scaler.fit_transform(X)\n",
        "n_train = 500\n",
        "trainX, testX = X[:n_train, :], X[n_train:, :]\n",
        "trainY, testY = y[:n_train], y[n_train:]"
      ],
      "execution_count": 4,
      "outputs": []
    },
    {
      "cell_type": "code",
      "metadata": {
        "colab": {
          "base_uri": "https://localhost:8080/"
        },
        "id": "S6L-WKTWr5BK",
        "outputId": "b9a335fc-9602-4824-a5e5-6892f956f727"
      },
      "source": [
        "model = Sequential()\n",
        "init = RandomUniform(minval=0.0, maxval=1.0)\n",
        "model.add(Dense(5, input_dim=2, activation='tanh', kernel_initializer=init))\n",
        "model.add(Dense(1, activation='sigmoid', kernel_initializer=init))\n",
        "model.summary()"
      ],
      "execution_count": 5,
      "outputs": [
        {
          "output_type": "stream",
          "text": [
            "Model: \"sequential\"\n",
            "_________________________________________________________________\n",
            "Layer (type)                 Output Shape              Param #   \n",
            "=================================================================\n",
            "dense (Dense)                (None, 5)                 15        \n",
            "_________________________________________________________________\n",
            "dense_1 (Dense)              (None, 1)                 6         \n",
            "=================================================================\n",
            "Total params: 21\n",
            "Trainable params: 21\n",
            "Non-trainable params: 0\n",
            "_________________________________________________________________\n"
          ],
          "name": "stdout"
        }
      ]
    },
    {
      "cell_type": "code",
      "metadata": {
        "id": "Gw7lp9gqsCEV"
      },
      "source": [
        "visualizer(model, format='png', view=True)"
      ],
      "execution_count": 10,
      "outputs": []
    },
    {
      "cell_type": "code",
      "metadata": {
        "colab": {
          "base_uri": "https://localhost:8080/"
        },
        "id": "smNfhFLJsaf7",
        "outputId": "d982b0f2-b1b0-461a-8aba-32247c7b2b15"
      },
      "source": [
        "model1 = Sequential()  \n",
        "model1.add(Dense(16, input_shape=(784,)))\n",
        "model1.add(Dense(8))\n",
        "model1.add(Dense(4))\n",
        "model1.summary()"
      ],
      "execution_count": 8,
      "outputs": [
        {
          "output_type": "stream",
          "text": [
            "Model: \"sequential_1\"\n",
            "_________________________________________________________________\n",
            "Layer (type)                 Output Shape              Param #   \n",
            "=================================================================\n",
            "dense_2 (Dense)              (None, 16)                12560     \n",
            "_________________________________________________________________\n",
            "dense_3 (Dense)              (None, 8)                 136       \n",
            "_________________________________________________________________\n",
            "dense_4 (Dense)              (None, 4)                 36        \n",
            "=================================================================\n",
            "Total params: 12,732\n",
            "Trainable params: 12,732\n",
            "Non-trainable params: 0\n",
            "_________________________________________________________________\n"
          ],
          "name": "stdout"
        }
      ]
    },
    {
      "cell_type": "code",
      "metadata": {
        "id": "-Y4PAQHAsr1T"
      },
      "source": [
        "visualizer(model1, format='png', view=True)"
      ],
      "execution_count": 9,
      "outputs": []
    }
  ]
}